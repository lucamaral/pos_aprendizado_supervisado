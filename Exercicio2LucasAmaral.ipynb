{
  "nbformat": 4,
  "nbformat_minor": 0,
  "metadata": {
    "colab": {
      "name": "Exercicio2LucasAmaral",
      "provenance": [],
      "collapsed_sections": [],
      "authorship_tag": "ABX9TyOrZCCO9/vuKh6wUpod1bfD",
      "include_colab_link": true
    },
    "kernelspec": {
      "name": "python3",
      "display_name": "Python 3"
    }
  },
  "cells": [
    {
      "cell_type": "markdown",
      "metadata": {
        "id": "view-in-github",
        "colab_type": "text"
      },
      "source": [
        "<a href=\"https://colab.research.google.com/github/lucamaral/pos_aprendizado_supervisionado/blob/master/Exercicio2LucasAmaral.ipynb\" target=\"_parent\"><img src=\"https://colab.research.google.com/assets/colab-badge.svg\" alt=\"Open In Colab\"/></a>"
      ]
    },
    {
      "cell_type": "code",
      "metadata": {
        "id": "5vvGe6C0NUXJ",
        "colab_type": "code",
        "colab": {}
      },
      "source": [
        "import numpy as np\n",
        "import pandas as pd\n",
        "import matplotlib.pyplot as plt\n",
        "import seaborn as sns\n",
        "from scipy.stats import chi2_contingency\n",
        "from sklearn.preprocessing import KBinsDiscretizer"
      ],
      "execution_count": 1631,
      "outputs": []
    },
    {
      "cell_type": "code",
      "metadata": {
        "id": "PJh5t3Y5Nt1V",
        "colab_type": "code",
        "colab": {}
      },
      "source": [
        "df_churn = pd.read_csv('telco_customer_churn.csv', sep = ',', decimal = '.')"
      ],
      "execution_count": 1632,
      "outputs": []
    },
    {
      "cell_type": "markdown",
      "metadata": {
        "id": "doKTvLLwN0ia",
        "colab_type": "text"
      },
      "source": [
        "## Análise das variáveis"
      ]
    },
    {
      "cell_type": "code",
      "metadata": {
        "id": "PAMkamD1N2WF",
        "colab_type": "code",
        "colab": {
          "base_uri": "https://localhost:8080/",
          "height": 309
        },
        "outputId": "5a65d9de-7920-41c8-d3b1-047024a3a3a0"
      },
      "source": [
        "df_churn.head()"
      ],
      "execution_count": 1633,
      "outputs": [
        {
          "output_type": "execute_result",
          "data": {
            "text/html": [
              "<div>\n",
              "<style scoped>\n",
              "    .dataframe tbody tr th:only-of-type {\n",
              "        vertical-align: middle;\n",
              "    }\n",
              "\n",
              "    .dataframe tbody tr th {\n",
              "        vertical-align: top;\n",
              "    }\n",
              "\n",
              "    .dataframe thead th {\n",
              "        text-align: right;\n",
              "    }\n",
              "</style>\n",
              "<table border=\"1\" class=\"dataframe\">\n",
              "  <thead>\n",
              "    <tr style=\"text-align: right;\">\n",
              "      <th></th>\n",
              "      <th>customerID</th>\n",
              "      <th>gender</th>\n",
              "      <th>SeniorCitizen</th>\n",
              "      <th>Partner</th>\n",
              "      <th>Dependents</th>\n",
              "      <th>tenure</th>\n",
              "      <th>PhoneService</th>\n",
              "      <th>MultipleLines</th>\n",
              "      <th>InternetService</th>\n",
              "      <th>OnlineSecurity</th>\n",
              "      <th>OnlineBackup</th>\n",
              "      <th>DeviceProtection</th>\n",
              "      <th>TechSupport</th>\n",
              "      <th>StreamingTV</th>\n",
              "      <th>StreamingMovies</th>\n",
              "      <th>Contract</th>\n",
              "      <th>PaperlessBilling</th>\n",
              "      <th>PaymentMethod</th>\n",
              "      <th>MonthlyCharges</th>\n",
              "      <th>TotalCharges</th>\n",
              "      <th>Churn</th>\n",
              "    </tr>\n",
              "  </thead>\n",
              "  <tbody>\n",
              "    <tr>\n",
              "      <th>0</th>\n",
              "      <td>7590-VHVEG</td>\n",
              "      <td>Female</td>\n",
              "      <td>0</td>\n",
              "      <td>Yes</td>\n",
              "      <td>No</td>\n",
              "      <td>1</td>\n",
              "      <td>No</td>\n",
              "      <td>No phone service</td>\n",
              "      <td>DSL</td>\n",
              "      <td>No</td>\n",
              "      <td>Yes</td>\n",
              "      <td>No</td>\n",
              "      <td>No</td>\n",
              "      <td>No</td>\n",
              "      <td>No</td>\n",
              "      <td>Month-to-month</td>\n",
              "      <td>Yes</td>\n",
              "      <td>Electronic check</td>\n",
              "      <td>29.85</td>\n",
              "      <td>29.85</td>\n",
              "      <td>No</td>\n",
              "    </tr>\n",
              "    <tr>\n",
              "      <th>1</th>\n",
              "      <td>5575-GNVDE</td>\n",
              "      <td>Male</td>\n",
              "      <td>0</td>\n",
              "      <td>No</td>\n",
              "      <td>No</td>\n",
              "      <td>34</td>\n",
              "      <td>Yes</td>\n",
              "      <td>No</td>\n",
              "      <td>DSL</td>\n",
              "      <td>Yes</td>\n",
              "      <td>No</td>\n",
              "      <td>Yes</td>\n",
              "      <td>No</td>\n",
              "      <td>No</td>\n",
              "      <td>No</td>\n",
              "      <td>One year</td>\n",
              "      <td>No</td>\n",
              "      <td>Mailed check</td>\n",
              "      <td>56.95</td>\n",
              "      <td>1889.5</td>\n",
              "      <td>No</td>\n",
              "    </tr>\n",
              "    <tr>\n",
              "      <th>2</th>\n",
              "      <td>3668-QPYBK</td>\n",
              "      <td>Male</td>\n",
              "      <td>0</td>\n",
              "      <td>No</td>\n",
              "      <td>No</td>\n",
              "      <td>2</td>\n",
              "      <td>Yes</td>\n",
              "      <td>No</td>\n",
              "      <td>DSL</td>\n",
              "      <td>Yes</td>\n",
              "      <td>Yes</td>\n",
              "      <td>No</td>\n",
              "      <td>No</td>\n",
              "      <td>No</td>\n",
              "      <td>No</td>\n",
              "      <td>Month-to-month</td>\n",
              "      <td>Yes</td>\n",
              "      <td>Mailed check</td>\n",
              "      <td>53.85</td>\n",
              "      <td>108.15</td>\n",
              "      <td>Yes</td>\n",
              "    </tr>\n",
              "    <tr>\n",
              "      <th>3</th>\n",
              "      <td>7795-CFOCW</td>\n",
              "      <td>Male</td>\n",
              "      <td>0</td>\n",
              "      <td>No</td>\n",
              "      <td>No</td>\n",
              "      <td>45</td>\n",
              "      <td>No</td>\n",
              "      <td>No phone service</td>\n",
              "      <td>DSL</td>\n",
              "      <td>Yes</td>\n",
              "      <td>No</td>\n",
              "      <td>Yes</td>\n",
              "      <td>Yes</td>\n",
              "      <td>No</td>\n",
              "      <td>No</td>\n",
              "      <td>One year</td>\n",
              "      <td>No</td>\n",
              "      <td>Bank transfer (automatic)</td>\n",
              "      <td>42.30</td>\n",
              "      <td>1840.75</td>\n",
              "      <td>No</td>\n",
              "    </tr>\n",
              "    <tr>\n",
              "      <th>4</th>\n",
              "      <td>9237-HQITU</td>\n",
              "      <td>Female</td>\n",
              "      <td>0</td>\n",
              "      <td>No</td>\n",
              "      <td>No</td>\n",
              "      <td>2</td>\n",
              "      <td>Yes</td>\n",
              "      <td>No</td>\n",
              "      <td>Fiber optic</td>\n",
              "      <td>No</td>\n",
              "      <td>No</td>\n",
              "      <td>No</td>\n",
              "      <td>No</td>\n",
              "      <td>No</td>\n",
              "      <td>No</td>\n",
              "      <td>Month-to-month</td>\n",
              "      <td>Yes</td>\n",
              "      <td>Electronic check</td>\n",
              "      <td>70.70</td>\n",
              "      <td>151.65</td>\n",
              "      <td>Yes</td>\n",
              "    </tr>\n",
              "  </tbody>\n",
              "</table>\n",
              "</div>"
            ],
            "text/plain": [
              "   customerID  gender  SeniorCitizen  ... MonthlyCharges TotalCharges  Churn\n",
              "0  7590-VHVEG  Female              0  ...          29.85        29.85     No\n",
              "1  5575-GNVDE    Male              0  ...          56.95       1889.5     No\n",
              "2  3668-QPYBK    Male              0  ...          53.85       108.15    Yes\n",
              "3  7795-CFOCW    Male              0  ...          42.30      1840.75     No\n",
              "4  9237-HQITU  Female              0  ...          70.70       151.65    Yes\n",
              "\n",
              "[5 rows x 21 columns]"
            ]
          },
          "metadata": {
            "tags": []
          },
          "execution_count": 1633
        }
      ]
    },
    {
      "cell_type": "code",
      "metadata": {
        "id": "YG3rEWaRN5XN",
        "colab_type": "code",
        "colab": {
          "base_uri": "https://localhost:8080/",
          "height": 493
        },
        "outputId": "d1d51f42-431a-4d2e-f1cb-f1d0e30b5b1b"
      },
      "source": [
        "df_churn.info()"
      ],
      "execution_count": 1634,
      "outputs": [
        {
          "output_type": "stream",
          "text": [
            "<class 'pandas.core.frame.DataFrame'>\n",
            "RangeIndex: 7043 entries, 0 to 7042\n",
            "Data columns (total 21 columns):\n",
            " #   Column            Non-Null Count  Dtype  \n",
            "---  ------            --------------  -----  \n",
            " 0   customerID        7043 non-null   object \n",
            " 1   gender            7043 non-null   object \n",
            " 2   SeniorCitizen     7043 non-null   int64  \n",
            " 3   Partner           7043 non-null   object \n",
            " 4   Dependents        7043 non-null   object \n",
            " 5   tenure            7043 non-null   int64  \n",
            " 6   PhoneService      7043 non-null   object \n",
            " 7   MultipleLines     7043 non-null   object \n",
            " 8   InternetService   7043 non-null   object \n",
            " 9   OnlineSecurity    7043 non-null   object \n",
            " 10  OnlineBackup      7043 non-null   object \n",
            " 11  DeviceProtection  7043 non-null   object \n",
            " 12  TechSupport       7043 non-null   object \n",
            " 13  StreamingTV       7043 non-null   object \n",
            " 14  StreamingMovies   7043 non-null   object \n",
            " 15  Contract          7043 non-null   object \n",
            " 16  PaperlessBilling  7043 non-null   object \n",
            " 17  PaymentMethod     7043 non-null   object \n",
            " 18  MonthlyCharges    7043 non-null   float64\n",
            " 19  TotalCharges      7043 non-null   object \n",
            " 20  Churn             7043 non-null   object \n",
            "dtypes: float64(1), int64(2), object(18)\n",
            "memory usage: 1.1+ MB\n"
          ],
          "name": "stdout"
        }
      ]
    },
    {
      "cell_type": "code",
      "metadata": {
        "id": "B-p0roZFN-BX",
        "colab_type": "code",
        "colab": {}
      },
      "source": [
        "def densityChart (col: str): \n",
        "  print('Verificando variavel ' + col)\n",
        "  df_churn[col].plot.density()\n",
        "def boxChart (col: str):\n",
        "  print('Verificando variavel ' + col)\n",
        "  df_churn[col].plot.box()\n",
        "def barChart (col: str):\n",
        "  print('Verificando variavel ' + col)\n",
        "  df_churn[col].plot.bar()\n",
        "def pieChart (col: str): \n",
        "  print('Verificando variavel ' + col)\n",
        "  df_churn[col].value_counts().plot.pie()\n",
        "def crosstab (col: str):\n",
        "  print('Gerando cruzamento entre variável ' + col + ' e variável Churn')\n",
        "  ct = pd.crosstab(df_churn.Churn, df_churn[col])\n",
        "  print(ct)\n",
        "  checkDependency(ct)\n",
        "def checkDependency (ct): \n",
        "  stats, p_value, dof, _ = chi2_contingency(ct)\n",
        "  alpha = 0.05\n",
        "  if p_value < alpha:\n",
        "      print('Rejeita o hipótese nula. As variáveis são dependentes')\n",
        "  else:\n",
        "      print('Aceita o hipótese nula. As variáveis são independentes.')"
      ],
      "execution_count": 1635,
      "outputs": []
    },
    {
      "cell_type": "markdown",
      "metadata": {
        "id": "1WXocVMGOcJd",
        "colab_type": "text"
      },
      "source": [
        "### Gender"
      ]
    },
    {
      "cell_type": "code",
      "metadata": {
        "id": "1hzGaZivOdsq",
        "colab_type": "code",
        "colab": {
          "base_uri": "https://localhost:8080/",
          "height": 265
        },
        "outputId": "435c496a-b5f9-4165-c3a9-216f1c30e6b4"
      },
      "source": [
        "pieChart('gender')\n",
        "\n",
        "# Sem problemas com os valores e balanceado"
      ],
      "execution_count": 1636,
      "outputs": [
        {
          "output_type": "stream",
          "text": [
            "Verificando variavel gender\n"
          ],
          "name": "stdout"
        },
        {
          "output_type": "display_data",
          "data": {
            "image/png": "[encoded data removed]",
            "text/plain": [
              "<Figure size 432x288 with 1 Axes>"
            ]
          },
          "metadata": {
            "tags": []
          }
        }
      ]
    },
    {
      "cell_type": "code",
      "metadata": {
        "id": "Sq5bzKaRTRno",
        "colab_type": "code",
        "colab": {
          "base_uri": "https://localhost:8080/",
          "height": 119
        },
        "outputId": "7df999c8-5b43-4dbc-d159-90dcdc3610b5"
      },
      "source": [
        "crosstab('gender')"
      ],
      "execution_count": 1637,
      "outputs": [
        {
          "output_type": "stream",
          "text": [
            "Gerando cruzamento entre variável gender e variável Churn\n",
            "gender  Female  Male\n",
            "Churn               \n",
            "No        2549  2625\n",
            "Yes        939   930\n",
            "Aceita o hipótese nula. As variáveis são independentes.\n"
          ],
          "name": "stdout"
        }
      ]
    },
    {
      "cell_type": "markdown",
      "metadata": {
        "id": "Gy7Af5HbOwCO",
        "colab_type": "text"
      },
      "source": [
        "### SeniorCitizen"
      ]
    },
    {
      "cell_type": "code",
      "metadata": {
        "id": "H8UxpYrnOftK",
        "colab_type": "code",
        "colab": {
          "base_uri": "https://localhost:8080/",
          "height": 265
        },
        "outputId": "93daec92-51e3-4c81-be35-b08d8ad34dc2"
      },
      "source": [
        "pieChart('SeniorCitizen')\n",
        "# Maioria 0, sem problemas com os valores."
      ],
      "execution_count": 1638,
      "outputs": [
        {
          "output_type": "stream",
          "text": [
            "Verificando variavel SeniorCitizen\n"
          ],
          "name": "stdout"
        },
        {
          "output_type": "display_data",
          "data": {
            "image/png": "[encoded data removed]",
            "text/plain": [
              "<Figure size 432x288 with 1 Axes>"
            ]
          },
          "metadata": {
            "tags": []
          }
        }
      ]
    },
    {
      "cell_type": "code",
      "metadata": {
        "id": "oTgxiLq8UKpO",
        "colab_type": "code",
        "colab": {
          "base_uri": "https://localhost:8080/",
          "height": 119
        },
        "outputId": "c6106284-2b6a-4e15-e8b8-b3c950dc21fc"
      },
      "source": [
        "crosstab('SeniorCitizen')"
      ],
      "execution_count": 1639,
      "outputs": [
        {
          "output_type": "stream",
          "text": [
            "Gerando cruzamento entre variável SeniorCitizen e variável Churn\n",
            "SeniorCitizen     0    1\n",
            "Churn                   \n",
            "No             4508  666\n",
            "Yes            1393  476\n",
            "Rejeita o hipótese nula. As variáveis são dependentes\n"
          ],
          "name": "stdout"
        }
      ]
    },
    {
      "cell_type": "markdown",
      "metadata": {
        "id": "WitYoNboSTRx",
        "colab_type": "text"
      },
      "source": [
        "### Partner"
      ]
    },
    {
      "cell_type": "code",
      "metadata": {
        "id": "JcE8B8nYSVxa",
        "colab_type": "code",
        "colab": {
          "base_uri": "https://localhost:8080/",
          "height": 265
        },
        "outputId": "7b20f715-730e-4fa0-873c-11d6ad9756d4"
      },
      "source": [
        "pieChart('Partner')\n",
        "# Sem problemas nos valores e balanceado"
      ],
      "execution_count": 1640,
      "outputs": [
        {
          "output_type": "stream",
          "text": [
            "Verificando variavel Partner\n"
          ],
          "name": "stdout"
        },
        {
          "output_type": "display_data",
          "data": {
            "image/png": "[encoded data removed]",
            "text/plain": [
              "<Figure size 432x288 with 1 Axes>"
            ]
          },
          "metadata": {
            "tags": []
          }
        }
      ]
    },
    {
      "cell_type": "code",
      "metadata": {
        "id": "72W4PmH1UVRW",
        "colab_type": "code",
        "colab": {
          "base_uri": "https://localhost:8080/",
          "height": 119
        },
        "outputId": "4b613742-0122-43f5-d6a2-b79a081b71a8"
      },
      "source": [
        "crosstab('Partner')"
      ],
      "execution_count": 1641,
      "outputs": [
        {
          "output_type": "stream",
          "text": [
            "Gerando cruzamento entre variável Partner e variável Churn\n",
            "Partner    No   Yes\n",
            "Churn              \n",
            "No       2441  2733\n",
            "Yes      1200   669\n",
            "Rejeita o hipótese nula. As variáveis são dependentes\n"
          ],
          "name": "stdout"
        }
      ]
    },
    {
      "cell_type": "markdown",
      "metadata": {
        "id": "YWDwBUQTUaxJ",
        "colab_type": "text"
      },
      "source": [
        "### Dependents"
      ]
    },
    {
      "cell_type": "code",
      "metadata": {
        "id": "vMy1GJvoUqIp",
        "colab_type": "code",
        "colab": {
          "base_uri": "https://localhost:8080/",
          "height": 265
        },
        "outputId": "9fd82fdb-f3fb-474a-8665-548652a1854b"
      },
      "source": [
        "pieChart('Dependents')\n",
        "# Maioria No, sem problema nos valores"
      ],
      "execution_count": 1642,
      "outputs": [
        {
          "output_type": "stream",
          "text": [
            "Verificando variavel Dependents\n"
          ],
          "name": "stdout"
        },
        {
          "output_type": "display_data",
          "data": {
            "image/png": "[encoded data removed]",
            "text/plain": [
              "<Figure size 432x288 with 1 Axes>"
            ]
          },
          "metadata": {
            "tags": []
          }
        }
      ]
    },
    {
      "cell_type": "code",
      "metadata": {
        "id": "lv5TV-pDU0V-",
        "colab_type": "code",
        "colab": {
          "base_uri": "https://localhost:8080/",
          "height": 119
        },
        "outputId": "e0771153-bf79-4753-dc60-831dfe9dd17f"
      },
      "source": [
        "crosstab('Dependents')"
      ],
      "execution_count": 1643,
      "outputs": [
        {
          "output_type": "stream",
          "text": [
            "Gerando cruzamento entre variável Dependents e variável Churn\n",
            "Dependents    No   Yes\n",
            "Churn                 \n",
            "No          3390  1784\n",
            "Yes         1543   326\n",
            "Rejeita o hipótese nula. As variáveis são dependentes\n"
          ],
          "name": "stdout"
        }
      ]
    },
    {
      "cell_type": "markdown",
      "metadata": {
        "id": "6Dp3KwU2U502",
        "colab_type": "text"
      },
      "source": [
        "### Tenure"
      ]
    },
    {
      "cell_type": "code",
      "metadata": {
        "id": "JhoG1YcFU8OT",
        "colab_type": "code",
        "colab": {
          "base_uri": "https://localhost:8080/",
          "height": 282
        },
        "outputId": "57e89293-c555-480b-e5d4-765ca8fa0f20"
      },
      "source": [
        "densityChart('tenure')\n",
        "# Não segue uma distribuição normal"
      ],
      "execution_count": 1644,
      "outputs": [
        {
          "output_type": "stream",
          "text": [
            "Verificando variavel tenure\n"
          ],
          "name": "stdout"
        },
        {
          "output_type": "display_data",
          "data": {
            "image/png": "[encoded data removed]",
            "text/plain": [
              "<Figure size 432x288 with 1 Axes>"
            ]
          },
          "metadata": {
            "tags": [],
            "needs_background": "light"
          }
        }
      ]
    },
    {
      "cell_type": "code",
      "metadata": {
        "id": "QVaXl_KgVHAZ",
        "colab_type": "code",
        "colab": {
          "base_uri": "https://localhost:8080/",
          "height": 282
        },
        "outputId": "439c9aab-26e1-43e9-ed73-97a9bbda6c71"
      },
      "source": [
        "boxChart('tenure')\n",
        "# Segundo o boxChart, não existem outliers"
      ],
      "execution_count": 1645,
      "outputs": [
        {
          "output_type": "stream",
          "text": [
            "Verificando variavel tenure\n"
          ],
          "name": "stdout"
        },
        {
          "output_type": "display_data",
          "data": {
            "image/png": "[encoded data removed]",
            "text/plain": [
              "<Figure size 432x288 with 1 Axes>"
            ]
          },
          "metadata": {
            "tags": [],
            "needs_background": "light"
          }
        }
      ]
    },
    {
      "cell_type": "code",
      "metadata": {
        "id": "xUUSOz6iVbLx",
        "colab_type": "code",
        "colab": {
          "base_uri": "https://localhost:8080/",
          "height": 153
        },
        "outputId": "df938f8a-8e24-4cbd-bfa7-db57ff08d23d"
      },
      "source": [
        "crosstab('tenure')"
      ],
      "execution_count": 1646,
      "outputs": [
        {
          "output_type": "stream",
          "text": [
            "Gerando cruzamento entre variável tenure e variável Churn\n",
            "tenure  0    1    2    3   4   5   6   7   ...  65  66  67  68  69   70   71   72\n",
            "Churn                                      ...                                   \n",
            "No      11  233  115  106  93  69  70  80  ...  67  76  88  91  87  108  164  356\n",
            "Yes      0  380  123   94  83  64  40  51  ...   9  13  10   9   8   11    6    6\n",
            "\n",
            "[2 rows x 73 columns]\n",
            "Rejeita o hipótese nula. As variáveis são dependentes\n"
          ],
          "name": "stdout"
        }
      ]
    },
    {
      "cell_type": "markdown",
      "metadata": {
        "id": "meeMgkvyVOsB",
        "colab_type": "text"
      },
      "source": [
        "### PhoneService"
      ]
    },
    {
      "cell_type": "code",
      "metadata": {
        "id": "jG16VKV7VQa7",
        "colab_type": "code",
        "colab": {
          "base_uri": "https://localhost:8080/",
          "height": 265
        },
        "outputId": "12d72ae3-8cbe-4171-a26d-d45497bb1e53"
      },
      "source": [
        "pieChart('PhoneService')\n",
        "# Maioria Yes, sem problemas com os valores"
      ],
      "execution_count": 1647,
      "outputs": [
        {
          "output_type": "stream",
          "text": [
            "Verificando variavel PhoneService\n"
          ],
          "name": "stdout"
        },
        {
          "output_type": "display_data",
          "data": {
            "image/png": "[encoded data removed]",
            "text/plain": [
              "<Figure size 432x288 with 1 Axes>"
            ]
          },
          "metadata": {
            "tags": []
          }
        }
      ]
    },
    {
      "cell_type": "code",
      "metadata": {
        "id": "BZnaB1zXVYgf",
        "colab_type": "code",
        "colab": {
          "base_uri": "https://localhost:8080/",
          "height": 119
        },
        "outputId": "f03cf9ef-b454-4fe0-eebe-2d8fd7930b02"
      },
      "source": [
        "crosstab('PhoneService')"
      ],
      "execution_count": 1648,
      "outputs": [
        {
          "output_type": "stream",
          "text": [
            "Gerando cruzamento entre variável PhoneService e variável Churn\n",
            "PhoneService   No   Yes\n",
            "Churn                  \n",
            "No            512  4662\n",
            "Yes           170  1699\n",
            "Aceita o hipótese nula. As variáveis são independentes.\n"
          ],
          "name": "stdout"
        }
      ]
    },
    {
      "cell_type": "markdown",
      "metadata": {
        "id": "Tqhx2UkfVsRu",
        "colab_type": "text"
      },
      "source": [
        "### MultipleLines"
      ]
    },
    {
      "cell_type": "code",
      "metadata": {
        "id": "Plpp5cmFVu6G",
        "colab_type": "code",
        "colab": {
          "base_uri": "https://localhost:8080/",
          "height": 265
        },
        "outputId": "89605778-4ed6-4d08-c61f-3d5b07eb9c2d"
      },
      "source": [
        "pieChart('MultipleLines')\n",
        "# Balanceado, mas o valor No phone service pode ser alterado para No"
      ],
      "execution_count": 1649,
      "outputs": [
        {
          "output_type": "stream",
          "text": [
            "Verificando variavel MultipleLines\n"
          ],
          "name": "stdout"
        },
        {
          "output_type": "display_data",
          "data": {
            "image/png": "[encoded data removed]",
            "text/plain": [
              "<Figure size 432x288 with 1 Axes>"
            ]
          },
          "metadata": {
            "tags": []
          }
        }
      ]
    },
    {
      "cell_type": "code",
      "metadata": {
        "id": "-IPfHwH2V6hZ",
        "colab_type": "code",
        "colab": {
          "base_uri": "https://localhost:8080/",
          "height": 119
        },
        "outputId": "2cd55798-4ef4-4f9d-e5fe-b0b462a1fbb1"
      },
      "source": [
        "crosstab('MultipleLines')"
      ],
      "execution_count": 1650,
      "outputs": [
        {
          "output_type": "stream",
          "text": [
            "Gerando cruzamento entre variável MultipleLines e variável Churn\n",
            "MultipleLines    No  No phone service   Yes\n",
            "Churn                                      \n",
            "No             2541               512  2121\n",
            "Yes             849               170   850\n",
            "Rejeita o hipótese nula. As variáveis são dependentes\n"
          ],
          "name": "stdout"
        }
      ]
    },
    {
      "cell_type": "markdown",
      "metadata": {
        "id": "HeeFMacZV_dN",
        "colab_type": "text"
      },
      "source": [
        "### InternetService"
      ]
    },
    {
      "cell_type": "code",
      "metadata": {
        "id": "dSHVtVWyWB-W",
        "colab_type": "code",
        "colab": {
          "base_uri": "https://localhost:8080/",
          "height": 265
        },
        "outputId": "fafec0d6-3ad5-42e8-b58e-7109cb099408"
      },
      "source": [
        "pieChart('InternetService')\n",
        "# Converter Fiber optic e DSL para Yes e criar uma nova variável para o tipo"
      ],
      "execution_count": 1651,
      "outputs": [
        {
          "output_type": "stream",
          "text": [
            "Verificando variavel InternetService\n"
          ],
          "name": "stdout"
        },
        {
          "output_type": "display_data",
          "data": {
            "image/png": "[encoded data removed]",
            "text/plain": [
              "<Figure size 432x288 with 1 Axes>"
            ]
          },
          "metadata": {
            "tags": []
          }
        }
      ]
    },
    {
      "cell_type": "code",
      "metadata": {
        "id": "SfmP2_6gWU0b",
        "colab_type": "code",
        "colab": {
          "base_uri": "https://localhost:8080/",
          "height": 119
        },
        "outputId": "e4f9ff93-b4b7-48d3-c426-4e1585946223"
      },
      "source": [
        "crosstab('InternetService')"
      ],
      "execution_count": 1652,
      "outputs": [
        {
          "output_type": "stream",
          "text": [
            "Gerando cruzamento entre variável InternetService e variável Churn\n",
            "InternetService   DSL  Fiber optic    No\n",
            "Churn                                   \n",
            "No               1962         1799  1413\n",
            "Yes               459         1297   113\n",
            "Rejeita o hipótese nula. As variáveis são dependentes\n"
          ],
          "name": "stdout"
        }
      ]
    },
    {
      "cell_type": "markdown",
      "metadata": {
        "id": "YvAMfwIjWb2f",
        "colab_type": "text"
      },
      "source": [
        "### OnlineSecurity"
      ]
    },
    {
      "cell_type": "code",
      "metadata": {
        "id": "0xUSQNpjWdkl",
        "colab_type": "code",
        "colab": {
          "base_uri": "https://localhost:8080/",
          "height": 265
        },
        "outputId": "2125ffa1-140b-48e4-cbba-33904538f20e"
      },
      "source": [
        "pieChart(\"OnlineSecurity\")\n",
        "# Alterar valor No internet service para No"
      ],
      "execution_count": 1653,
      "outputs": [
        {
          "output_type": "stream",
          "text": [
            "Verificando variavel OnlineSecurity\n"
          ],
          "name": "stdout"
        },
        {
          "output_type": "display_data",
          "data": {
            "image/png": "[encoded data removed]",
            "text/plain": [
              "<Figure size 432x288 with 1 Axes>"
            ]
          },
          "metadata": {
            "tags": []
          }
        }
      ]
    },
    {
      "cell_type": "code",
      "metadata": {
        "id": "KnEIOAEjXcrf",
        "colab_type": "code",
        "colab": {
          "base_uri": "https://localhost:8080/",
          "height": 119
        },
        "outputId": "0eb59905-d5d0-44ba-d2f0-4a30f13cc186"
      },
      "source": [
        "crosstab('OnlineSecurity')"
      ],
      "execution_count": 1654,
      "outputs": [
        {
          "output_type": "stream",
          "text": [
            "Gerando cruzamento entre variável OnlineSecurity e variável Churn\n",
            "OnlineSecurity    No  No internet service   Yes\n",
            "Churn                                          \n",
            "No              2037                 1413  1724\n",
            "Yes             1461                  113   295\n",
            "Rejeita o hipótese nula. As variáveis são dependentes\n"
          ],
          "name": "stdout"
        }
      ]
    },
    {
      "cell_type": "markdown",
      "metadata": {
        "id": "eYUNc_vVXfD3",
        "colab_type": "text"
      },
      "source": [
        "### OnlineBackup"
      ]
    },
    {
      "cell_type": "code",
      "metadata": {
        "id": "-qXNhAtKXghY",
        "colab_type": "code",
        "colab": {
          "base_uri": "https://localhost:8080/",
          "height": 265
        },
        "outputId": "5282d313-8fd8-436b-9d8e-fd166b9251d2"
      },
      "source": [
        "pieChart('OnlineBackup')\n",
        "# Alterar valor No internet service para No"
      ],
      "execution_count": 1655,
      "outputs": [
        {
          "output_type": "stream",
          "text": [
            "Verificando variavel OnlineBackup\n"
          ],
          "name": "stdout"
        },
        {
          "output_type": "display_data",
          "data": {
            "image/png": "[encoded data removed]",
            "text/plain": [
              "<Figure size 432x288 with 1 Axes>"
            ]
          },
          "metadata": {
            "tags": []
          }
        }
      ]
    },
    {
      "cell_type": "code",
      "metadata": {
        "id": "cbkjsAdiXitH",
        "colab_type": "code",
        "colab": {
          "base_uri": "https://localhost:8080/",
          "height": 119
        },
        "outputId": "310c95e0-6e5b-4c0e-a22a-7a58a7b14909"
      },
      "source": [
        "crosstab('OnlineBackup')"
      ],
      "execution_count": 1656,
      "outputs": [
        {
          "output_type": "stream",
          "text": [
            "Gerando cruzamento entre variável OnlineBackup e variável Churn\n",
            "OnlineBackup    No  No internet service   Yes\n",
            "Churn                                        \n",
            "No            1855                 1413  1906\n",
            "Yes           1233                  113   523\n",
            "Rejeita o hipótese nula. As variáveis são dependentes\n"
          ],
          "name": "stdout"
        }
      ]
    },
    {
      "cell_type": "markdown",
      "metadata": {
        "id": "u_j_zghQXo_j",
        "colab_type": "text"
      },
      "source": [
        "### DeviceProtection"
      ]
    },
    {
      "cell_type": "code",
      "metadata": {
        "id": "cUhBDTahXqt5",
        "colab_type": "code",
        "colab": {
          "base_uri": "https://localhost:8080/",
          "height": 265
        },
        "outputId": "91fd8fe9-5143-41e5-bd3a-164e28496715"
      },
      "source": [
        "pieChart(\"DeviceProtection\")\n",
        "# Alterar valor no internet service por No"
      ],
      "execution_count": 1657,
      "outputs": [
        {
          "output_type": "stream",
          "text": [
            "Verificando variavel DeviceProtection\n"
          ],
          "name": "stdout"
        },
        {
          "output_type": "display_data",
          "data": {
            "image/png": "[encoded data removed]",
            "text/plain": [
              "<Figure size 432x288 with 1 Axes>"
            ]
          },
          "metadata": {
            "tags": []
          }
        }
      ]
    },
    {
      "cell_type": "code",
      "metadata": {
        "id": "RAuy8c2QXvov",
        "colab_type": "code",
        "colab": {
          "base_uri": "https://localhost:8080/",
          "height": 119
        },
        "outputId": "3d996a2f-218d-4e3d-db6d-aabd33012660"
      },
      "source": [
        "crosstab('DeviceProtection')"
      ],
      "execution_count": 1658,
      "outputs": [
        {
          "output_type": "stream",
          "text": [
            "Gerando cruzamento entre variável DeviceProtection e variável Churn\n",
            "DeviceProtection    No  No internet service   Yes\n",
            "Churn                                            \n",
            "No                1884                 1413  1877\n",
            "Yes               1211                  113   545\n",
            "Rejeita o hipótese nula. As variáveis são dependentes\n"
          ],
          "name": "stdout"
        }
      ]
    },
    {
      "cell_type": "markdown",
      "metadata": {
        "id": "2KWvS3pwX3r9",
        "colab_type": "text"
      },
      "source": [
        "### TechSupport"
      ]
    },
    {
      "cell_type": "code",
      "metadata": {
        "id": "ztQ4q6dGX6vQ",
        "colab_type": "code",
        "colab": {
          "base_uri": "https://localhost:8080/",
          "height": 265
        },
        "outputId": "fd4d4b33-351c-4c43-edab-b5274c2acf59"
      },
      "source": [
        "pieChart(\"TechSupport\")\n",
        "# Alterar valor no internet service por No"
      ],
      "execution_count": 1659,
      "outputs": [
        {
          "output_type": "stream",
          "text": [
            "Verificando variavel TechSupport\n"
          ],
          "name": "stdout"
        },
        {
          "output_type": "display_data",
          "data": {
            "image/png": "[encoded data removed]",
            "text/plain": [
              "<Figure size 432x288 with 1 Axes>"
            ]
          },
          "metadata": {
            "tags": []
          }
        }
      ]
    },
    {
      "cell_type": "code",
      "metadata": {
        "id": "ZGnr6oasYALN",
        "colab_type": "code",
        "colab": {
          "base_uri": "https://localhost:8080/",
          "height": 119
        },
        "outputId": "8995b342-2f88-409b-8203-4dd376bc1bce"
      },
      "source": [
        "crosstab(\"TechSupport\")"
      ],
      "execution_count": 1660,
      "outputs": [
        {
          "output_type": "stream",
          "text": [
            "Gerando cruzamento entre variável TechSupport e variável Churn\n",
            "TechSupport    No  No internet service   Yes\n",
            "Churn                                       \n",
            "No           2027                 1413  1734\n",
            "Yes          1446                  113   310\n",
            "Rejeita o hipótese nula. As variáveis são dependentes\n"
          ],
          "name": "stdout"
        }
      ]
    },
    {
      "cell_type": "markdown",
      "metadata": {
        "id": "AXkgbSSWYD65",
        "colab_type": "text"
      },
      "source": [
        "### StreamingTV"
      ]
    },
    {
      "cell_type": "code",
      "metadata": {
        "id": "lakpG3ZcYFsa",
        "colab_type": "code",
        "colab": {
          "base_uri": "https://localhost:8080/",
          "height": 265
        },
        "outputId": "1f883222-3594-4917-83b7-0be1d37fdbf3"
      },
      "source": [
        "pieChart(\"StreamingTV\")\n",
        "# Alterar valor no internet service por No"
      ],
      "execution_count": 1661,
      "outputs": [
        {
          "output_type": "stream",
          "text": [
            "Verificando variavel StreamingTV\n"
          ],
          "name": "stdout"
        },
        {
          "output_type": "display_data",
          "data": {
            "image/png": "[encoded data removed]",
            "text/plain": [
              "<Figure size 432x288 with 1 Axes>"
            ]
          },
          "metadata": {
            "tags": []
          }
        }
      ]
    },
    {
      "cell_type": "code",
      "metadata": {
        "id": "mcak-5wTYHT2",
        "colab_type": "code",
        "colab": {
          "base_uri": "https://localhost:8080/",
          "height": 119
        },
        "outputId": "67efff7e-7520-4af3-fe99-ebc5d534ca77"
      },
      "source": [
        "crosstab(\"StreamingTV\")"
      ],
      "execution_count": 1662,
      "outputs": [
        {
          "output_type": "stream",
          "text": [
            "Gerando cruzamento entre variável StreamingTV e variável Churn\n",
            "StreamingTV    No  No internet service   Yes\n",
            "Churn                                       \n",
            "No           1868                 1413  1893\n",
            "Yes           942                  113   814\n",
            "Rejeita o hipótese nula. As variáveis são dependentes\n"
          ],
          "name": "stdout"
        }
      ]
    },
    {
      "cell_type": "markdown",
      "metadata": {
        "id": "ivTaTn1gYKrB",
        "colab_type": "text"
      },
      "source": [
        "### StreamingMovies"
      ]
    },
    {
      "cell_type": "code",
      "metadata": {
        "id": "iZ-HP9_uYL1Q",
        "colab_type": "code",
        "colab": {
          "base_uri": "https://localhost:8080/",
          "height": 265
        },
        "outputId": "fddbb0ba-ee5a-41f2-e42f-85f22e1ad2a5"
      },
      "source": [
        "pieChart(\"StreamingMovies\")\n",
        "# Alterar valor no internet service por No"
      ],
      "execution_count": 1663,
      "outputs": [
        {
          "output_type": "stream",
          "text": [
            "Verificando variavel StreamingMovies\n"
          ],
          "name": "stdout"
        },
        {
          "output_type": "display_data",
          "data": {
            "image/png": "[encoded data removed]",
            "text/plain": [
              "<Figure size 432x288 with 1 Axes>"
            ]
          },
          "metadata": {
            "tags": []
          }
        }
      ]
    },
    {
      "cell_type": "code",
      "metadata": {
        "id": "Razs-v2ZYMe-",
        "colab_type": "code",
        "colab": {
          "base_uri": "https://localhost:8080/",
          "height": 119
        },
        "outputId": "1dd06864-96e4-4126-ce57-e89841c449c4"
      },
      "source": [
        "crosstab(\"StreamingMovies\")"
      ],
      "execution_count": 1664,
      "outputs": [
        {
          "output_type": "stream",
          "text": [
            "Gerando cruzamento entre variável StreamingMovies e variável Churn\n",
            "StreamingMovies    No  No internet service   Yes\n",
            "Churn                                           \n",
            "No               1847                 1413  1914\n",
            "Yes               938                  113   818\n",
            "Rejeita o hipótese nula. As variáveis são dependentes\n"
          ],
          "name": "stdout"
        }
      ]
    },
    {
      "cell_type": "markdown",
      "metadata": {
        "id": "9IctY6zuYRzJ",
        "colab_type": "text"
      },
      "source": [
        "### Contract"
      ]
    },
    {
      "cell_type": "code",
      "metadata": {
        "id": "7vfPnGBsYSd8",
        "colab_type": "code",
        "colab": {
          "base_uri": "https://localhost:8080/",
          "height": 265
        },
        "outputId": "63061f2f-bc91-4b04-ccfb-94df4f93cd6e"
      },
      "source": [
        "pieChart('Contract')"
      ],
      "execution_count": 1665,
      "outputs": [
        {
          "output_type": "stream",
          "text": [
            "Verificando variavel Contract\n"
          ],
          "name": "stdout"
        },
        {
          "output_type": "display_data",
          "data": {
            "image/png": "[encoded data removed]",
            "text/plain": [
              "<Figure size 432x288 with 1 Axes>"
            ]
          },
          "metadata": {
            "tags": []
          }
        }
      ]
    },
    {
      "cell_type": "code",
      "metadata": {
        "id": "T9BmQ8SuYTiU",
        "colab_type": "code",
        "colab": {
          "base_uri": "https://localhost:8080/",
          "height": 119
        },
        "outputId": "156d7a91-9d93-41dd-b60b-54dd14d03cc7"
      },
      "source": [
        "crosstab(\"Contract\")"
      ],
      "execution_count": 1666,
      "outputs": [
        {
          "output_type": "stream",
          "text": [
            "Gerando cruzamento entre variável Contract e variável Churn\n",
            "Contract  Month-to-month  One year  Two year\n",
            "Churn                                       \n",
            "No                  2220      1307      1647\n",
            "Yes                 1655       166        48\n",
            "Rejeita o hipótese nula. As variáveis são dependentes\n"
          ],
          "name": "stdout"
        }
      ]
    },
    {
      "cell_type": "markdown",
      "metadata": {
        "id": "grHAJcOkYWjM",
        "colab_type": "text"
      },
      "source": [
        "### PaperlessBilling"
      ]
    },
    {
      "cell_type": "code",
      "metadata": {
        "id": "XVL3kgCWYX8V",
        "colab_type": "code",
        "colab": {
          "base_uri": "https://localhost:8080/",
          "height": 265
        },
        "outputId": "8b09082b-2f3f-44b3-99a9-e3bdf567bc19"
      },
      "source": [
        "pieChart(\"PaperlessBilling\")"
      ],
      "execution_count": 1667,
      "outputs": [
        {
          "output_type": "stream",
          "text": [
            "Verificando variavel PaperlessBilling\n"
          ],
          "name": "stdout"
        },
        {
          "output_type": "display_data",
          "data": {
            "image/png": "[encoded data removed]",
            "text/plain": [
              "<Figure size 432x288 with 1 Axes>"
            ]
          },
          "metadata": {
            "tags": []
          }
        }
      ]
    },
    {
      "cell_type": "code",
      "metadata": {
        "id": "GZAFWoDfYZDO",
        "colab_type": "code",
        "colab": {
          "base_uri": "https://localhost:8080/",
          "height": 119
        },
        "outputId": "412bbe03-8b67-43d9-c751-a0b7895b6db7"
      },
      "source": [
        "crosstab(\"PaperlessBilling\")"
      ],
      "execution_count": 1668,
      "outputs": [
        {
          "output_type": "stream",
          "text": [
            "Gerando cruzamento entre variável PaperlessBilling e variável Churn\n",
            "PaperlessBilling    No   Yes\n",
            "Churn                       \n",
            "No                2403  2771\n",
            "Yes                469  1400\n",
            "Rejeita o hipótese nula. As variáveis são dependentes\n"
          ],
          "name": "stdout"
        }
      ]
    },
    {
      "cell_type": "markdown",
      "metadata": {
        "id": "B7eH8qblYeQ4",
        "colab_type": "text"
      },
      "source": [
        "### PaymentMethod"
      ]
    },
    {
      "cell_type": "code",
      "metadata": {
        "id": "tIcORNFyYhOI",
        "colab_type": "code",
        "colab": {
          "base_uri": "https://localhost:8080/",
          "height": 265
        },
        "outputId": "2a03777c-805a-4d8d-9dc9-ffc1d1234056"
      },
      "source": [
        "pieChart('PaymentMethod')\n",
        "# Adicionar variavel \"Automatic_Payment\""
      ],
      "execution_count": 1669,
      "outputs": [
        {
          "output_type": "stream",
          "text": [
            "Verificando variavel PaymentMethod\n"
          ],
          "name": "stdout"
        },
        {
          "output_type": "display_data",
          "data": {
            "image/png": "[encoded data removed]",
            "text/plain": [
              "<Figure size 432x288 with 1 Axes>"
            ]
          },
          "metadata": {
            "tags": []
          }
        }
      ]
    },
    {
      "cell_type": "code",
      "metadata": {
        "id": "iS1F2fwoYoTl",
        "colab_type": "code",
        "colab": {
          "base_uri": "https://localhost:8080/",
          "height": 153
        },
        "outputId": "69c1f6c9-15c8-431a-95d7-9088820baec2"
      },
      "source": [
        "crosstab('PaymentMethod')"
      ],
      "execution_count": 1670,
      "outputs": [
        {
          "output_type": "stream",
          "text": [
            "Gerando cruzamento entre variável PaymentMethod e variável Churn\n",
            "PaymentMethod  Bank transfer (automatic)  ...  Mailed check\n",
            "Churn                                     ...              \n",
            "No                                  1286  ...          1304\n",
            "Yes                                  258  ...           308\n",
            "\n",
            "[2 rows x 4 columns]\n",
            "Rejeita o hipótese nula. As variáveis são dependentes\n"
          ],
          "name": "stdout"
        }
      ]
    },
    {
      "cell_type": "markdown",
      "metadata": {
        "id": "r61nq_ulYq_M",
        "colab_type": "text"
      },
      "source": [
        "### MonthlyCharges"
      ]
    },
    {
      "cell_type": "code",
      "metadata": {
        "id": "vPzDHMWyYufV",
        "colab_type": "code",
        "colab": {
          "base_uri": "https://localhost:8080/",
          "height": 282
        },
        "outputId": "88a98ebd-9f2d-4d04-da20-a4617a30c648"
      },
      "source": [
        "densityChart('MonthlyCharges')\n",
        "\n",
        "# Não segue uma distribuição normal"
      ],
      "execution_count": 1671,
      "outputs": [
        {
          "output_type": "stream",
          "text": [
            "Verificando variavel MonthlyCharges\n"
          ],
          "name": "stdout"
        },
        {
          "output_type": "display_data",
          "data": {
            "image/png": "[encoded data removed]",
            "text/plain": [
              "<Figure size 432x288 with 1 Axes>"
            ]
          },
          "metadata": {
            "tags": [],
            "needs_background": "light"
          }
        }
      ]
    },
    {
      "cell_type": "code",
      "metadata": {
        "id": "rkzhChfDY0P4",
        "colab_type": "code",
        "colab": {
          "base_uri": "https://localhost:8080/",
          "height": 153
        },
        "outputId": "2e2b96d4-fe25-4ba1-d900-9b10dafd73b5"
      },
      "source": [
        "crosstab(\"MonthlyCharges\")"
      ],
      "execution_count": 1672,
      "outputs": [
        {
          "output_type": "stream",
          "text": [
            "Gerando cruzamento entre variável MonthlyCharges e variável Churn\n",
            "MonthlyCharges  18.25   18.40   18.55   18.70   ...  118.35  118.60  118.65  118.75\n",
            "Churn                                           ...                                \n",
            "No                   1       1       1       2  ...       0       2       1       1\n",
            "Yes                  0       0       0       0  ...       1       0       0       0\n",
            "\n",
            "[2 rows x 1585 columns]\n",
            "Rejeita o hipótese nula. As variáveis são dependentes\n"
          ],
          "name": "stdout"
        }
      ]
    },
    {
      "cell_type": "code",
      "metadata": {
        "id": "BqowMIH7Y4ja",
        "colab_type": "code",
        "colab": {
          "base_uri": "https://localhost:8080/",
          "height": 282
        },
        "outputId": "625ffa78-f5a1-4fc7-8b46-db8794a2c3eb"
      },
      "source": [
        "boxChart(\"MonthlyCharges\")\n",
        "\n",
        "# Sem outliers"
      ],
      "execution_count": 1673,
      "outputs": [
        {
          "output_type": "stream",
          "text": [
            "Verificando variavel MonthlyCharges\n"
          ],
          "name": "stdout"
        },
        {
          "output_type": "display_data",
          "data": {
            "image/png": "[encoded data removed]",
            "text/plain": [
              "<Figure size 432x288 with 1 Axes>"
            ]
          },
          "metadata": {
            "tags": [],
            "needs_background": "light"
          }
        }
      ]
    },
    {
      "cell_type": "markdown",
      "metadata": {
        "id": "VQyqUA7zY8NW",
        "colab_type": "text"
      },
      "source": [
        "### TotalCharges"
      ]
    },
    {
      "cell_type": "code",
      "metadata": {
        "id": "Nvd2UBDmY-Kk",
        "colab_type": "code",
        "colab": {
          "base_uri": "https://localhost:8080/",
          "height": 282
        },
        "outputId": "c7161170-d527-4cba-8e6c-ba28e0f27adf"
      },
      "source": [
        "df_churn.TotalCharges = df_churn.TotalCharges.replace(\" \", 0).astype(float)\n",
        "densityChart(\"TotalCharges\")\n",
        "# Não segue uma distribuição normal"
      ],
      "execution_count": 1674,
      "outputs": [
        {
          "output_type": "stream",
          "text": [
            "Verificando variavel TotalCharges\n"
          ],
          "name": "stdout"
        },
        {
          "output_type": "display_data",
          "data": {
            "image/png": "[encoded data removed]",
            "text/plain": [
              "<Figure size 432x288 with 1 Axes>"
            ]
          },
          "metadata": {
            "tags": [],
            "needs_background": "light"
          }
        }
      ]
    },
    {
      "cell_type": "code",
      "metadata": {
        "id": "2yfDg8sXZRWj",
        "colab_type": "code",
        "colab": {
          "base_uri": "https://localhost:8080/",
          "height": 153
        },
        "outputId": "1c85c074-067e-4779-9621-43cc7b6ba460"
      },
      "source": [
        "crosstab(\"TotalCharges\")"
      ],
      "execution_count": 1675,
      "outputs": [
        {
          "output_type": "stream",
          "text": [
            "Gerando cruzamento entre variável TotalCharges e variável Churn\n",
            "TotalCharges  0.00     18.80    18.85    ...  8670.10  8672.45  8684.80\n",
            "Churn                                    ...                           \n",
            "No                 11        1        1  ...        1        1        0\n",
            "Yes                 0        0        1  ...        0        0        1\n",
            "\n",
            "[2 rows x 6531 columns]\n",
            "Aceita o hipótese nula. As variáveis são independentes.\n"
          ],
          "name": "stdout"
        }
      ]
    },
    {
      "cell_type": "code",
      "metadata": {
        "id": "SV9mNDHeZS68",
        "colab_type": "code",
        "colab": {
          "base_uri": "https://localhost:8080/",
          "height": 282
        },
        "outputId": "c82bea38-e96a-498d-d51d-0ac45860e2a1"
      },
      "source": [
        "boxChart(\"TotalCharges\")\n",
        "\n",
        "# Sem outliers"
      ],
      "execution_count": 1676,
      "outputs": [
        {
          "output_type": "stream",
          "text": [
            "Verificando variavel TotalCharges\n"
          ],
          "name": "stdout"
        },
        {
          "output_type": "display_data",
          "data": {
            "image/png": "[encoded data removed]",
            "text/plain": [
              "<Figure size 432x288 with 1 Axes>"
            ]
          },
          "metadata": {
            "tags": [],
            "needs_background": "light"
          }
        }
      ]
    },
    {
      "cell_type": "markdown",
      "metadata": {
        "id": "YrtcGCJhZiJI",
        "colab_type": "text"
      },
      "source": [
        "## Ajustes na base e novas colunas"
      ]
    },
    {
      "cell_type": "code",
      "metadata": {
        "id": "zfdL18SHeTgJ",
        "colab_type": "code",
        "colab": {}
      },
      "source": [
        "# Criando nova variavel, indicando o tipo de serviço de internet\n",
        "df_churn = df_churn.assign(InternetServiceType = df_churn.InternetService.apply(lambda x: x))\n",
        "# Convertendo variavel InternetService para Yes/No\n",
        "df_churn.InternetService = df_churn.InternetService.apply(lambda x: \"No\" if x == 'No' else \"Yes\")"
      ],
      "execution_count": 1677,
      "outputs": []
    },
    {
      "cell_type": "code",
      "metadata": {
        "id": "TA8yOY_SnVg1",
        "colab_type": "code",
        "colab": {}
      },
      "source": [
        "# Adicionando variavel Payment_Automatic\n",
        "df_churn = df_churn.assign(Payment_Automatic = df_churn.PaymentMethod.apply(lambda x: 'Yes' if 'automatic' in x else 'No'))"
      ],
      "execution_count": 1678,
      "outputs": []
    },
    {
      "cell_type": "code",
      "metadata": {
        "id": "42oH7MGlqsIn",
        "colab_type": "code",
        "colab": {}
      },
      "source": [
        "# Alterando Churn para 1/0\n",
        "df_churn.Churn = df_churn.Churn.apply(lambda x: 1 if x == 'Yes' else 0)"
      ],
      "execution_count": 1679,
      "outputs": []
    },
    {
      "cell_type": "code",
      "metadata": {
        "id": "a6r3r3x5Zjy9",
        "colab_type": "code",
        "colab": {}
      },
      "source": [
        "# Alterando SeniorCitizen para ser Yes/No\n",
        "\n",
        "df_churn.SeniorCitizen = df_churn.SeniorCitizen.apply(lambda x: \"Yes\" if x == 1 else \"No\")\n",
        "\n",
        "# Normalizando variaveis categoricas para Yes/No \n",
        "\n",
        "cat_cols = ['Payment_Automatic', 'SeniorCitizen', 'Partner', 'Dependents', 'PhoneService', 'MultipleLines', \n",
        "               'OnlineSecurity', 'OnlineBackup', 'DeviceProtection', \n",
        "               'TechSupport', 'StreamingTV', 'StreamingMovies', 'PaperlessBilling', 'InternetService']\n",
        "\n",
        "for col in cat_cols:\n",
        "  df_churn[col] = df_churn[col].apply(lambda x: \"Yes\" if x == 'Yes' else \"No\")\n",
        "\n",
        "# Adicionar variavel que nao são Yes/No nas cat_cols após limpeza do Yes/No\n",
        "\n",
        "cat_cols.append(\"Contract\")\n",
        "cat_cols.append(\"PaymentMethod\")\n",
        "cat_cols.append(\"gender\")\n",
        "cat_cols.append(\"InternetServiceType\")"
      ],
      "execution_count": 1680,
      "outputs": []
    },
    {
      "cell_type": "code",
      "metadata": {
        "id": "izFlTyZGbi3j",
        "colab_type": "code",
        "colab": {}
      },
      "source": [
        "# Gerando variaveis dummies para usar na correlação\n",
        "df_dummies = pd.get_dummies(data = df_churn, columns = cat_cols)"
      ],
      "execution_count": 1681,
      "outputs": []
    },
    {
      "cell_type": "code",
      "metadata": {
        "id": "sp2aSi6NqM06",
        "colab_type": "code",
        "colab": {
          "base_uri": "https://localhost:8080/",
          "height": 527
        },
        "outputId": "87ce39c6-8afd-42dd-a5d4-45a7fa3e67ee"
      },
      "source": [
        "df_churn.info()"
      ],
      "execution_count": 1682,
      "outputs": [
        {
          "output_type": "stream",
          "text": [
            "<class 'pandas.core.frame.DataFrame'>\n",
            "RangeIndex: 7043 entries, 0 to 7042\n",
            "Data columns (total 23 columns):\n",
            " #   Column               Non-Null Count  Dtype  \n",
            "---  ------               --------------  -----  \n",
            " 0   customerID           7043 non-null   object \n",
            " 1   gender               7043 non-null   object \n",
            " 2   SeniorCitizen        7043 non-null   object \n",
            " 3   Partner              7043 non-null   object \n",
            " 4   Dependents           7043 non-null   object \n",
            " 5   tenure               7043 non-null   int64  \n",
            " 6   PhoneService         7043 non-null   object \n",
            " 7   MultipleLines        7043 non-null   object \n",
            " 8   InternetService      7043 non-null   object \n",
            " 9   OnlineSecurity       7043 non-null   object \n",
            " 10  OnlineBackup         7043 non-null   object \n",
            " 11  DeviceProtection     7043 non-null   object \n",
            " 12  TechSupport          7043 non-null   object \n",
            " 13  StreamingTV          7043 non-null   object \n",
            " 14  StreamingMovies      7043 non-null   object \n",
            " 15  Contract             7043 non-null   object \n",
            " 16  PaperlessBilling     7043 non-null   object \n",
            " 17  PaymentMethod        7043 non-null   object \n",
            " 18  MonthlyCharges       7043 non-null   float64\n",
            " 19  TotalCharges         7043 non-null   float64\n",
            " 20  Churn                7043 non-null   int64  \n",
            " 21  InternetServiceType  7043 non-null   object \n",
            " 22  Payment_Automatic    7043 non-null   object \n",
            "dtypes: float64(2), int64(2), object(19)\n",
            "memory usage: 1.2+ MB\n"
          ],
          "name": "stdout"
        }
      ]
    },
    {
      "cell_type": "markdown",
      "metadata": {
        "id": "3rXTwuhugMrT",
        "colab_type": "text"
      },
      "source": [
        "## Discretização"
      ]
    },
    {
      "cell_type": "code",
      "metadata": {
        "id": "l7E_X6dIheN_",
        "colab_type": "code",
        "colab": {
          "base_uri": "https://localhost:8080/",
          "height": 296
        },
        "outputId": "e018e33e-def2-4b33-996a-d945af2e9336"
      },
      "source": [
        "# Verificando distribuição do tenure\n",
        "sns.distplot(df_churn.tenure, bins=5, hist=True,label='tenure')"
      ],
      "execution_count": 1683,
      "outputs": [
        {
          "output_type": "execute_result",
          "data": {
            "text/plain": [
              "<matplotlib.axes._subplots.AxesSubplot at 0x7ff415cf2be0>"
            ]
          },
          "metadata": {
            "tags": []
          },
          "execution_count": 1683
        },
        {
          "output_type": "display_data",
          "data": {
            "image/png": "[encoded data removed]",
            "text/plain": [
              "<Figure size 432x288 with 1 Axes>"
            ]
          },
          "metadata": {
            "tags": [],
            "needs_background": "light"
          }
        }
      ]
    },
    {
      "cell_type": "code",
      "metadata": {
        "id": "ASsXOOcthopq",
        "colab_type": "code",
        "colab": {
          "base_uri": "https://localhost:8080/",
          "height": 350
        },
        "outputId": "2d42ebda-5075-4b93-f9df-d5290ca4d816"
      },
      "source": [
        "# Discretização do tenure\n",
        "bins = 5\n",
        "discretizer = KBinsDiscretizer(n_bins=bins, encode='ordinal', strategy='quantile')\n",
        "df_churn = df_churn.assign(tenure_discretized = discretizer.fit_transform(df_churn.tenure.values.reshape(-1, 1)))\n",
        "df_dummies = df_dummies.assign(tenure_discretized = discretizer.fit_transform(df_dummies.tenure.values.reshape(-1, 1)))\n",
        "[ df_churn[df_churn.tenure_discretized == i].tenure.plot.density() for i in range(bins) ]"
      ],
      "execution_count": 1684,
      "outputs": [
        {
          "output_type": "execute_result",
          "data": {
            "text/plain": [
              "[<matplotlib.axes._subplots.AxesSubplot at 0x7ff415710940>,\n",
              " <matplotlib.axes._subplots.AxesSubplot at 0x7ff415710940>,\n",
              " <matplotlib.axes._subplots.AxesSubplot at 0x7ff415710940>,\n",
              " <matplotlib.axes._subplots.AxesSubplot at 0x7ff415710940>,\n",
              " <matplotlib.axes._subplots.AxesSubplot at 0x7ff415710940>]"
            ]
          },
          "metadata": {
            "tags": []
          },
          "execution_count": 1684
        },
        {
          "output_type": "display_data",
          "data": {
            "image/png": "[encoded data removed]",
            "text/plain": [
              "<Figure size 432x288 with 1 Axes>"
            ]
          },
          "metadata": {
            "tags": [],
            "needs_background": "light"
          }
        }
      ]
    },
    {
      "cell_type": "code",
      "metadata": {
        "id": "Y33OwpskhIfJ",
        "colab_type": "code",
        "colab": {
          "base_uri": "https://localhost:8080/",
          "height": 300
        },
        "outputId": "7f9f433e-84a0-464f-b866-cc3881d87b91"
      },
      "source": [
        "# Verificando distribuição do TotalCharges\n",
        "sns.distplot(df_churn.TotalCharges, bins=5, hist=True,label='TotalCharges')"
      ],
      "execution_count": 1685,
      "outputs": [
        {
          "output_type": "execute_result",
          "data": {
            "text/plain": [
              "<matplotlib.axes._subplots.AxesSubplot at 0x7ff41611d518>"
            ]
          },
          "metadata": {
            "tags": []
          },
          "execution_count": 1685
        },
        {
          "output_type": "display_data",
          "data": {
            "image/png": "[encoded data removed]",
            "text/plain": [
              "<Figure size 432x288 with 1 Axes>"
            ]
          },
          "metadata": {
            "tags": [],
            "needs_background": "light"
          }
        }
      ]
    },
    {
      "cell_type": "code",
      "metadata": {
        "id": "-gCDVYCEgMhe",
        "colab_type": "code",
        "colab": {
          "base_uri": "https://localhost:8080/",
          "height": 354
        },
        "outputId": "4d34077f-9dd3-4a5f-9a7a-c71c7519ae07"
      },
      "source": [
        "# Discretização do TotalCharges\n",
        "bins = 5\n",
        "discretizer = KBinsDiscretizer(n_bins=bins, encode='ordinal', strategy='quantile')\n",
        "df_churn = df_churn.assign(TotalCharges_Discretized = discretizer.fit_transform(df_churn.TotalCharges.values.reshape(-1, 1)))\n",
        "df_dummies = df_dummies.assign(TotalCharges_Discretized = discretizer.fit_transform(df_dummies.TotalCharges.values.reshape(-1, 1)))\n",
        "[ df_churn[df_churn.TotalCharges_Discretized == i].TotalCharges.plot.density() for i in range(bins) ]"
      ],
      "execution_count": 1686,
      "outputs": [
        {
          "output_type": "execute_result",
          "data": {
            "text/plain": [
              "[<matplotlib.axes._subplots.AxesSubplot at 0x7ff41543a128>,\n",
              " <matplotlib.axes._subplots.AxesSubplot at 0x7ff41543a128>,\n",
              " <matplotlib.axes._subplots.AxesSubplot at 0x7ff41543a128>,\n",
              " <matplotlib.axes._subplots.AxesSubplot at 0x7ff41543a128>,\n",
              " <matplotlib.axes._subplots.AxesSubplot at 0x7ff41543a128>]"
            ]
          },
          "metadata": {
            "tags": []
          },
          "execution_count": 1686
        },
        {
          "output_type": "display_data",
          "data": {
            "image/png": "[encoded data removed]",
            "text/plain": [
              "<Figure size 432x288 with 1 Axes>"
            ]
          },
          "metadata": {
            "tags": [],
            "needs_background": "light"
          }
        }
      ]
    },
    {
      "cell_type": "code",
      "metadata": {
        "id": "FvooKXLvhRyf",
        "colab_type": "code",
        "colab": {
          "base_uri": "https://localhost:8080/",
          "height": 296
        },
        "outputId": "3ec6e40f-2f37-4a89-b96d-2b8903ca669f"
      },
      "source": [
        "# Verificando distribuição do MonthlyCharges\n",
        "sns.distplot(df_churn.MonthlyCharges, bins=7, hist=True,label='MonthlyCharges')"
      ],
      "execution_count": 1687,
      "outputs": [
        {
          "output_type": "execute_result",
          "data": {
            "text/plain": [
              "<matplotlib.axes._subplots.AxesSubplot at 0x7ff415849e48>"
            ]
          },
          "metadata": {
            "tags": []
          },
          "execution_count": 1687
        },
        {
          "output_type": "display_data",
          "data": {
            "image/png": "[encoded data removed]",
            "text/plain": [
              "<Figure size 432x288 with 1 Axes>"
            ]
          },
          "metadata": {
            "tags": [],
            "needs_background": "light"
          }
        }
      ]
    },
    {
      "cell_type": "code",
      "metadata": {
        "id": "uPqiPHaYgpDT",
        "colab_type": "code",
        "colab": {
          "base_uri": "https://localhost:8080/",
          "height": 384
        },
        "outputId": "8f464040-c30a-4cc4-afbf-9e9f58bf65f1"
      },
      "source": [
        "# Discretização do MonthlyCharges\n",
        "bins = 7\n",
        "discretizer = KBinsDiscretizer(n_bins=bins, encode='ordinal', strategy='quantile')\n",
        "df_churn = df_churn.assign(MonthlyCharges_Discretized = discretizer.fit_transform(df_churn.MonthlyCharges.values.reshape(-1, 1)))\n",
        "df_dummies = df_dummies.assign(MonthlyCharges_Discretized = discretizer.fit_transform(df_dummies.MonthlyCharges.values.reshape(-1, 1)))\n",
        "[ df_churn[df_churn.MonthlyCharges_Discretized == i].MonthlyCharges.plot.density() for i in range(bins) ]"
      ],
      "execution_count": 1688,
      "outputs": [
        {
          "output_type": "execute_result",
          "data": {
            "text/plain": [
              "[<matplotlib.axes._subplots.AxesSubplot at 0x7ff415240240>,\n",
              " <matplotlib.axes._subplots.AxesSubplot at 0x7ff415240240>,\n",
              " <matplotlib.axes._subplots.AxesSubplot at 0x7ff415240240>,\n",
              " <matplotlib.axes._subplots.AxesSubplot at 0x7ff415240240>,\n",
              " <matplotlib.axes._subplots.AxesSubplot at 0x7ff415240240>,\n",
              " <matplotlib.axes._subplots.AxesSubplot at 0x7ff415240240>,\n",
              " <matplotlib.axes._subplots.AxesSubplot at 0x7ff415240240>]"
            ]
          },
          "metadata": {
            "tags": []
          },
          "execution_count": 1688
        },
        {
          "output_type": "display_data",
          "data": {
            "image/png": "[encoded data removed]",
            "text/plain": [
              "<Figure size 432x288 with 1 Axes>"
            ]
          },
          "metadata": {
            "tags": [],
            "needs_background": "light"
          }
        }
      ]
    },
    {
      "cell_type": "code",
      "metadata": {
        "id": "s4Uw-lDziBlh",
        "colab_type": "code",
        "colab": {
          "base_uri": "https://localhost:8080/",
          "height": 309
        },
        "outputId": "a89483d0-4ea2-4baa-a9f9-d4af70afd20e"
      },
      "source": [
        "df_churn.head()"
      ],
      "execution_count": 1689,
      "outputs": [
        {
          "output_type": "execute_result",
          "data": {
            "text/html": [
              "<div>\n",
              "<style scoped>\n",
              "    .dataframe tbody tr th:only-of-type {\n",
              "        vertical-align: middle;\n",
              "    }\n",
              "\n",
              "    .dataframe tbody tr th {\n",
              "        vertical-align: top;\n",
              "    }\n",
              "\n",
              "    .dataframe thead th {\n",
              "        text-align: right;\n",
              "    }\n",
              "</style>\n",
              "<table border=\"1\" class=\"dataframe\">\n",
              "  <thead>\n",
              "    <tr style=\"text-align: right;\">\n",
              "      <th></th>\n",
              "      <th>customerID</th>\n",
              "      <th>gender</th>\n",
              "      <th>SeniorCitizen</th>\n",
              "      <th>Partner</th>\n",
              "      <th>Dependents</th>\n",
              "      <th>tenure</th>\n",
              "      <th>PhoneService</th>\n",
              "      <th>MultipleLines</th>\n",
              "      <th>InternetService</th>\n",
              "      <th>OnlineSecurity</th>\n",
              "      <th>OnlineBackup</th>\n",
              "      <th>DeviceProtection</th>\n",
              "      <th>TechSupport</th>\n",
              "      <th>StreamingTV</th>\n",
              "      <th>StreamingMovies</th>\n",
              "      <th>Contract</th>\n",
              "      <th>PaperlessBilling</th>\n",
              "      <th>PaymentMethod</th>\n",
              "      <th>MonthlyCharges</th>\n",
              "      <th>TotalCharges</th>\n",
              "      <th>Churn</th>\n",
              "      <th>InternetServiceType</th>\n",
              "      <th>Payment_Automatic</th>\n",
              "      <th>tenure_discretized</th>\n",
              "      <th>TotalCharges_Discretized</th>\n",
              "      <th>MonthlyCharges_Discretized</th>\n",
              "    </tr>\n",
              "  </thead>\n",
              "  <tbody>\n",
              "    <tr>\n",
              "      <th>0</th>\n",
              "      <td>7590-VHVEG</td>\n",
              "      <td>Female</td>\n",
              "      <td>No</td>\n",
              "      <td>Yes</td>\n",
              "      <td>No</td>\n",
              "      <td>1</td>\n",
              "      <td>No</td>\n",
              "      <td>No</td>\n",
              "      <td>Yes</td>\n",
              "      <td>No</td>\n",
              "      <td>Yes</td>\n",
              "      <td>No</td>\n",
              "      <td>No</td>\n",
              "      <td>No</td>\n",
              "      <td>No</td>\n",
              "      <td>Month-to-month</td>\n",
              "      <td>Yes</td>\n",
              "      <td>Electronic check</td>\n",
              "      <td>29.85</td>\n",
              "      <td>29.85</td>\n",
              "      <td>0</td>\n",
              "      <td>DSL</td>\n",
              "      <td>No</td>\n",
              "      <td>0.0</td>\n",
              "      <td>0.0</td>\n",
              "      <td>1.0</td>\n",
              "    </tr>\n",
              "    <tr>\n",
              "      <th>1</th>\n",
              "      <td>5575-GNVDE</td>\n",
              "      <td>Male</td>\n",
              "      <td>No</td>\n",
              "      <td>No</td>\n",
              "      <td>No</td>\n",
              "      <td>34</td>\n",
              "      <td>Yes</td>\n",
              "      <td>No</td>\n",
              "      <td>Yes</td>\n",
              "      <td>Yes</td>\n",
              "      <td>No</td>\n",
              "      <td>Yes</td>\n",
              "      <td>No</td>\n",
              "      <td>No</td>\n",
              "      <td>No</td>\n",
              "      <td>One year</td>\n",
              "      <td>No</td>\n",
              "      <td>Mailed check</td>\n",
              "      <td>56.95</td>\n",
              "      <td>1889.50</td>\n",
              "      <td>0</td>\n",
              "      <td>DSL</td>\n",
              "      <td>No</td>\n",
              "      <td>2.0</td>\n",
              "      <td>2.0</td>\n",
              "      <td>2.0</td>\n",
              "    </tr>\n",
              "    <tr>\n",
              "      <th>2</th>\n",
              "      <td>3668-QPYBK</td>\n",
              "      <td>Male</td>\n",
              "      <td>No</td>\n",
              "      <td>No</td>\n",
              "      <td>No</td>\n",
              "      <td>2</td>\n",
              "      <td>Yes</td>\n",
              "      <td>No</td>\n",
              "      <td>Yes</td>\n",
              "      <td>Yes</td>\n",
              "      <td>Yes</td>\n",
              "      <td>No</td>\n",
              "      <td>No</td>\n",
              "      <td>No</td>\n",
              "      <td>No</td>\n",
              "      <td>Month-to-month</td>\n",
              "      <td>Yes</td>\n",
              "      <td>Mailed check</td>\n",
              "      <td>53.85</td>\n",
              "      <td>108.15</td>\n",
              "      <td>1</td>\n",
              "      <td>DSL</td>\n",
              "      <td>No</td>\n",
              "      <td>0.0</td>\n",
              "      <td>0.0</td>\n",
              "      <td>2.0</td>\n",
              "    </tr>\n",
              "    <tr>\n",
              "      <th>3</th>\n",
              "      <td>7795-CFOCW</td>\n",
              "      <td>Male</td>\n",
              "      <td>No</td>\n",
              "      <td>No</td>\n",
              "      <td>No</td>\n",
              "      <td>45</td>\n",
              "      <td>No</td>\n",
              "      <td>No</td>\n",
              "      <td>Yes</td>\n",
              "      <td>Yes</td>\n",
              "      <td>No</td>\n",
              "      <td>Yes</td>\n",
              "      <td>Yes</td>\n",
              "      <td>No</td>\n",
              "      <td>No</td>\n",
              "      <td>One year</td>\n",
              "      <td>No</td>\n",
              "      <td>Bank transfer (automatic)</td>\n",
              "      <td>42.30</td>\n",
              "      <td>1840.75</td>\n",
              "      <td>0</td>\n",
              "      <td>DSL</td>\n",
              "      <td>Yes</td>\n",
              "      <td>3.0</td>\n",
              "      <td>2.0</td>\n",
              "      <td>1.0</td>\n",
              "    </tr>\n",
              "    <tr>\n",
              "      <th>4</th>\n",
              "      <td>9237-HQITU</td>\n",
              "      <td>Female</td>\n",
              "      <td>No</td>\n",
              "      <td>No</td>\n",
              "      <td>No</td>\n",
              "      <td>2</td>\n",
              "      <td>Yes</td>\n",
              "      <td>No</td>\n",
              "      <td>Yes</td>\n",
              "      <td>No</td>\n",
              "      <td>No</td>\n",
              "      <td>No</td>\n",
              "      <td>No</td>\n",
              "      <td>No</td>\n",
              "      <td>No</td>\n",
              "      <td>Month-to-month</td>\n",
              "      <td>Yes</td>\n",
              "      <td>Electronic check</td>\n",
              "      <td>70.70</td>\n",
              "      <td>151.65</td>\n",
              "      <td>1</td>\n",
              "      <td>Fiber optic</td>\n",
              "      <td>No</td>\n",
              "      <td>0.0</td>\n",
              "      <td>0.0</td>\n",
              "      <td>3.0</td>\n",
              "    </tr>\n",
              "  </tbody>\n",
              "</table>\n",
              "</div>"
            ],
            "text/plain": [
              "   customerID  gender  ... TotalCharges_Discretized MonthlyCharges_Discretized\n",
              "0  7590-VHVEG  Female  ...                      0.0                        1.0\n",
              "1  5575-GNVDE    Male  ...                      2.0                        2.0\n",
              "2  3668-QPYBK    Male  ...                      0.0                        2.0\n",
              "3  7795-CFOCW    Male  ...                      2.0                        1.0\n",
              "4  9237-HQITU  Female  ...                      0.0                        3.0\n",
              "\n",
              "[5 rows x 26 columns]"
            ]
          },
          "metadata": {
            "tags": []
          },
          "execution_count": 1689
        }
      ]
    },
    {
      "cell_type": "markdown",
      "metadata": {
        "id": "oGPDlGhBiN_g",
        "colab_type": "text"
      },
      "source": [
        "## Verificando correlações"
      ]
    },
    {
      "cell_type": "code",
      "metadata": {
        "id": "qZ0LxO_SiTYI",
        "colab_type": "code",
        "colab": {
          "base_uri": "https://localhost:8080/",
          "height": 833
        },
        "outputId": "a368fe0f-7440-47a1-d943-bb4ca7199bbc"
      },
      "source": [
        "corr = df_dummies.corr()\n",
        "Churn_col = corr[['Churn']]\n",
        "Churn_col.Churn.abs().sort_values()\n",
        "\n",
        "# Variáveis com mais de 15% de correlação serão escolhidos para construir as features do modelo"
      ],
      "execution_count": 1690,
      "outputs": [
        {
          "output_type": "execute_result",
          "data": {
            "text/plain": [
              "gender_Male                                0.008612\n",
              "gender_Female                              0.008612\n",
              "PhoneService_No                            0.011942\n",
              "PhoneService_Yes                           0.011942\n",
              "MultipleLines_Yes                          0.040102\n",
              "MultipleLines_No                           0.040102\n",
              "StreamingMovies_Yes                        0.061382\n",
              "StreamingMovies_No                         0.061382\n",
              "StreamingTV_No                             0.063228\n",
              "StreamingTV_Yes                            0.063228\n",
              "DeviceProtection_Yes                       0.066160\n",
              "DeviceProtection_No                        0.066160\n",
              "OnlineBackup_Yes                           0.082255\n",
              "OnlineBackup_No                            0.082255\n",
              "PaymentMethod_Mailed check                 0.091683\n",
              "PaymentMethod_Bank transfer (automatic)    0.117937\n",
              "InternetServiceType_DSL                    0.124214\n",
              "PaymentMethod_Credit card (automatic)      0.134302\n",
              "Partner_Yes                                0.150448\n",
              "Partner_No                                 0.150448\n",
              "SeniorCitizen_Yes                          0.150889\n",
              "SeniorCitizen_No                           0.150889\n",
              "Dependents_Yes                             0.164221\n",
              "Dependents_No                              0.164221\n",
              "TechSupport_No                             0.164674\n",
              "TechSupport_Yes                            0.164674\n",
              "OnlineSecurity_No                          0.171226\n",
              "OnlineSecurity_Yes                         0.171226\n",
              "Contract_One year                          0.177820\n",
              "MonthlyCharges_Discretized                 0.185920\n",
              "PaperlessBilling_No                        0.191825\n",
              "PaperlessBilling_Yes                       0.191825\n",
              "MonthlyCharges                             0.193356\n",
              "TotalCharges                               0.198324\n",
              "Payment_Automatic_No                       0.209902\n",
              "Payment_Automatic_Yes                      0.209902\n",
              "TotalCharges_Discretized                   0.221687\n",
              "InternetServiceType_No                     0.227890\n",
              "InternetService_No                         0.227890\n",
              "InternetService_Yes                        0.227890\n",
              "PaymentMethod_Electronic check             0.301919\n",
              "Contract_Two year                          0.302253\n",
              "InternetServiceType_Fiber optic            0.308020\n",
              "tenure                                     0.352229\n",
              "tenure_discretized                         0.361480\n",
              "Contract_Month-to-month                    0.405103\n",
              "Churn                                      1.000000\n",
              "Name: Churn, dtype: float64"
            ]
          },
          "metadata": {
            "tags": []
          },
          "execution_count": 1690
        }
      ]
    },
    {
      "cell_type": "markdown",
      "metadata": {
        "id": "66NfumRKlMuD",
        "colab_type": "text"
      },
      "source": [
        "## Criando modelo"
      ]
    },
    {
      "cell_type": "code",
      "metadata": {
        "id": "XSZWuvwdlPx4",
        "colab_type": "code",
        "colab": {}
      },
      "source": [
        "from sklearn.linear_model import LogisticRegression\n",
        "from sklearn.tree import DecisionTreeClassifier\n",
        "from sklearn.ensemble import RandomForestClassifier\n",
        "from sklearn.neighbors import KNeighborsClassifier\n",
        "from sklearn.svm import LinearSVC\n",
        "from sklearn.svm import SVC\n",
        "\n",
        "from sklearn.model_selection import StratifiedKFold\n",
        "from sklearn.model_selection import GridSearchCV\n",
        "from sklearn.metrics import accuracy_score\n",
        "from sklearn.metrics import precision_recall_fscore_support\n",
        "from sklearn.preprocessing import MinMaxScaler\n",
        "from sklearn.preprocessing import OneHotEncoder\n",
        "\n",
        "def build_models(alg: str):\n",
        "    model = None\n",
        "    if alg == 'logistic_regression':\n",
        "        model = GridSearchCV(\n",
        "            LogisticRegression(n_jobs=-1),\n",
        "            param_grid={\n",
        "                'C': [0.0001, 0.001, 0.01, 0.1, 1],\n",
        "                'class_weight': [None, 'balanced']\n",
        "            },\n",
        "            scoring='recall',\n",
        "            cv=StratifiedKFold(10),\n",
        "            n_jobs=-1,\n",
        "            verbose=1\n",
        "        )\n",
        "    elif alg == 'decision_tree':\n",
        "        model = GridSearchCV(\n",
        "            DecisionTreeClassifier(),\n",
        "            param_grid={\n",
        "                'criterion': ['gini', 'entropy'],\n",
        "                'max_depth': [None, 2, 4, 8],\n",
        "                'min_samples_split': [2, 4, 8],\n",
        "                'class_weight': [None, 'balanced']\n",
        "            },\n",
        "            scoring='recall',\n",
        "            cv=StratifiedKFold(10),\n",
        "            n_jobs=-1,\n",
        "            verbose=1\n",
        "        )\n",
        "    elif alg == 'random_forest':\n",
        "        model = GridSearchCV(\n",
        "            RandomForestClassifier(n_estimators=50, n_jobs=-1),\n",
        "            param_grid={\n",
        "                'criterion': ['gini', 'entropy'],\n",
        "                'max_depth': [None, 2, 4, 8],\n",
        "                'min_samples_split': [2, 4, 8],\n",
        "                'class_weight': [None, 'balanced']\n",
        "            },\n",
        "            scoring='recall',\n",
        "            cv=StratifiedKFold(10),\n",
        "            n_jobs=-1,\n",
        "            verbose=1\n",
        "        )\n",
        "    elif alg == 'knn':\n",
        "        model = GridSearchCV(\n",
        "            KNeighborsClassifier(n_jobs=-1),\n",
        "            param_grid={\n",
        "                'n_neighbors': [3, 5, 7],\n",
        "                'weights': ['uniform', 'distance'],\n",
        "            }, \n",
        "            scoring='recall',\n",
        "            cv=StratifiedKFold(10),\n",
        "            n_jobs=-1,\n",
        "            verbose=1\n",
        "        )\n",
        "    elif alg == 'svm':\n",
        "        model = GridSearchCV(\n",
        "            SVC(),\n",
        "            param_grid={\n",
        "                'C': [0.0001, 0.001, 0.01, 0.1, 1, 10],\n",
        "                'class_weight': [None, 'balanced'],\n",
        "                'kernel': ['linear', 'poly']\n",
        "            },\n",
        "            scoring='f1',\n",
        "            cv=StratifiedKFold(10),\n",
        "            n_jobs=-1,\n",
        "            verbose=1\n",
        "        )\n",
        "    \n",
        "    return model"
      ],
      "execution_count": 1691,
      "outputs": []
    },
    {
      "cell_type": "code",
      "metadata": {
        "id": "HfAsAD3plS3t",
        "colab_type": "code",
        "colab": {}
      },
      "source": [
        "def build_features(df_train, df_test):\n",
        "    cat_cols = ['Partner', 'SeniorCitizen', 'Dependents', 'TechSupport', \n",
        "                'OnlineSecurity', 'Contract', 'PaperlessBilling', \n",
        "                'Payment_Automatic', 'InternetServiceType', 'InternetService', 'PaymentMethod']\n",
        "\n",
        "    ohe = OneHotEncoder(sparse=False)\n",
        "    ohe_train = ohe.fit_transform(df_train[cat_cols])\n",
        "    ohe_test = ohe.transform(df_test[cat_cols])\n",
        "\n",
        "    mm = MinMaxScaler()\n",
        "    mm_train = mm.fit_transform(df_train[['tenure_discretized', 'TotalCharges_Discretized', 'MonthlyCharges_Discretized']])\n",
        "    mm_test = mm.transform(df_test[['tenure_discretized', 'TotalCharges_Discretized', 'MonthlyCharges_Discretized']])\n",
        "\n",
        "    x_train = np.hstack([ohe_train, mm_train])\n",
        "    x_test = np.hstack([ohe_test, mm_test])\n",
        "\n",
        "    y_train = df_train.Churn.values\n",
        "    y_test = df_test.Churn.values\n",
        "\n",
        "    return x_train, y_train, x_test, y_test"
      ],
      "execution_count": 1692,
      "outputs": []
    },
    {
      "cell_type": "code",
      "metadata": {
        "id": "OBvCGcTYlVn-",
        "colab_type": "code",
        "colab": {
          "base_uri": "https://localhost:8080/",
          "height": 1000
        },
        "outputId": "d2084186-f139-4f04-f3c7-5dc8fa7d6b20"
      },
      "source": [
        "algs = ['logistic_regression', 'decision_tree', 'random_forest', 'knn', 'svm']\n",
        "results_matrix = np.zeros(shape=(len(algs), 10, 4, 2)) # shape = (algoritmo, fold, métrica, dataset)\n",
        "for alg_index, alg in enumerate(algs):\n",
        "    cv = StratifiedKFold(10, shuffle=True)\n",
        "    for fold, (train, test) in enumerate(cv.split(df_churn, df_churn.Churn.values)):\n",
        "        df_train = df_churn.iloc[train]\n",
        "        df_test = df_churn.iloc[test]\n",
        "\n",
        "        x_train, y_train, x_test, y_test = build_features(df_train, df_test)\n",
        "\n",
        "        model = build_models(alg)\n",
        "        model.fit(x_train, y_train)\n",
        "\n",
        "        y_pred_train = model.predict(x_train)\n",
        "        y_pred_test = model.predict(x_test)\n",
        "\n",
        "        # acurácia, treino e teste\n",
        "        results_matrix[alg_index, fold, 0, 0] = accuracy_score(y_train, y_pred_train)\n",
        "        results_matrix[alg_index, fold, 0, 1] = accuracy_score(y_test, y_pred_test)\n",
        "\n",
        "        p_train, r_train, f_train, _ = precision_recall_fscore_support(y_train, y_pred_train, average='binary')\n",
        "        p_test, r_test, f_test, _ = precision_recall_fscore_support(y_test, y_pred_test, average='binary')\n",
        "\n",
        "        # precisão, treino e teste\n",
        "        results_matrix[alg_index, fold, 1, 0] = p_train\n",
        "        results_matrix[alg_index, fold, 1, 1] = p_test\n",
        "\n",
        "        # cobertura, treino e teste\n",
        "        results_matrix[alg_index, fold, 2, 0] = r_train\n",
        "        results_matrix[alg_index, fold, 2, 1] = r_test\n",
        "\n",
        "        # fscore, treino e teste\n",
        "        results_matrix[alg_index, fold, 3, 0] = f_train\n",
        "        results_matrix[alg_index, fold, 3, 1] = f_test\n",
        "    \n",
        "    print('-' * 50)\n",
        "    print(alg)\n",
        "    print('-' * 50)\n",
        "    print('Treino - Acurácia', results_matrix[alg_index,:,0,0].mean())\n",
        "    print('Treino - Precisão', results_matrix[alg_index,:,1,0].mean())\n",
        "    print('Treino - Cobertura', results_matrix[alg_index,:,2,0].mean())\n",
        "    print('Treino - Medida F', results_matrix[alg_index,:,3,0].mean())\n",
        "    print('-' * 50)\n",
        "    print('Teste - Acurácia', results_matrix[alg_index,:,0,1].mean())\n",
        "    print('Teste - Precisão', results_matrix[alg_index,:,1,1].mean())\n",
        "    print('Teste - Cobertura', results_matrix[alg_index,:,2,1].mean())\n",
        "    print('Teste - Medida F', results_matrix[alg_index,:,3,1].mean())\n",
        "    print()"
      ],
      "execution_count": 1693,
      "outputs": [
        {
          "output_type": "stream",
          "text": [
            "Fitting 10 folds for each of 10 candidates, totalling 100 fits\n"
          ],
          "name": "stdout"
        },
        {
          "output_type": "stream",
          "text": [
            "[Parallel(n_jobs=-1)]: Using backend LokyBackend with 2 concurrent workers.\n",
            "[Parallel(n_jobs=-1)]: Done  88 tasks      | elapsed:    4.9s\n",
            "[Parallel(n_jobs=-1)]: Done 100 out of 100 | elapsed:    5.7s finished\n"
          ],
          "name": "stderr"
        },
        {
          "output_type": "stream",
          "text": [
            "Fitting 10 folds for each of 10 candidates, totalling 100 fits\n"
          ],
          "name": "stdout"
        },
        {
          "output_type": "stream",
          "text": [
            "[Parallel(n_jobs=-1)]: Using backend LokyBackend with 2 concurrent workers.\n",
            "[Parallel(n_jobs=-1)]: Done  88 tasks      | elapsed:    4.8s\n",
            "[Parallel(n_jobs=-1)]: Done 100 out of 100 | elapsed:    5.7s finished\n"
          ],
          "name": "stderr"
        },
        {
          "output_type": "stream",
          "text": [
            "Fitting 10 folds for each of 10 candidates, totalling 100 fits\n"
          ],
          "name": "stdout"
        },
        {
          "output_type": "stream",
          "text": [
            "[Parallel(n_jobs=-1)]: Using backend LokyBackend with 2 concurrent workers.\n",
            "[Parallel(n_jobs=-1)]: Done  88 tasks      | elapsed:    4.8s\n",
            "[Parallel(n_jobs=-1)]: Done 100 out of 100 | elapsed:    5.7s finished\n"
          ],
          "name": "stderr"
        },
        {
          "output_type": "stream",
          "text": [
            "Fitting 10 folds for each of 10 candidates, totalling 100 fits\n"
          ],
          "name": "stdout"
        },
        {
          "output_type": "stream",
          "text": [
            "[Parallel(n_jobs=-1)]: Using backend LokyBackend with 2 concurrent workers.\n",
            "[Parallel(n_jobs=-1)]: Done  88 tasks      | elapsed:    4.8s\n",
            "[Parallel(n_jobs=-1)]: Done 100 out of 100 | elapsed:    5.7s finished\n"
          ],
          "name": "stderr"
        },
        {
          "output_type": "stream",
          "text": [
            "Fitting 10 folds for each of 10 candidates, totalling 100 fits\n"
          ],
          "name": "stdout"
        },
        {
          "output_type": "stream",
          "text": [
            "[Parallel(n_jobs=-1)]: Using backend LokyBackend with 2 concurrent workers.\n",
            "[Parallel(n_jobs=-1)]: Done  88 tasks      | elapsed:    4.9s\n",
            "[Parallel(n_jobs=-1)]: Done 100 out of 100 | elapsed:    5.8s finished\n"
          ],
          "name": "stderr"
        },
        {
          "output_type": "stream",
          "text": [
            "Fitting 10 folds for each of 10 candidates, totalling 100 fits\n"
          ],
          "name": "stdout"
        },
        {
          "output_type": "stream",
          "text": [
            "[Parallel(n_jobs=-1)]: Using backend LokyBackend with 2 concurrent workers.\n",
            "[Parallel(n_jobs=-1)]: Done  88 tasks      | elapsed:    4.9s\n",
            "[Parallel(n_jobs=-1)]: Done 100 out of 100 | elapsed:    5.9s finished\n"
          ],
          "name": "stderr"
        },
        {
          "output_type": "stream",
          "text": [
            "Fitting 10 folds for each of 10 candidates, totalling 100 fits\n"
          ],
          "name": "stdout"
        },
        {
          "output_type": "stream",
          "text": [
            "[Parallel(n_jobs=-1)]: Using backend LokyBackend with 2 concurrent workers.\n",
            "[Parallel(n_jobs=-1)]: Done  88 tasks      | elapsed:    4.9s\n",
            "[Parallel(n_jobs=-1)]: Done 100 out of 100 | elapsed:    5.9s finished\n"
          ],
          "name": "stderr"
        },
        {
          "output_type": "stream",
          "text": [
            "Fitting 10 folds for each of 10 candidates, totalling 100 fits\n"
          ],
          "name": "stdout"
        },
        {
          "output_type": "stream",
          "text": [
            "[Parallel(n_jobs=-1)]: Using backend LokyBackend with 2 concurrent workers.\n",
            "[Parallel(n_jobs=-1)]: Done  88 tasks      | elapsed:    4.9s\n",
            "[Parallel(n_jobs=-1)]: Done 100 out of 100 | elapsed:    5.8s finished\n"
          ],
          "name": "stderr"
        },
        {
          "output_type": "stream",
          "text": [
            "Fitting 10 folds for each of 10 candidates, totalling 100 fits\n"
          ],
          "name": "stdout"
        },
        {
          "output_type": "stream",
          "text": [
            "[Parallel(n_jobs=-1)]: Using backend LokyBackend with 2 concurrent workers.\n",
            "[Parallel(n_jobs=-1)]: Done  88 tasks      | elapsed:    4.8s\n",
            "[Parallel(n_jobs=-1)]: Done 100 out of 100 | elapsed:    5.8s finished\n"
          ],
          "name": "stderr"
        },
        {
          "output_type": "stream",
          "text": [
            "Fitting 10 folds for each of 10 candidates, totalling 100 fits\n"
          ],
          "name": "stdout"
        },
        {
          "output_type": "stream",
          "text": [
            "[Parallel(n_jobs=-1)]: Using backend LokyBackend with 2 concurrent workers.\n",
            "[Parallel(n_jobs=-1)]: Done  88 tasks      | elapsed:    4.9s\n",
            "[Parallel(n_jobs=-1)]: Done 100 out of 100 | elapsed:    5.8s finished\n"
          ],
          "name": "stderr"
        },
        {
          "output_type": "stream",
          "text": [
            "--------------------------------------------------\n",
            "logistic_regression\n",
            "--------------------------------------------------\n",
            "Treino - Acurácia 0.7458311909161413\n",
            "Treino - Precisão 0.5135684779555332\n",
            "Treino - Cobertura 0.8002500701213717\n",
            "Treino - Medida F 0.6256245862355948\n",
            "--------------------------------------------------\n",
            "Teste - Acurácia 0.7440022566086396\n",
            "Teste - Precisão 0.5124393465773243\n",
            "Teste - Cobertura 0.7945719050083377\n",
            "Teste - Medida F 0.6226201972484944\n",
            "\n",
            "Fitting 10 folds for each of 48 candidates, totalling 480 fits\n"
          ],
          "name": "stdout"
        },
        {
          "output_type": "stream",
          "text": [
            "[Parallel(n_jobs=-1)]: Using backend LokyBackend with 2 concurrent workers.\n",
            "[Parallel(n_jobs=-1)]: Done 300 tasks      | elapsed:    3.3s\n",
            "[Parallel(n_jobs=-1)]: Done 480 out of 480 | elapsed:    5.5s finished\n",
            "[Parallel(n_jobs=-1)]: Using backend LokyBackend with 2 concurrent workers.\n"
          ],
          "name": "stderr"
        },
        {
          "output_type": "stream",
          "text": [
            "Fitting 10 folds for each of 48 candidates, totalling 480 fits\n"
          ],
          "name": "stdout"
        },
        {
          "output_type": "stream",
          "text": [
            "[Parallel(n_jobs=-1)]: Done 300 tasks      | elapsed:    3.3s\n",
            "[Parallel(n_jobs=-1)]: Done 480 out of 480 | elapsed:    5.5s finished\n",
            "[Parallel(n_jobs=-1)]: Using backend LokyBackend with 2 concurrent workers.\n"
          ],
          "name": "stderr"
        },
        {
          "output_type": "stream",
          "text": [
            "Fitting 10 folds for each of 48 candidates, totalling 480 fits\n"
          ],
          "name": "stdout"
        },
        {
          "output_type": "stream",
          "text": [
            "[Parallel(n_jobs=-1)]: Done 300 tasks      | elapsed:    3.3s\n",
            "[Parallel(n_jobs=-1)]: Done 480 out of 480 | elapsed:    5.4s finished\n",
            "[Parallel(n_jobs=-1)]: Using backend LokyBackend with 2 concurrent workers.\n"
          ],
          "name": "stderr"
        },
        {
          "output_type": "stream",
          "text": [
            "Fitting 10 folds for each of 48 candidates, totalling 480 fits\n"
          ],
          "name": "stdout"
        },
        {
          "output_type": "stream",
          "text": [
            "[Parallel(n_jobs=-1)]: Done 300 tasks      | elapsed:    3.3s\n",
            "[Parallel(n_jobs=-1)]: Done 480 out of 480 | elapsed:    5.4s finished\n",
            "[Parallel(n_jobs=-1)]: Using backend LokyBackend with 2 concurrent workers.\n"
          ],
          "name": "stderr"
        },
        {
          "output_type": "stream",
          "text": [
            "Fitting 10 folds for each of 48 candidates, totalling 480 fits\n"
          ],
          "name": "stdout"
        },
        {
          "output_type": "stream",
          "text": [
            "[Parallel(n_jobs=-1)]: Done 300 tasks      | elapsed:    3.3s\n",
            "[Parallel(n_jobs=-1)]: Done 480 out of 480 | elapsed:    5.4s finished\n",
            "[Parallel(n_jobs=-1)]: Using backend LokyBackend with 2 concurrent workers.\n"
          ],
          "name": "stderr"
        },
        {
          "output_type": "stream",
          "text": [
            "Fitting 10 folds for each of 48 candidates, totalling 480 fits\n"
          ],
          "name": "stdout"
        },
        {
          "output_type": "stream",
          "text": [
            "[Parallel(n_jobs=-1)]: Done 300 tasks      | elapsed:    3.3s\n",
            "[Parallel(n_jobs=-1)]: Done 480 out of 480 | elapsed:    5.4s finished\n",
            "[Parallel(n_jobs=-1)]: Using backend LokyBackend with 2 concurrent workers.\n"
          ],
          "name": "stderr"
        },
        {
          "output_type": "stream",
          "text": [
            "Fitting 10 folds for each of 48 candidates, totalling 480 fits\n"
          ],
          "name": "stdout"
        },
        {
          "output_type": "stream",
          "text": [
            "[Parallel(n_jobs=-1)]: Done 300 tasks      | elapsed:    3.3s\n",
            "[Parallel(n_jobs=-1)]: Done 480 out of 480 | elapsed:    5.4s finished\n",
            "[Parallel(n_jobs=-1)]: Using backend LokyBackend with 2 concurrent workers.\n"
          ],
          "name": "stderr"
        },
        {
          "output_type": "stream",
          "text": [
            "Fitting 10 folds for each of 48 candidates, totalling 480 fits\n"
          ],
          "name": "stdout"
        },
        {
          "output_type": "stream",
          "text": [
            "[Parallel(n_jobs=-1)]: Done 300 tasks      | elapsed:    3.3s\n",
            "[Parallel(n_jobs=-1)]: Done 480 out of 480 | elapsed:    5.4s finished\n",
            "[Parallel(n_jobs=-1)]: Using backend LokyBackend with 2 concurrent workers.\n"
          ],
          "name": "stderr"
        },
        {
          "output_type": "stream",
          "text": [
            "Fitting 10 folds for each of 48 candidates, totalling 480 fits\n"
          ],
          "name": "stdout"
        },
        {
          "output_type": "stream",
          "text": [
            "[Parallel(n_jobs=-1)]: Done 300 tasks      | elapsed:    3.3s\n",
            "[Parallel(n_jobs=-1)]: Done 480 out of 480 | elapsed:    5.4s finished\n",
            "[Parallel(n_jobs=-1)]: Using backend LokyBackend with 2 concurrent workers.\n"
          ],
          "name": "stderr"
        },
        {
          "output_type": "stream",
          "text": [
            "Fitting 10 folds for each of 48 candidates, totalling 480 fits\n"
          ],
          "name": "stdout"
        },
        {
          "output_type": "stream",
          "text": [
            "[Parallel(n_jobs=-1)]: Done 453 tasks      | elapsed:    5.1s\n",
            "[Parallel(n_jobs=-1)]: Done 480 out of 480 | elapsed:    5.4s finished\n",
            "[Parallel(n_jobs=-1)]: Using backend LokyBackend with 2 concurrent workers.\n"
          ],
          "name": "stderr"
        },
        {
          "output_type": "stream",
          "text": [
            "--------------------------------------------------\n",
            "decision_tree\n",
            "--------------------------------------------------\n",
            "Treino - Acurácia 0.6544086353587769\n",
            "Treino - Precisão 0.4270977821984263\n",
            "Treino - Cobertura 0.8855003133383214\n",
            "Treino - Medida F 0.5762540704980438\n",
            "--------------------------------------------------\n",
            "Teste - Acurácia 0.6544088491295937\n",
            "Teste - Precisão 0.42717869749480136\n",
            "Teste - Cobertura 0.8855039963199356\n",
            "Teste - Medida F 0.5763013946119171\n",
            "\n",
            "Fitting 10 folds for each of 48 candidates, totalling 480 fits\n"
          ],
          "name": "stdout"
        },
        {
          "output_type": "stream",
          "text": [
            "[Parallel(n_jobs=-1)]: Done  46 tasks      | elapsed:   11.0s\n",
            "[Parallel(n_jobs=-1)]: Done 196 tasks      | elapsed:   39.2s\n",
            "[Parallel(n_jobs=-1)]: Done 446 tasks      | elapsed:  1.5min\n",
            "[Parallel(n_jobs=-1)]: Done 480 out of 480 | elapsed:  1.6min finished\n"
          ],
          "name": "stderr"
        },
        {
          "output_type": "stream",
          "text": [
            "Fitting 10 folds for each of 48 candidates, totalling 480 fits\n"
          ],
          "name": "stdout"
        },
        {
          "output_type": "stream",
          "text": [
            "[Parallel(n_jobs=-1)]: Using backend LokyBackend with 2 concurrent workers.\n",
            "[Parallel(n_jobs=-1)]: Done  46 tasks      | elapsed:   10.9s\n",
            "[Parallel(n_jobs=-1)]: Done 196 tasks      | elapsed:   40.4s\n",
            "[Parallel(n_jobs=-1)]: Done 446 tasks      | elapsed:  1.5min\n",
            "[Parallel(n_jobs=-1)]: Done 480 out of 480 | elapsed:  1.6min finished\n"
          ],
          "name": "stderr"
        },
        {
          "output_type": "stream",
          "text": [
            "Fitting 10 folds for each of 48 candidates, totalling 480 fits\n"
          ],
          "name": "stdout"
        },
        {
          "output_type": "stream",
          "text": [
            "[Parallel(n_jobs=-1)]: Using backend LokyBackend with 2 concurrent workers.\n",
            "[Parallel(n_jobs=-1)]: Done  46 tasks      | elapsed:   10.8s\n",
            "[Parallel(n_jobs=-1)]: Done 196 tasks      | elapsed:   38.9s\n",
            "[Parallel(n_jobs=-1)]: Done 446 tasks      | elapsed:  1.5min\n",
            "[Parallel(n_jobs=-1)]: Done 480 out of 480 | elapsed:  1.6min finished\n"
          ],
          "name": "stderr"
        },
        {
          "output_type": "stream",
          "text": [
            "Fitting 10 folds for each of 48 candidates, totalling 480 fits\n"
          ],
          "name": "stdout"
        },
        {
          "output_type": "stream",
          "text": [
            "[Parallel(n_jobs=-1)]: Using backend LokyBackend with 2 concurrent workers.\n",
            "[Parallel(n_jobs=-1)]: Done  46 tasks      | elapsed:   10.0s\n",
            "[Parallel(n_jobs=-1)]: Done 196 tasks      | elapsed:   40.1s\n",
            "[Parallel(n_jobs=-1)]: Done 446 tasks      | elapsed:  1.5min\n",
            "[Parallel(n_jobs=-1)]: Done 480 out of 480 | elapsed:  1.6min finished\n"
          ],
          "name": "stderr"
        },
        {
          "output_type": "stream",
          "text": [
            "Fitting 10 folds for each of 48 candidates, totalling 480 fits\n"
          ],
          "name": "stdout"
        },
        {
          "output_type": "stream",
          "text": [
            "[Parallel(n_jobs=-1)]: Using backend LokyBackend with 2 concurrent workers.\n",
            "[Parallel(n_jobs=-1)]: Done  46 tasks      | elapsed:   10.2s\n",
            "[Parallel(n_jobs=-1)]: Done 196 tasks      | elapsed:   37.9s\n",
            "[Parallel(n_jobs=-1)]: Done 446 tasks      | elapsed:  1.5min\n",
            "[Parallel(n_jobs=-1)]: Done 480 out of 480 | elapsed:  1.6min finished\n"
          ],
          "name": "stderr"
        },
        {
          "output_type": "stream",
          "text": [
            "Fitting 10 folds for each of 48 candidates, totalling 480 fits\n"
          ],
          "name": "stdout"
        },
        {
          "output_type": "stream",
          "text": [
            "[Parallel(n_jobs=-1)]: Using backend LokyBackend with 2 concurrent workers.\n",
            "[Parallel(n_jobs=-1)]: Done  46 tasks      | elapsed:   10.5s\n",
            "[Parallel(n_jobs=-1)]: Done 196 tasks      | elapsed:   39.8s\n",
            "[Parallel(n_jobs=-1)]: Done 446 tasks      | elapsed:  1.5min\n",
            "[Parallel(n_jobs=-1)]: Done 480 out of 480 | elapsed:  1.6min finished\n"
          ],
          "name": "stderr"
        },
        {
          "output_type": "stream",
          "text": [
            "Fitting 10 folds for each of 48 candidates, totalling 480 fits\n"
          ],
          "name": "stdout"
        },
        {
          "output_type": "stream",
          "text": [
            "[Parallel(n_jobs=-1)]: Using backend LokyBackend with 2 concurrent workers.\n",
            "[Parallel(n_jobs=-1)]: Done  46 tasks      | elapsed:    9.8s\n",
            "[Parallel(n_jobs=-1)]: Done 196 tasks      | elapsed:   38.9s\n",
            "[Parallel(n_jobs=-1)]: Done 446 tasks      | elapsed:  1.5min\n",
            "[Parallel(n_jobs=-1)]: Done 480 out of 480 | elapsed:  1.6min finished\n"
          ],
          "name": "stderr"
        },
        {
          "output_type": "stream",
          "text": [
            "Fitting 10 folds for each of 48 candidates, totalling 480 fits\n"
          ],
          "name": "stdout"
        },
        {
          "output_type": "stream",
          "text": [
            "[Parallel(n_jobs=-1)]: Using backend LokyBackend with 2 concurrent workers.\n",
            "[Parallel(n_jobs=-1)]: Done  46 tasks      | elapsed:   10.8s\n",
            "[Parallel(n_jobs=-1)]: Done 196 tasks      | elapsed:   39.9s\n",
            "[Parallel(n_jobs=-1)]: Done 446 tasks      | elapsed:  1.5min\n",
            "[Parallel(n_jobs=-1)]: Done 480 out of 480 | elapsed:  1.6min finished\n"
          ],
          "name": "stderr"
        },
        {
          "output_type": "stream",
          "text": [
            "Fitting 10 folds for each of 48 candidates, totalling 480 fits\n"
          ],
          "name": "stdout"
        },
        {
          "output_type": "stream",
          "text": [
            "[Parallel(n_jobs=-1)]: Using backend LokyBackend with 2 concurrent workers.\n",
            "[Parallel(n_jobs=-1)]: Done  46 tasks      | elapsed:   10.9s\n",
            "[Parallel(n_jobs=-1)]: Done 196 tasks      | elapsed:   39.9s\n",
            "[Parallel(n_jobs=-1)]: Done 446 tasks      | elapsed:  1.5min\n",
            "[Parallel(n_jobs=-1)]: Done 480 out of 480 | elapsed:  1.6min finished\n"
          ],
          "name": "stderr"
        },
        {
          "output_type": "stream",
          "text": [
            "Fitting 10 folds for each of 48 candidates, totalling 480 fits\n"
          ],
          "name": "stdout"
        },
        {
          "output_type": "stream",
          "text": [
            "[Parallel(n_jobs=-1)]: Using backend LokyBackend with 2 concurrent workers.\n",
            "[Parallel(n_jobs=-1)]: Done  46 tasks      | elapsed:   10.9s\n",
            "[Parallel(n_jobs=-1)]: Done 196 tasks      | elapsed:   38.5s\n",
            "[Parallel(n_jobs=-1)]: Done 446 tasks      | elapsed:  1.5min\n",
            "[Parallel(n_jobs=-1)]: Done 480 out of 480 | elapsed:  1.6min finished\n"
          ],
          "name": "stderr"
        },
        {
          "output_type": "stream",
          "text": [
            "--------------------------------------------------\n",
            "random_forest\n",
            "--------------------------------------------------\n",
            "Treino - Acurácia 0.7113289502825302\n",
            "Treino - Precisão 0.4749239458037173\n",
            "Treino - Cobertura 0.8270019563332844\n",
            "Treino - Medida F 0.603293402962316\n",
            "--------------------------------------------------\n",
            "Teste - Acurácia 0.7114815038684719\n",
            "Teste - Precisão 0.475453161093793\n",
            "Teste - Cobertura 0.823431660054051\n",
            "Teste - Medida F 0.6025526592190646\n",
            "\n",
            "Fitting 10 folds for each of 6 candidates, totalling 60 fits\n"
          ],
          "name": "stdout"
        },
        {
          "output_type": "stream",
          "text": [
            "[Parallel(n_jobs=-1)]: Using backend LokyBackend with 2 concurrent workers.\n",
            "[Parallel(n_jobs=-1)]: Done  46 tasks      | elapsed:    6.2s\n",
            "[Parallel(n_jobs=-1)]: Done  60 out of  60 | elapsed:    7.9s finished\n"
          ],
          "name": "stderr"
        },
        {
          "output_type": "stream",
          "text": [
            "Fitting 10 folds for each of 6 candidates, totalling 60 fits\n"
          ],
          "name": "stdout"
        },
        {
          "output_type": "stream",
          "text": [
            "[Parallel(n_jobs=-1)]: Using backend LokyBackend with 2 concurrent workers.\n",
            "[Parallel(n_jobs=-1)]: Done  46 tasks      | elapsed:    6.2s\n",
            "[Parallel(n_jobs=-1)]: Done  60 out of  60 | elapsed:    7.9s finished\n"
          ],
          "name": "stderr"
        },
        {
          "output_type": "stream",
          "text": [
            "Fitting 10 folds for each of 6 candidates, totalling 60 fits\n"
          ],
          "name": "stdout"
        },
        {
          "output_type": "stream",
          "text": [
            "[Parallel(n_jobs=-1)]: Using backend LokyBackend with 2 concurrent workers.\n",
            "[Parallel(n_jobs=-1)]: Done  46 tasks      | elapsed:    6.3s\n",
            "[Parallel(n_jobs=-1)]: Done  60 out of  60 | elapsed:    8.2s finished\n"
          ],
          "name": "stderr"
        },
        {
          "output_type": "stream",
          "text": [
            "Fitting 10 folds for each of 6 candidates, totalling 60 fits\n"
          ],
          "name": "stdout"
        },
        {
          "output_type": "stream",
          "text": [
            "[Parallel(n_jobs=-1)]: Using backend LokyBackend with 2 concurrent workers.\n",
            "[Parallel(n_jobs=-1)]: Done  46 tasks      | elapsed:    6.2s\n",
            "[Parallel(n_jobs=-1)]: Done  60 out of  60 | elapsed:    8.0s finished\n"
          ],
          "name": "stderr"
        },
        {
          "output_type": "stream",
          "text": [
            "Fitting 10 folds for each of 6 candidates, totalling 60 fits\n"
          ],
          "name": "stdout"
        },
        {
          "output_type": "stream",
          "text": [
            "[Parallel(n_jobs=-1)]: Using backend LokyBackend with 2 concurrent workers.\n",
            "[Parallel(n_jobs=-1)]: Done  46 tasks      | elapsed:    6.3s\n",
            "[Parallel(n_jobs=-1)]: Done  60 out of  60 | elapsed:    8.2s finished\n"
          ],
          "name": "stderr"
        },
        {
          "output_type": "stream",
          "text": [
            "Fitting 10 folds for each of 6 candidates, totalling 60 fits\n"
          ],
          "name": "stdout"
        },
        {
          "output_type": "stream",
          "text": [
            "[Parallel(n_jobs=-1)]: Using backend LokyBackend with 2 concurrent workers.\n",
            "[Parallel(n_jobs=-1)]: Done  46 tasks      | elapsed:    6.2s\n",
            "[Parallel(n_jobs=-1)]: Done  60 out of  60 | elapsed:    7.9s finished\n"
          ],
          "name": "stderr"
        },
        {
          "output_type": "stream",
          "text": [
            "Fitting 10 folds for each of 6 candidates, totalling 60 fits\n"
          ],
          "name": "stdout"
        },
        {
          "output_type": "stream",
          "text": [
            "[Parallel(n_jobs=-1)]: Using backend LokyBackend with 2 concurrent workers.\n",
            "[Parallel(n_jobs=-1)]: Done  46 tasks      | elapsed:    6.2s\n",
            "[Parallel(n_jobs=-1)]: Done  60 out of  60 | elapsed:    8.1s finished\n"
          ],
          "name": "stderr"
        },
        {
          "output_type": "stream",
          "text": [
            "Fitting 10 folds for each of 6 candidates, totalling 60 fits\n"
          ],
          "name": "stdout"
        },
        {
          "output_type": "stream",
          "text": [
            "[Parallel(n_jobs=-1)]: Using backend LokyBackend with 2 concurrent workers.\n",
            "[Parallel(n_jobs=-1)]: Done  46 tasks      | elapsed:    6.3s\n",
            "[Parallel(n_jobs=-1)]: Done  60 out of  60 | elapsed:    8.1s finished\n"
          ],
          "name": "stderr"
        },
        {
          "output_type": "stream",
          "text": [
            "Fitting 10 folds for each of 6 candidates, totalling 60 fits\n"
          ],
          "name": "stdout"
        },
        {
          "output_type": "stream",
          "text": [
            "[Parallel(n_jobs=-1)]: Using backend LokyBackend with 2 concurrent workers.\n",
            "[Parallel(n_jobs=-1)]: Done  46 tasks      | elapsed:    6.1s\n",
            "[Parallel(n_jobs=-1)]: Done  60 out of  60 | elapsed:    7.9s finished\n"
          ],
          "name": "stderr"
        },
        {
          "output_type": "stream",
          "text": [
            "Fitting 10 folds for each of 6 candidates, totalling 60 fits\n"
          ],
          "name": "stdout"
        },
        {
          "output_type": "stream",
          "text": [
            "[Parallel(n_jobs=-1)]: Using backend LokyBackend with 2 concurrent workers.\n",
            "[Parallel(n_jobs=-1)]: Done  46 tasks      | elapsed:    6.2s\n",
            "[Parallel(n_jobs=-1)]: Done  60 out of  60 | elapsed:    8.1s finished\n"
          ],
          "name": "stderr"
        },
        {
          "output_type": "stream",
          "text": [
            "--------------------------------------------------\n",
            "knn\n",
            "--------------------------------------------------\n",
            "Treino - Acurácia 0.8284029736526616\n",
            "Treino - Precisão 0.7134152590151792\n",
            "Treino - Cobertura 0.5881233118765469\n",
            "Treino - Medida F 0.6443088642877456\n",
            "--------------------------------------------------\n",
            "Teste - Acurácia 0.7725400950999355\n",
            "Teste - Precisão 0.5877059141801447\n",
            "Teste - Cobertura 0.47565982404692086\n",
            "Teste - Medida F 0.525618858410111\n",
            "\n",
            "Fitting 10 folds for each of 24 candidates, totalling 240 fits\n"
          ],
          "name": "stdout"
        },
        {
          "output_type": "stream",
          "text": [
            "[Parallel(n_jobs=-1)]: Using backend LokyBackend with 2 concurrent workers.\n",
            "[Parallel(n_jobs=-1)]: Done  46 tasks      | elapsed:   48.8s\n",
            "[Parallel(n_jobs=-1)]: Done 196 tasks      | elapsed:  3.0min\n",
            "[Parallel(n_jobs=-1)]: Done 240 out of 240 | elapsed:  4.6min finished\n"
          ],
          "name": "stderr"
        },
        {
          "output_type": "stream",
          "text": [
            "Fitting 10 folds for each of 24 candidates, totalling 240 fits\n"
          ],
          "name": "stdout"
        },
        {
          "output_type": "stream",
          "text": [
            "[Parallel(n_jobs=-1)]: Using backend LokyBackend with 2 concurrent workers.\n",
            "[Parallel(n_jobs=-1)]: Done  46 tasks      | elapsed:   48.4s\n",
            "[Parallel(n_jobs=-1)]: Done 196 tasks      | elapsed:  3.0min\n",
            "[Parallel(n_jobs=-1)]: Done 240 out of 240 | elapsed:  4.6min finished\n"
          ],
          "name": "stderr"
        },
        {
          "output_type": "stream",
          "text": [
            "Fitting 10 folds for each of 24 candidates, totalling 240 fits\n"
          ],
          "name": "stdout"
        },
        {
          "output_type": "stream",
          "text": [
            "[Parallel(n_jobs=-1)]: Using backend LokyBackend with 2 concurrent workers.\n",
            "[Parallel(n_jobs=-1)]: Done  46 tasks      | elapsed:   48.6s\n",
            "[Parallel(n_jobs=-1)]: Done 196 tasks      | elapsed:  3.0min\n",
            "[Parallel(n_jobs=-1)]: Done 240 out of 240 | elapsed:  4.5min finished\n"
          ],
          "name": "stderr"
        },
        {
          "output_type": "stream",
          "text": [
            "Fitting 10 folds for each of 24 candidates, totalling 240 fits\n"
          ],
          "name": "stdout"
        },
        {
          "output_type": "stream",
          "text": [
            "[Parallel(n_jobs=-1)]: Using backend LokyBackend with 2 concurrent workers.\n",
            "[Parallel(n_jobs=-1)]: Done  46 tasks      | elapsed:   50.2s\n",
            "[Parallel(n_jobs=-1)]: Done 196 tasks      | elapsed:  3.0min\n",
            "[Parallel(n_jobs=-1)]: Done 240 out of 240 | elapsed:  4.6min finished\n"
          ],
          "name": "stderr"
        },
        {
          "output_type": "stream",
          "text": [
            "Fitting 10 folds for each of 24 candidates, totalling 240 fits\n"
          ],
          "name": "stdout"
        },
        {
          "output_type": "stream",
          "text": [
            "[Parallel(n_jobs=-1)]: Using backend LokyBackend with 2 concurrent workers.\n",
            "[Parallel(n_jobs=-1)]: Done  46 tasks      | elapsed:   48.4s\n",
            "[Parallel(n_jobs=-1)]: Done 196 tasks      | elapsed:  3.0min\n",
            "[Parallel(n_jobs=-1)]: Done 240 out of 240 | elapsed:  4.6min finished\n"
          ],
          "name": "stderr"
        },
        {
          "output_type": "stream",
          "text": [
            "Fitting 10 folds for each of 24 candidates, totalling 240 fits\n"
          ],
          "name": "stdout"
        },
        {
          "output_type": "stream",
          "text": [
            "[Parallel(n_jobs=-1)]: Using backend LokyBackend with 2 concurrent workers.\n",
            "[Parallel(n_jobs=-1)]: Done  46 tasks      | elapsed:   49.4s\n",
            "[Parallel(n_jobs=-1)]: Done 196 tasks      | elapsed:  3.0min\n",
            "[Parallel(n_jobs=-1)]: Done 240 out of 240 | elapsed:  4.6min finished\n"
          ],
          "name": "stderr"
        },
        {
          "output_type": "stream",
          "text": [
            "Fitting 10 folds for each of 24 candidates, totalling 240 fits\n"
          ],
          "name": "stdout"
        },
        {
          "output_type": "stream",
          "text": [
            "[Parallel(n_jobs=-1)]: Using backend LokyBackend with 2 concurrent workers.\n",
            "[Parallel(n_jobs=-1)]: Done  46 tasks      | elapsed:   49.0s\n",
            "[Parallel(n_jobs=-1)]: Done 196 tasks      | elapsed:  3.0min\n",
            "[Parallel(n_jobs=-1)]: Done 240 out of 240 | elapsed:  4.6min finished\n"
          ],
          "name": "stderr"
        },
        {
          "output_type": "stream",
          "text": [
            "Fitting 10 folds for each of 24 candidates, totalling 240 fits\n"
          ],
          "name": "stdout"
        },
        {
          "output_type": "stream",
          "text": [
            "[Parallel(n_jobs=-1)]: Using backend LokyBackend with 2 concurrent workers.\n",
            "[Parallel(n_jobs=-1)]: Done  46 tasks      | elapsed:   49.4s\n",
            "[Parallel(n_jobs=-1)]: Done 196 tasks      | elapsed:  3.0min\n",
            "[Parallel(n_jobs=-1)]: Done 240 out of 240 | elapsed:  4.6min finished\n"
          ],
          "name": "stderr"
        },
        {
          "output_type": "stream",
          "text": [
            "Fitting 10 folds for each of 24 candidates, totalling 240 fits\n"
          ],
          "name": "stdout"
        },
        {
          "output_type": "stream",
          "text": [
            "[Parallel(n_jobs=-1)]: Using backend LokyBackend with 2 concurrent workers.\n",
            "[Parallel(n_jobs=-1)]: Done  46 tasks      | elapsed:   49.7s\n",
            "[Parallel(n_jobs=-1)]: Done 196 tasks      | elapsed:  3.0min\n",
            "[Parallel(n_jobs=-1)]: Done 240 out of 240 | elapsed:  4.6min finished\n"
          ],
          "name": "stderr"
        },
        {
          "output_type": "stream",
          "text": [
            "Fitting 10 folds for each of 24 candidates, totalling 240 fits\n"
          ],
          "name": "stdout"
        },
        {
          "output_type": "stream",
          "text": [
            "[Parallel(n_jobs=-1)]: Using backend LokyBackend with 2 concurrent workers.\n",
            "[Parallel(n_jobs=-1)]: Done  46 tasks      | elapsed:   48.7s\n",
            "[Parallel(n_jobs=-1)]: Done 196 tasks      | elapsed:  3.0min\n",
            "[Parallel(n_jobs=-1)]: Done 240 out of 240 | elapsed:  4.5min finished\n"
          ],
          "name": "stderr"
        },
        {
          "output_type": "stream",
          "text": [
            "--------------------------------------------------\n",
            "svm\n",
            "--------------------------------------------------\n",
            "Treino - Acurácia 0.7552968368488888\n",
            "Treino - Precisão 0.5259055147728063\n",
            "Treino - Cobertura 0.7872914993115037\n",
            "Treino - Medida F 0.6304943876328467\n",
            "--------------------------------------------------\n",
            "Teste - Acurácia 0.7441449065119278\n",
            "Teste - Precisão 0.5131393110638047\n",
            "Teste - Cobertura 0.7667184175723076\n",
            "Teste - Medida F 0.6139017398360342\n",
            "\n"
          ],
          "name": "stdout"
        }
      ]
    },
    {
      "cell_type": "code",
      "metadata": {
        "id": "2z6jtYANudn3",
        "colab_type": "code",
        "colab": {
          "base_uri": "https://localhost:8080/",
          "height": 340
        },
        "outputId": "0613c534-b006-45ae-ceef-4d72e1d8a9b7"
      },
      "source": [
        "x_train, y_train, x_test, y_test = build_features(df_churn, df_churn)\n",
        "\n",
        "# Utilizar regressão logistica, pois teve uma melhor medida f e a menor diferença do treino para o teste\n",
        "model = build_models('logistic_regression')\n",
        "model.fit(x_train, y_train)"
      ],
      "execution_count": 1694,
      "outputs": [
        {
          "output_type": "stream",
          "text": [
            "Fitting 10 folds for each of 10 candidates, totalling 100 fits\n"
          ],
          "name": "stdout"
        },
        {
          "output_type": "stream",
          "text": [
            "[Parallel(n_jobs=-1)]: Using backend LokyBackend with 2 concurrent workers.\n",
            "[Parallel(n_jobs=-1)]: Done  88 tasks      | elapsed:    5.2s\n",
            "[Parallel(n_jobs=-1)]: Done 100 out of 100 | elapsed:    6.1s finished\n"
          ],
          "name": "stderr"
        },
        {
          "output_type": "execute_result",
          "data": {
            "text/plain": [
              "GridSearchCV(cv=StratifiedKFold(n_splits=10, random_state=None, shuffle=False),\n",
              "             error_score=nan,\n",
              "             estimator=LogisticRegression(C=1.0, class_weight=None, dual=False,\n",
              "                                          fit_intercept=True,\n",
              "                                          intercept_scaling=1, l1_ratio=None,\n",
              "                                          max_iter=100, multi_class='auto',\n",
              "                                          n_jobs=-1, penalty='l2',\n",
              "                                          random_state=None, solver='lbfgs',\n",
              "                                          tol=0.0001, verbose=0,\n",
              "                                          warm_start=False),\n",
              "             iid='deprecated', n_jobs=-1,\n",
              "             param_grid={'C': [0.0001, 0.001, 0.01, 0.1, 1],\n",
              "                         'class_weight': [None, 'balanced']},\n",
              "             pre_dispatch='2*n_jobs', refit=True, return_train_score=False,\n",
              "             scoring='recall', verbose=1)"
            ]
          },
          "metadata": {
            "tags": []
          },
          "execution_count": 1694
        }
      ]
    },
    {
      "cell_type": "code",
      "metadata": {
        "id": "Jvb_L1kKukQk",
        "colab_type": "code",
        "colab": {
          "base_uri": "https://localhost:8080/",
          "height": 34
        },
        "outputId": "9ea5bcee-2200-4924-f978-d69e4cd3f50b"
      },
      "source": [
        "# visualizando os parâmetros do melhor modelo encontrado na validação cruzada\n",
        "model.best_params_"
      ],
      "execution_count": 1695,
      "outputs": [
        {
          "output_type": "execute_result",
          "data": {
            "text/plain": [
              "{'C': 0.01, 'class_weight': 'balanced'}"
            ]
          },
          "metadata": {
            "tags": []
          },
          "execution_count": 1695
        }
      ]
    },
    {
      "cell_type": "markdown",
      "metadata": {
        "id": "Oc_f8SacuDq9",
        "colab_type": "text"
      },
      "source": [
        "## Matriz de confusão"
      ]
    },
    {
      "cell_type": "code",
      "metadata": {
        "id": "jhFWamvRtfiV",
        "colab_type": "code",
        "colab": {
          "base_uri": "https://localhost:8080/",
          "height": 850
        },
        "outputId": "a97bdd30-fed5-4729-93c5-08854d6551b2"
      },
      "source": [
        "# Visualizando matriz de confusão\n",
        "\n",
        "from sklearn.metrics import confusion_matrix\n",
        "from sklearn.metrics import classification_report\n",
        "\n",
        "cv = StratifiedKFold(10, shuffle=True)\n",
        "ground_truth = list()\n",
        "predicted = list()\n",
        "\n",
        "for fold, (train, test) in enumerate(cv.split(df_churn, df_churn.Churn.values)):\n",
        "    df_train = df_churn.iloc[train]\n",
        "    df_test = df_churn.iloc[test]\n",
        "\n",
        "    x_train, y_train, x_test, y_test = build_features(df_train, df_test)\n",
        "\n",
        "    model = build_models('logistic_regression')\n",
        "    model.fit(x_train, y_train)\n",
        "    y_predict = model.predict(x_test)\n",
        "\n",
        "    ground_truth.extend(y_test)\n",
        "    predicted.extend(y_predict)\n",
        "\n",
        "print(classification_report(ground_truth, predicted))"
      ],
      "execution_count": 1696,
      "outputs": [
        {
          "output_type": "stream",
          "text": [
            "Fitting 10 folds for each of 10 candidates, totalling 100 fits\n"
          ],
          "name": "stdout"
        },
        {
          "output_type": "stream",
          "text": [
            "[Parallel(n_jobs=-1)]: Using backend LokyBackend with 2 concurrent workers.\n",
            "[Parallel(n_jobs=-1)]: Done  88 tasks      | elapsed:    4.9s\n",
            "[Parallel(n_jobs=-1)]: Done 100 out of 100 | elapsed:    5.8s finished\n"
          ],
          "name": "stderr"
        },
        {
          "output_type": "stream",
          "text": [
            "Fitting 10 folds for each of 10 candidates, totalling 100 fits\n"
          ],
          "name": "stdout"
        },
        {
          "output_type": "stream",
          "text": [
            "[Parallel(n_jobs=-1)]: Using backend LokyBackend with 2 concurrent workers.\n",
            "[Parallel(n_jobs=-1)]: Done  88 tasks      | elapsed:    4.8s\n",
            "[Parallel(n_jobs=-1)]: Done 100 out of 100 | elapsed:    5.7s finished\n"
          ],
          "name": "stderr"
        },
        {
          "output_type": "stream",
          "text": [
            "Fitting 10 folds for each of 10 candidates, totalling 100 fits\n"
          ],
          "name": "stdout"
        },
        {
          "output_type": "stream",
          "text": [
            "[Parallel(n_jobs=-1)]: Using backend LokyBackend with 2 concurrent workers.\n",
            "[Parallel(n_jobs=-1)]: Done  88 tasks      | elapsed:    5.0s\n",
            "[Parallel(n_jobs=-1)]: Done 100 out of 100 | elapsed:    5.9s finished\n"
          ],
          "name": "stderr"
        },
        {
          "output_type": "stream",
          "text": [
            "Fitting 10 folds for each of 10 candidates, totalling 100 fits\n"
          ],
          "name": "stdout"
        },
        {
          "output_type": "stream",
          "text": [
            "[Parallel(n_jobs=-1)]: Using backend LokyBackend with 2 concurrent workers.\n",
            "[Parallel(n_jobs=-1)]: Done  88 tasks      | elapsed:    4.9s\n",
            "[Parallel(n_jobs=-1)]: Done 100 out of 100 | elapsed:    5.7s finished\n"
          ],
          "name": "stderr"
        },
        {
          "output_type": "stream",
          "text": [
            "Fitting 10 folds for each of 10 candidates, totalling 100 fits\n"
          ],
          "name": "stdout"
        },
        {
          "output_type": "stream",
          "text": [
            "[Parallel(n_jobs=-1)]: Using backend LokyBackend with 2 concurrent workers.\n",
            "[Parallel(n_jobs=-1)]: Done  88 tasks      | elapsed:    4.9s\n",
            "[Parallel(n_jobs=-1)]: Done 100 out of 100 | elapsed:    5.8s finished\n"
          ],
          "name": "stderr"
        },
        {
          "output_type": "stream",
          "text": [
            "Fitting 10 folds for each of 10 candidates, totalling 100 fits\n"
          ],
          "name": "stdout"
        },
        {
          "output_type": "stream",
          "text": [
            "[Parallel(n_jobs=-1)]: Using backend LokyBackend with 2 concurrent workers.\n",
            "[Parallel(n_jobs=-1)]: Done  88 tasks      | elapsed:    4.8s\n",
            "[Parallel(n_jobs=-1)]: Done 100 out of 100 | elapsed:    5.9s finished\n"
          ],
          "name": "stderr"
        },
        {
          "output_type": "stream",
          "text": [
            "Fitting 10 folds for each of 10 candidates, totalling 100 fits\n"
          ],
          "name": "stdout"
        },
        {
          "output_type": "stream",
          "text": [
            "[Parallel(n_jobs=-1)]: Using backend LokyBackend with 2 concurrent workers.\n",
            "[Parallel(n_jobs=-1)]: Done  88 tasks      | elapsed:    4.9s\n",
            "[Parallel(n_jobs=-1)]: Done 100 out of 100 | elapsed:    5.8s finished\n"
          ],
          "name": "stderr"
        },
        {
          "output_type": "stream",
          "text": [
            "Fitting 10 folds for each of 10 candidates, totalling 100 fits\n"
          ],
          "name": "stdout"
        },
        {
          "output_type": "stream",
          "text": [
            "[Parallel(n_jobs=-1)]: Using backend LokyBackend with 2 concurrent workers.\n",
            "[Parallel(n_jobs=-1)]: Done  88 tasks      | elapsed:    4.8s\n",
            "[Parallel(n_jobs=-1)]: Done 100 out of 100 | elapsed:    5.7s finished\n"
          ],
          "name": "stderr"
        },
        {
          "output_type": "stream",
          "text": [
            "Fitting 10 folds for each of 10 candidates, totalling 100 fits\n"
          ],
          "name": "stdout"
        },
        {
          "output_type": "stream",
          "text": [
            "[Parallel(n_jobs=-1)]: Using backend LokyBackend with 2 concurrent workers.\n",
            "[Parallel(n_jobs=-1)]: Done  88 tasks      | elapsed:    5.0s\n",
            "[Parallel(n_jobs=-1)]: Done 100 out of 100 | elapsed:    5.9s finished\n"
          ],
          "name": "stderr"
        },
        {
          "output_type": "stream",
          "text": [
            "Fitting 10 folds for each of 10 candidates, totalling 100 fits\n"
          ],
          "name": "stdout"
        },
        {
          "output_type": "stream",
          "text": [
            "[Parallel(n_jobs=-1)]: Using backend LokyBackend with 2 concurrent workers.\n",
            "[Parallel(n_jobs=-1)]: Done  88 tasks      | elapsed:    4.9s\n",
            "[Parallel(n_jobs=-1)]: Done 100 out of 100 | elapsed:    5.8s finished\n"
          ],
          "name": "stderr"
        },
        {
          "output_type": "stream",
          "text": [
            "              precision    recall  f1-score   support\n",
            "\n",
            "           0       0.91      0.72      0.81      5174\n",
            "           1       0.51      0.80      0.62      1869\n",
            "\n",
            "    accuracy                           0.74      7043\n",
            "   macro avg       0.71      0.76      0.71      7043\n",
            "weighted avg       0.80      0.74      0.76      7043\n",
            "\n"
          ],
          "name": "stdout"
        }
      ]
    },
    {
      "cell_type": "code",
      "metadata": {
        "id": "BQHM0imFuJkH",
        "colab_type": "code",
        "colab": {
          "base_uri": "https://localhost:8080/",
          "height": 281
        },
        "outputId": "8905f413-057c-4112-84a9-503be450e8b9"
      },
      "source": [
        "# normalizando a matriz de confusão para visualizar o resultado da cobertura\n",
        "cm = confusion_matrix(ground_truth, predicted)\n",
        "cm = np.transpose(cm.T / cm.astype(np.float).sum(axis=1))\n",
        "\n",
        "plt.title('Matriz de confusão - Predição de Churn')\n",
        "sns.heatmap(cm, annot=True, fmt='.2f', cmap='rocket_r')\n",
        "plt.show()"
      ],
      "execution_count": 1697,
      "outputs": [
        {
          "output_type": "display_data",
          "data": {
            "image/png": "[encoded data removed]",
            "text/plain": [
              "<Figure size 432x288 with 2 Axes>"
            ]
          },
          "metadata": {
            "tags": [],
            "needs_background": "light"
          }
        }
      ]
    },
    {
      "cell_type": "code",
      "metadata": {
        "id": "KzKM6D4iuOSN",
        "colab_type": "code",
        "colab": {
          "base_uri": "https://localhost:8080/",
          "height": 281
        },
        "outputId": "ea82cdd1-8dd4-4aa8-e651-b1a6cd786a7c"
      },
      "source": [
        "# normalizando a matriz de confusão para visualizar o resultado da precisão\n",
        "cm = confusion_matrix(ground_truth, predicted)\n",
        "cm = np.transpose(cm.T / cm.astype(np.float).sum(axis=0))\n",
        "\n",
        "plt.title('Matriz de confusão - Predição de Churn')\n",
        "sns.heatmap(cm, annot=True, fmt='.2f', cmap='rocket_r')\n",
        "plt.show()"
      ],
      "execution_count": 1698,
      "outputs": [
        {
          "output_type": "display_data",
          "data": {
            "image/png": "[encoded data removed]",
            "text/plain": [
              "<Figure size 432x288 with 2 Axes>"
            ]
          },
          "metadata": {
            "tags": [],
            "needs_background": "light"
          }
        }
      ]
    },
    {
      "cell_type": "code",
      "metadata": {
        "id": "FRG4TyREuUmi",
        "colab_type": "code",
        "colab": {
          "base_uri": "https://localhost:8080/",
          "height": 281
        },
        "outputId": "986bda29-8cce-4907-bf50-c1eeb0f5adb6"
      },
      "source": [
        "# matriz de confusão sem normalização\n",
        "cm = confusion_matrix(ground_truth, predicted)\n",
        "\n",
        "plt.title('Matriz de confusão - Predição de Churn')\n",
        "sns.heatmap(cm, annot=True, fmt='d', cmap='rocket_r')\n",
        "plt.show()"
      ],
      "execution_count": 1699,
      "outputs": [
        {
          "output_type": "display_data",
          "data": {
            "image/png": "[encoded data removed]",
            "text/plain": [
              "<Figure size 432x288 with 2 Axes>"
            ]
          },
          "metadata": {
            "tags": [],
            "needs_background": "light"
          }
        }
      ]
    }
  ]
}