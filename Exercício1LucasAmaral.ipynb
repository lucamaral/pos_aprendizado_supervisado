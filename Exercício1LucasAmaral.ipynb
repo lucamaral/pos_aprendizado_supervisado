{
  "nbformat": 4,
  "nbformat_minor": 0,
  "metadata": {
    "colab": {
      "name": "Exercício1LucasAmaral.ipynb",
      "provenance": [],
      "authorship_tag": "ABX9TyNLd0mrZjUUnHEXWg8OWvRW",
      "include_colab_link": true
    },
    "kernelspec": {
      "name": "python3",
      "display_name": "Python 3"
    }
  },
  "cells": [
    {
      "cell_type": "markdown",
      "metadata": {
        "id": "view-in-github",
        "colab_type": "text"
      },
      "source": [
        "<a href=\"https://colab.research.google.com/github/lucamaral/pos_aprendizado_supervisionado/blob/master/Exerc%C3%ADcio1LucasAmaral.ipynb\" target=\"_parent\"><img src=\"https://colab.research.google.com/assets/colab-badge.svg\" alt=\"Open In Colab\"/></a>"
      ]
    },
    {
      "cell_type": "code",
      "metadata": {
        "id": "FvRsi3y9QKrZ",
        "colab_type": "code",
        "colab": {}
      },
      "source": [
        "import matplotlib.pyplot as plt\n",
        "import numpy as np\n",
        "import pandas as pd"
      ],
      "execution_count": 648,
      "outputs": []
    },
    {
      "cell_type": "code",
      "metadata": {
        "id": "ygZ8ASThQ1Bb",
        "colab_type": "code",
        "colab": {
          "base_uri": "https://localhost:8080/",
          "height": 34
        },
        "outputId": "e57f557e-09ca-48e8-92c6-a6f94a13fdaa"
      },
      "source": [
        "df_cars = pd.read_csv('carros.csv', sep = ',', decimal = '.')\n",
        "original_size = df_cars.size\n",
        "print(original_size)"
      ],
      "execution_count": 649,
      "outputs": [
        {
          "output_type": "stream",
          "text": [
            "2709\n"
          ],
          "name": "stdout"
        }
      ]
    },
    {
      "cell_type": "markdown",
      "metadata": {
        "id": "IdKW0TPfVPwh",
        "colab_type": "text"
      },
      "source": [
        "## Análise das variáveis"
      ]
    },
    {
      "cell_type": "code",
      "metadata": {
        "id": "EvZR01KGRE97",
        "colab_type": "code",
        "colab": {
          "base_uri": "https://localhost:8080/",
          "height": 204
        },
        "outputId": "f8f084ff-7c73-4348-d5e9-a9b80de53732"
      },
      "source": [
        "df_cars.head()"
      ],
      "execution_count": 650,
      "outputs": [
        {
          "output_type": "execute_result",
          "data": {
            "text/html": [
              "<div>\n",
              "<style scoped>\n",
              "    .dataframe tbody tr th:only-of-type {\n",
              "        vertical-align: middle;\n",
              "    }\n",
              "\n",
              "    .dataframe tbody tr th {\n",
              "        vertical-align: top;\n",
              "    }\n",
              "\n",
              "    .dataframe thead th {\n",
              "        text-align: right;\n",
              "    }\n",
              "</style>\n",
              "<table border=\"1\" class=\"dataframe\">\n",
              "  <thead>\n",
              "    <tr style=\"text-align: right;\">\n",
              "      <th></th>\n",
              "      <th>Car_Name</th>\n",
              "      <th>Year</th>\n",
              "      <th>Selling_Price</th>\n",
              "      <th>Present_Price</th>\n",
              "      <th>Kms_Driven</th>\n",
              "      <th>Fuel_Type</th>\n",
              "      <th>Seller_Type</th>\n",
              "      <th>Transmission</th>\n",
              "      <th>Owner</th>\n",
              "    </tr>\n",
              "  </thead>\n",
              "  <tbody>\n",
              "    <tr>\n",
              "      <th>0</th>\n",
              "      <td>ritz</td>\n",
              "      <td>2014</td>\n",
              "      <td>3.35</td>\n",
              "      <td>5.59</td>\n",
              "      <td>27000</td>\n",
              "      <td>Petrol</td>\n",
              "      <td>dealer</td>\n",
              "      <td>Manual</td>\n",
              "      <td>0</td>\n",
              "    </tr>\n",
              "    <tr>\n",
              "      <th>1</th>\n",
              "      <td>sx4</td>\n",
              "      <td>2013</td>\n",
              "      <td>4.75</td>\n",
              "      <td>9.54</td>\n",
              "      <td>43000</td>\n",
              "      <td>Diesel</td>\n",
              "      <td>dealer</td>\n",
              "      <td>Manual</td>\n",
              "      <td>0</td>\n",
              "    </tr>\n",
              "    <tr>\n",
              "      <th>2</th>\n",
              "      <td>ciaz</td>\n",
              "      <td>2017</td>\n",
              "      <td>7.25</td>\n",
              "      <td>9.85</td>\n",
              "      <td>6900</td>\n",
              "      <td>Petrol</td>\n",
              "      <td>dealer</td>\n",
              "      <td>Manual</td>\n",
              "      <td>0</td>\n",
              "    </tr>\n",
              "    <tr>\n",
              "      <th>3</th>\n",
              "      <td>wagon r</td>\n",
              "      <td>2011</td>\n",
              "      <td>2.85</td>\n",
              "      <td>4.15</td>\n",
              "      <td>5200</td>\n",
              "      <td>Petrol</td>\n",
              "      <td>dealer</td>\n",
              "      <td>Manual</td>\n",
              "      <td>0</td>\n",
              "    </tr>\n",
              "    <tr>\n",
              "      <th>4</th>\n",
              "      <td>swift</td>\n",
              "      <td>2014</td>\n",
              "      <td>4.60</td>\n",
              "      <td>6.87</td>\n",
              "      <td>42450</td>\n",
              "      <td>Diesel</td>\n",
              "      <td>dealer</td>\n",
              "      <td>Manual</td>\n",
              "      <td>0</td>\n",
              "    </tr>\n",
              "  </tbody>\n",
              "</table>\n",
              "</div>"
            ],
            "text/plain": [
              "  Car_Name  Year  Selling_Price  ...  Seller_Type  Transmission Owner\n",
              "0     ritz  2014           3.35  ...       dealer        Manual     0\n",
              "1      sx4  2013           4.75  ...       dealer        Manual     0\n",
              "2     ciaz  2017           7.25  ...       dealer        Manual     0\n",
              "3  wagon r  2011           2.85  ...       dealer        Manual     0\n",
              "4    swift  2014           4.60  ...       dealer        Manual     0\n",
              "\n",
              "[5 rows x 9 columns]"
            ]
          },
          "metadata": {
            "tags": []
          },
          "execution_count": 650
        }
      ]
    },
    {
      "cell_type": "code",
      "metadata": {
        "id": "KdjVmVXcRFnP",
        "colab_type": "code",
        "colab": {
          "base_uri": "https://localhost:8080/",
          "height": 289
        },
        "outputId": "0f603f96-faae-4f01-c9af-9264d5d11259"
      },
      "source": [
        "df_cars.info()"
      ],
      "execution_count": 651,
      "outputs": [
        {
          "output_type": "stream",
          "text": [
            "<class 'pandas.core.frame.DataFrame'>\n",
            "RangeIndex: 301 entries, 0 to 300\n",
            "Data columns (total 9 columns):\n",
            " #   Column         Non-Null Count  Dtype  \n",
            "---  ------         --------------  -----  \n",
            " 0   Car_Name       301 non-null    object \n",
            " 1   Year           301 non-null    int64  \n",
            " 2   Selling_Price  301 non-null    float64\n",
            " 3   Present_Price  301 non-null    float64\n",
            " 4   Kms_Driven     301 non-null    int64  \n",
            " 5   Fuel_Type      301 non-null    object \n",
            " 6   Seller_Type    301 non-null    object \n",
            " 7   Transmission   301 non-null    object \n",
            " 8   Owner          301 non-null    int64  \n",
            "dtypes: float64(2), int64(3), object(4)\n",
            "memory usage: 21.3+ KB\n"
          ],
          "name": "stdout"
        }
      ]
    },
    {
      "cell_type": "code",
      "metadata": {
        "id": "1gdt1rIbRPvE",
        "colab_type": "code",
        "colab": {}
      },
      "source": [
        "def densityChart (col: str): df_cars[col].plot.density()\n",
        "def boxChart (col: str): df_cars[col].plot.box()\n",
        "def pieChart (col: str): df_cars[col].value_counts().plot.pie()"
      ],
      "execution_count": 652,
      "outputs": []
    },
    {
      "cell_type": "markdown",
      "metadata": {
        "id": "Hh-rqhshVZpD",
        "colab_type": "text"
      },
      "source": [
        "### Year"
      ]
    },
    {
      "cell_type": "code",
      "metadata": {
        "id": "vtkxecIQR3Jh",
        "colab_type": "code",
        "colab": {
          "base_uri": "https://localhost:8080/",
          "height": 267
        },
        "outputId": "e0df9fd0-7a16-491a-c61b-fc8c2accc63d"
      },
      "source": [
        "# Verificando densidade da variável Year\n",
        "densityChart('Year')\n",
        "# Segue uma distribuição normal"
      ],
      "execution_count": 653,
      "outputs": [
        {
          "output_type": "display_data",
          "data": {
            "image/png": "[encoded data removed]",
            "text/plain": [
              "<Figure size 432x288 with 1 Axes>"
            ]
          },
          "metadata": {
            "tags": [],
            "needs_background": "light"
          }
        }
      ]
    },
    {
      "cell_type": "code",
      "metadata": {
        "id": "uiw3WGYhT-J7",
        "colab_type": "code",
        "colab": {
          "base_uri": "https://localhost:8080/",
          "height": 265
        },
        "outputId": "ea351683-afd9-4d25-c379-a6d089b42530"
      },
      "source": [
        "# Verificando se possui outliers na variável Year\n",
        "boxChart('Year')\n",
        "# Segundo o boxChart, existem alguns outliers com ano menor que 2006 (aproximado)"
      ],
      "execution_count": 654,
      "outputs": [
        {
          "output_type": "display_data",
          "data": {
            "image/png": "[encoded data removed]",
            "text/plain": [
              "<Figure size 432x288 with 1 Axes>"
            ]
          },
          "metadata": {
            "tags": [],
            "needs_background": "light"
          }
        }
      ]
    },
    {
      "cell_type": "markdown",
      "metadata": {
        "id": "N5EEwmoOVf6s",
        "colab_type": "text"
      },
      "source": [
        "### Selling_Price"
      ]
    },
    {
      "cell_type": "code",
      "metadata": {
        "id": "EkztxSH6SqCX",
        "colab_type": "code",
        "colab": {
          "base_uri": "https://localhost:8080/",
          "height": 265
        },
        "outputId": "d9899795-e2b3-49f6-b8c5-2f4aebe87841"
      },
      "source": [
        "# Verificando densidade da variável Selling_Price\n",
        "densityChart('Selling_Price')\n",
        "# Segue uma distribuição normal"
      ],
      "execution_count": 655,
      "outputs": [
        {
          "output_type": "display_data",
          "data": {
            "image/png": "[encoded data removed]",
            "text/plain": [
              "<Figure size 432x288 with 1 Axes>"
            ]
          },
          "metadata": {
            "tags": [],
            "needs_background": "light"
          }
        }
      ]
    },
    {
      "cell_type": "code",
      "metadata": {
        "id": "CI42WrapULoW",
        "colab_type": "code",
        "colab": {
          "base_uri": "https://localhost:8080/",
          "height": 266
        },
        "outputId": "622ee98c-0fbc-463c-fba0-9123402224a5"
      },
      "source": [
        "# Verificando se possui outliers Selling_Price\n",
        "boxChart('Selling_Price')\n",
        "# Segundo o boxChart, existem alguns outliers com Selling_Price maior que 13 (aproximado)"
      ],
      "execution_count": 656,
      "outputs": [
        {
          "output_type": "display_data",
          "data": {
            "image/png": "[encoded data removed]",
            "text/plain": [
              "<Figure size 432x288 with 1 Axes>"
            ]
          },
          "metadata": {
            "tags": [],
            "needs_background": "light"
          }
        }
      ]
    },
    {
      "cell_type": "markdown",
      "metadata": {
        "id": "QOUTDk9pVlVb",
        "colab_type": "text"
      },
      "source": [
        "### Present_Price"
      ]
    },
    {
      "cell_type": "code",
      "metadata": {
        "id": "Xezjjt5JSq7m",
        "colab_type": "code",
        "colab": {
          "base_uri": "https://localhost:8080/",
          "height": 265
        },
        "outputId": "8a4cfff1-3da0-45b0-bc03-894b031cbac4"
      },
      "source": [
        "# Verificando densidade da variável Present_Price\n",
        "densityChart('Present_Price')\n",
        "# Segue uma distribuição normal"
      ],
      "execution_count": 657,
      "outputs": [
        {
          "output_type": "display_data",
          "data": {
            "image/png": "[encoded data removed]",
            "text/plain": [
              "<Figure size 432x288 with 1 Axes>"
            ]
          },
          "metadata": {
            "tags": [],
            "needs_background": "light"
          }
        }
      ]
    },
    {
      "cell_type": "code",
      "metadata": {
        "id": "3o0wsp0TUhP6",
        "colab_type": "code",
        "colab": {
          "base_uri": "https://localhost:8080/",
          "height": 266
        },
        "outputId": "64500183-0ca5-4e5e-dd1e-f0cbc1dbebd9"
      },
      "source": [
        "# Verificando se possui outliers Present_Price\n",
        "boxChart('Present_Price')\n",
        "# Segundo o boxChart, existem alguns outliers com Present_Price maior que 21 (aproximado)"
      ],
      "execution_count": 658,
      "outputs": [
        {
          "output_type": "display_data",
          "data": {
            "image/png": "[encoded data removed]",
            "text/plain": [
              "<Figure size 432x288 with 1 Axes>"
            ]
          },
          "metadata": {
            "tags": [],
            "needs_background": "light"
          }
        }
      ]
    },
    {
      "cell_type": "markdown",
      "metadata": {
        "id": "qFQcMmdKVrxf",
        "colab_type": "text"
      },
      "source": [
        "### Kms_Driven"
      ]
    },
    {
      "cell_type": "code",
      "metadata": {
        "id": "rVFH4R1SSrpq",
        "colab_type": "code",
        "colab": {
          "base_uri": "https://localhost:8080/",
          "height": 276
        },
        "outputId": "4d5628ac-f76c-4767-90ea-109129090b68"
      },
      "source": [
        "# Verificando densidade da variável Kms_Driven\n",
        "densityChart('Kms_Driven')\n",
        "# Segue uma distribuição normal"
      ],
      "execution_count": 659,
      "outputs": [
        {
          "output_type": "display_data",
          "data": {
            "image/png": "[encoded data removed]",
            "text/plain": [
              "<Figure size 432x288 with 1 Axes>"
            ]
          },
          "metadata": {
            "tags": [],
            "needs_background": "light"
          }
        }
      ]
    },
    {
      "cell_type": "code",
      "metadata": {
        "id": "d5351T7mS2dZ",
        "colab_type": "code",
        "colab": {
          "base_uri": "https://localhost:8080/",
          "height": 266
        },
        "outputId": "41c30380-699a-4325-d3c1-fef8431b9c11"
      },
      "source": [
        "# Verificando se possui outliers Kms_Driven\n",
        "boxChart('Kms_Driven')\n",
        "# Segundo o boxChart, existem alguns outliers com Kms_Driven maior que 90.000 (aproximado)"
      ],
      "execution_count": 660,
      "outputs": [
        {
          "output_type": "display_data",
          "data": {
            "image/png": "[encoded data removed]",
            "text/plain": [
              "<Figure size 432x288 with 1 Axes>"
            ]
          },
          "metadata": {
            "tags": [],
            "needs_background": "light"
          }
        }
      ]
    },
    {
      "cell_type": "markdown",
      "metadata": {
        "id": "jIl3UNdNVxLm",
        "colab_type": "text"
      },
      "source": [
        "### Fuel_Type"
      ]
    },
    {
      "cell_type": "code",
      "metadata": {
        "id": "JcFg_c8hV1AF",
        "colab_type": "code",
        "colab": {
          "base_uri": "https://localhost:8080/",
          "height": 248
        },
        "outputId": "7b60b2cb-a059-4fc6-cfa4-eabb6427df3a"
      },
      "source": [
        "# Verificando os valores do Fuel_Type\n",
        "pieChart('Fuel_Type')\n",
        "\n",
        "# Existem valores repetidos, com diferenças na escrita, isso será removido na etapa de limpeza da base"
      ],
      "execution_count": 661,
      "outputs": [
        {
          "output_type": "display_data",
          "data": {
            "image/png": "[encoded data removed]",
            "text/plain": [
              "<Figure size 432x288 with 1 Axes>"
            ]
          },
          "metadata": {
            "tags": []
          }
        }
      ]
    },
    {
      "cell_type": "markdown",
      "metadata": {
        "id": "ZOqkl0jiWany",
        "colab_type": "text"
      },
      "source": [
        "### Seller_Type"
      ]
    },
    {
      "cell_type": "code",
      "metadata": {
        "id": "kaWEDEHkWegg",
        "colab_type": "code",
        "colab": {
          "base_uri": "https://localhost:8080/",
          "height": 248
        },
        "outputId": "bd4f064f-4499-4f79-c9d8-e013f6b29f8f"
      },
      "source": [
        "# Verificando valores do Seller_Type\n",
        "pieChart('Seller_Type')\n",
        "# Existem valores repetidos, com diferenças na escrita, isso será removido na etapa de limpeza da base"
      ],
      "execution_count": 662,
      "outputs": [
        {
          "output_type": "display_data",
          "data": {
            "image/png": "[encoded data removed]",
            "text/plain": [
              "<Figure size 432x288 with 1 Axes>"
            ]
          },
          "metadata": {
            "tags": []
          }
        }
      ]
    },
    {
      "cell_type": "markdown",
      "metadata": {
        "id": "dT8Zg3WBWsgE",
        "colab_type": "text"
      },
      "source": [
        "### Transmission"
      ]
    },
    {
      "cell_type": "code",
      "metadata": {
        "id": "T24NJNoXWuoA",
        "colab_type": "code",
        "colab": {
          "base_uri": "https://localhost:8080/",
          "height": 248
        },
        "outputId": "54ff8d90-432d-4e59-a800-ba870c971b19"
      },
      "source": [
        "# Verificando valores do Transmission\n",
        "pieChart('Transmission')\n",
        "# Existem valores repetidos, com diferenças na escrita, isso será removido na etapa de limpeza da base"
      ],
      "execution_count": 663,
      "outputs": [
        {
          "output_type": "display_data",
          "data": {
            "image/png": "[encoded data removed]",
            "text/plain": [
              "<Figure size 432x288 with 1 Axes>"
            ]
          },
          "metadata": {
            "tags": []
          }
        }
      ]
    },
    {
      "cell_type": "code",
      "metadata": {
        "id": "ZdIy2XBcWy_e",
        "colab_type": "code",
        "colab": {}
      },
      "source": [
        ""
      ],
      "execution_count": 663,
      "outputs": []
    },
    {
      "cell_type": "markdown",
      "metadata": {
        "id": "ZQZzf-oWW1Bn",
        "colab_type": "text"
      },
      "source": [
        "### Owner"
      ]
    },
    {
      "cell_type": "code",
      "metadata": {
        "id": "mINwt7twW5N4",
        "colab_type": "code",
        "colab": {
          "base_uri": "https://localhost:8080/",
          "height": 248
        },
        "outputId": "af07dcf2-702f-4ec6-efaa-9cc072fc4012"
      },
      "source": [
        "# Verificando valores do Owner\n",
        "pieChart('Owner')\n",
        "\n",
        "# Grande maioria não possui dono anterior"
      ],
      "execution_count": 664,
      "outputs": [
        {
          "output_type": "display_data",
          "data": {
            "image/png": "[encoded data removed]",
            "text/plain": [
              "<Figure size 432x288 with 1 Axes>"
            ]
          },
          "metadata": {
            "tags": []
          }
        }
      ]
    },
    {
      "cell_type": "markdown",
      "metadata": {
        "id": "vbMvBX0FXK_d",
        "colab_type": "text"
      },
      "source": [
        "## Limpeza da base"
      ]
    },
    {
      "cell_type": "markdown",
      "metadata": {
        "id": "AT0TumGpXNQo",
        "colab_type": "text"
      },
      "source": [
        "### Year"
      ]
    },
    {
      "cell_type": "code",
      "metadata": {
        "id": "F1MXpPpfX9rb",
        "colab_type": "code",
        "colab": {
          "base_uri": "https://localhost:8080/",
          "height": 265
        },
        "outputId": "e49be177-f25b-411d-c441-5e8e982dbafc"
      },
      "source": [
        "# Removendo linhas onde o ano é menor que 2006\n",
        "df_cars = df_cars[df_cars.Year >= 2006]\n",
        "boxChart('Year')"
      ],
      "execution_count": 665,
      "outputs": [
        {
          "output_type": "display_data",
          "data": {
            "image/png": "[encoded data removed]",
            "text/plain": [
              "<Figure size 432x288 with 1 Axes>"
            ]
          },
          "metadata": {
            "tags": [],
            "needs_background": "light"
          }
        }
      ]
    },
    {
      "cell_type": "markdown",
      "metadata": {
        "id": "biphsxAEXPOj",
        "colab_type": "text"
      },
      "source": [
        "### Selling_Price"
      ]
    },
    {
      "cell_type": "code",
      "metadata": {
        "id": "cexvnJVFYbVM",
        "colab_type": "code",
        "colab": {
          "base_uri": "https://localhost:8080/",
          "height": 266
        },
        "outputId": "bdc08c1f-a9d1-4149-9ae2-4f3d04ed0717"
      },
      "source": [
        "# Removendo linhas onde o Selling_Price é maior que 13\n",
        "df_cars = df_cars[df_cars.Selling_Price <= 13]\n",
        "boxChart('Selling_Price')"
      ],
      "execution_count": 666,
      "outputs": [
        {
          "output_type": "display_data",
          "data": {
            "image/png": "[encoded data removed]",
            "text/plain": [
              "<Figure size 432x288 with 1 Axes>"
            ]
          },
          "metadata": {
            "tags": [],
            "needs_background": "light"
          }
        }
      ]
    },
    {
      "cell_type": "markdown",
      "metadata": {
        "id": "MHk_-BlnXTL_",
        "colab_type": "text"
      },
      "source": [
        "### Present_Price"
      ]
    },
    {
      "cell_type": "code",
      "metadata": {
        "id": "5BiP4hsMYw2F",
        "colab_type": "code",
        "colab": {
          "base_uri": "https://localhost:8080/",
          "height": 266
        },
        "outputId": "9905bfdf-5583-4739-a11a-bcfefab55294"
      },
      "source": [
        "# Removendo linhas onde o Present_Price é maior que 21\n",
        "df_cars = df_cars[df_cars.Present_Price <= 21]\n",
        "boxChart('Present_Price')"
      ],
      "execution_count": 667,
      "outputs": [
        {
          "output_type": "display_data",
          "data": {
            "image/png": "[encoded data removed]",
            "text/plain": [
              "<Figure size 432x288 with 1 Axes>"
            ]
          },
          "metadata": {
            "tags": [],
            "needs_background": "light"
          }
        }
      ]
    },
    {
      "cell_type": "markdown",
      "metadata": {
        "id": "kurio1a4XY4Y",
        "colab_type": "text"
      },
      "source": [
        "### Kms_Driven"
      ]
    },
    {
      "cell_type": "code",
      "metadata": {
        "id": "lNrmCOHBY-Jz",
        "colab_type": "code",
        "colab": {
          "base_uri": "https://localhost:8080/",
          "height": 266
        },
        "outputId": "921035b3-eb23-44d1-f33f-e42ef1b3ee99"
      },
      "source": [
        "# Removendo linhas onde o Kms_Driven é maior que 90.000\n",
        "df_cars = df_cars[df_cars.Kms_Driven <= 90000]\n",
        "boxChart('Kms_Driven')"
      ],
      "execution_count": 668,
      "outputs": [
        {
          "output_type": "display_data",
          "data": {
            "image/png": "[encoded data removed]",
            "text/plain": [
              "<Figure size 432x288 with 1 Axes>"
            ]
          },
          "metadata": {
            "tags": [],
            "needs_background": "light"
          }
        }
      ]
    },
    {
      "cell_type": "markdown",
      "metadata": {
        "id": "Qw9XRelnXeun",
        "colab_type": "text"
      },
      "source": [
        "### Fuel_Type"
      ]
    },
    {
      "cell_type": "code",
      "metadata": {
        "id": "Z_Cd6pwGZU7R",
        "colab_type": "code",
        "colab": {
          "base_uri": "https://localhost:8080/",
          "height": 248
        },
        "outputId": "ee037212-4232-4f2e-97d8-eaa31c5472b2"
      },
      "source": [
        "# Ajustando valores\n",
        "pieChart('Fuel_Type')\n",
        "\n",
        "# Petro -> Petrol\n",
        "# diesel -> Diesel"
      ],
      "execution_count": 669,
      "outputs": [
        {
          "output_type": "display_data",
          "data": {
            "image/png": "[encoded data removed]",
            "text/plain": [
              "<Figure size 432x288 with 1 Axes>"
            ]
          },
          "metadata": {
            "tags": []
          }
        }
      ]
    },
    {
      "cell_type": "code",
      "metadata": {
        "id": "dbVg_fU9ZwZn",
        "colab_type": "code",
        "colab": {
          "base_uri": "https://localhost:8080/",
          "height": 248
        },
        "outputId": "05fed15c-0ac8-465d-df12-0ef2b053a4d5"
      },
      "source": [
        "def clean_fuel_type(x: str) -> str:\n",
        "    if x == 'Petro':\n",
        "        return 'Petrol'\n",
        "    elif x == 'diesel':\n",
        "        return 'Diesel'\n",
        "    else:\n",
        "        return x\n",
        "\n",
        "df_cars.Fuel_Type = df_cars.Fuel_Type.apply(clean_fuel_type)\n",
        "\n",
        "pieChart('Fuel_Type')"
      ],
      "execution_count": 670,
      "outputs": [
        {
          "output_type": "display_data",
          "data": {
            "image/png": "[encoded data removed]",
            "text/plain": [
              "<Figure size 432x288 with 1 Axes>"
            ]
          },
          "metadata": {
            "tags": []
          }
        }
      ]
    },
    {
      "cell_type": "markdown",
      "metadata": {
        "id": "kCb-I5vzXhMz",
        "colab_type": "text"
      },
      "source": [
        "### Seller_Type"
      ]
    },
    {
      "cell_type": "code",
      "metadata": {
        "id": "Ci1Ltj6RaDnM",
        "colab_type": "code",
        "colab": {
          "base_uri": "https://localhost:8080/",
          "height": 248
        },
        "outputId": "1e3a91b6-3285-454a-e98d-836874be3993"
      },
      "source": [
        "# Ajustando valores\n",
        "\n",
        "pieChart('Seller_Type')\n",
        "\n",
        "# individual -> Individual\n",
        "# dealer -> Dealer"
      ],
      "execution_count": 671,
      "outputs": [
        {
          "output_type": "display_data",
          "data": {
            "image/png": "[encoded data removed]",
            "text/plain": [
              "<Figure size 432x288 with 1 Axes>"
            ]
          },
          "metadata": {
            "tags": []
          }
        }
      ]
    },
    {
      "cell_type": "code",
      "metadata": {
        "id": "2tSyp5MGaQKv",
        "colab_type": "code",
        "colab": {
          "base_uri": "https://localhost:8080/",
          "height": 248
        },
        "outputId": "ad155562-ca97-4525-923b-6ecf7eaa2f2c"
      },
      "source": [
        "def clean_seller_type(x: str) -> str:\n",
        "    if x == 'individual':\n",
        "        return 'Individual'\n",
        "    elif x == 'dealer':\n",
        "        return 'Dealer'\n",
        "    else:\n",
        "        return x\n",
        "\n",
        "df_cars.Seller_Type = df_cars.Seller_Type.apply(clean_seller_type)\n",
        "\n",
        "pieChart('Seller_Type')"
      ],
      "execution_count": 672,
      "outputs": [
        {
          "output_type": "display_data",
          "data": {
            "image/png": "[encoded data removed]",
            "text/plain": [
              "<Figure size 432x288 with 1 Axes>"
            ]
          },
          "metadata": {
            "tags": []
          }
        }
      ]
    },
    {
      "cell_type": "markdown",
      "metadata": {
        "id": "Fmq4SuOkXnOg",
        "colab_type": "text"
      },
      "source": [
        "### Transmission"
      ]
    },
    {
      "cell_type": "code",
      "metadata": {
        "id": "lHrQ4QDlaaJb",
        "colab_type": "code",
        "colab": {
          "base_uri": "https://localhost:8080/",
          "height": 248
        },
        "outputId": "a37704f3-5f33-4fbd-b3b3-72e006473341"
      },
      "source": [
        "# Ajustando valores\n",
        "\n",
        "pieChart('Transmission')\n",
        "\n",
        "# manual -> Manual\n",
        "# automatic -> Automatic"
      ],
      "execution_count": 673,
      "outputs": [
        {
          "output_type": "display_data",
          "data": {
            "image/png": "[encoded data removed]",
            "text/plain": [
              "<Figure size 432x288 with 1 Axes>"
            ]
          },
          "metadata": {
            "tags": []
          }
        }
      ]
    },
    {
      "cell_type": "code",
      "metadata": {
        "id": "lJVPLR5ZaiuW",
        "colab_type": "code",
        "colab": {
          "base_uri": "https://localhost:8080/",
          "height": 248
        },
        "outputId": "c2e49e1f-0db4-4bde-b2e5-95875122dc66"
      },
      "source": [
        "def clean_transmission(x: str) -> str:\n",
        "    if x == 'manual':\n",
        "        return 'Manual'\n",
        "    elif x == 'automatic':\n",
        "        return 'Automatic'\n",
        "    else:\n",
        "        return x\n",
        "\n",
        "df_cars.Transmission = df_cars.Transmission.apply(clean_transmission)\n",
        "\n",
        "pieChart('Transmission')"
      ],
      "execution_count": 674,
      "outputs": [
        {
          "output_type": "display_data",
          "data": {
            "image/png": "[encoded data removed]",
            "text/plain": [
              "<Figure size 432x288 with 1 Axes>"
            ]
          },
          "metadata": {
            "tags": []
          }
        }
      ]
    },
    {
      "cell_type": "code",
      "metadata": {
        "id": "4odRRSW-a7au",
        "colab_type": "code",
        "colab": {}
      },
      "source": [
        ""
      ],
      "execution_count": 674,
      "outputs": []
    },
    {
      "cell_type": "markdown",
      "metadata": {
        "id": "ek6QDM5wbFQ6",
        "colab_type": "text"
      },
      "source": [
        "### Linhas removidas"
      ]
    },
    {
      "cell_type": "code",
      "metadata": {
        "id": "dd0pdXY4bGnO",
        "colab_type": "code",
        "colab": {
          "base_uri": "https://localhost:8080/",
          "height": 68
        },
        "outputId": "2d40ee9e-acd9-46f0-835a-d06a0e298c50"
      },
      "source": [
        "print(original_size)\n",
        "print(df_cars.size)\n",
        "print(original_size - df_cars.size)"
      ],
      "execution_count": 675,
      "outputs": [
        {
          "output_type": "stream",
          "text": [
            "2709\n",
            "2439\n",
            "270\n"
          ],
          "name": "stdout"
        }
      ]
    },
    {
      "cell_type": "markdown",
      "metadata": {
        "id": "5BDCN6EhbZKp",
        "colab_type": "text"
      },
      "source": [
        "## Discretização e normalização"
      ]
    },
    {
      "cell_type": "code",
      "metadata": {
        "id": "fIwueGIidFoS",
        "colab_type": "code",
        "colab": {}
      },
      "source": [
        "from sklearn.preprocessing import KBinsDiscretizer"
      ],
      "execution_count": 676,
      "outputs": []
    },
    {
      "cell_type": "markdown",
      "metadata": {
        "id": "TPIH8L2Wbmr0",
        "colab_type": "text"
      },
      "source": [
        "### Year"
      ]
    },
    {
      "cell_type": "code",
      "metadata": {
        "id": "gNTojwcScQVL",
        "colab_type": "code",
        "colab": {}
      },
      "source": [
        "# Discretizando Year\n",
        "# Criando 5 grupos\n",
        "\n",
        "\n",
        "discretizer = KBinsDiscretizer(n_bins = 5, encode = 'ordinal', strategy = 'quantile')\n",
        "df_cars = df_cars.assign(Year_Discretized = discretizer.fit_transform(df_cars.Year.values.reshape(-1, 1)))"
      ],
      "execution_count": 677,
      "outputs": []
    },
    {
      "cell_type": "markdown",
      "metadata": {
        "id": "b1hEyS_zey2G",
        "colab_type": "text"
      },
      "source": [
        "### Kms_Driven"
      ]
    },
    {
      "cell_type": "code",
      "metadata": {
        "id": "So-LfWzMe2qe",
        "colab_type": "code",
        "colab": {}
      },
      "source": [
        "# Discretizando Kms_Driven\n",
        "# Criando 5 grupos\n",
        "\n",
        "discretizer = KBinsDiscretizer(n_bins = 5, encode = 'ordinal', strategy = 'quantile')\n",
        "df_cars = df_cars.assign(Kms_Driven_Discretized = discretizer.fit_transform(df_cars.Kms_Driven.values.reshape(-1, 1)))"
      ],
      "execution_count": 678,
      "outputs": []
    },
    {
      "cell_type": "code",
      "metadata": {
        "id": "9Oxl-mCqe9iN",
        "colab_type": "code",
        "colab": {
          "base_uri": "https://localhost:8080/",
          "height": 350
        },
        "outputId": "1267b490-c016-4095-e3cb-ae5a704e4ee5"
      },
      "source": [
        "[ df_cars[df_cars.Kms_Driven_Discretized == i].Kms_Driven.plot.density() for i in range(5) ]"
      ],
      "execution_count": 679,
      "outputs": [
        {
          "output_type": "execute_result",
          "data": {
            "text/plain": [
              "[<matplotlib.axes._subplots.AxesSubplot at 0x7f1f931b5ba8>,\n",
              " <matplotlib.axes._subplots.AxesSubplot at 0x7f1f931b5ba8>,\n",
              " <matplotlib.axes._subplots.AxesSubplot at 0x7f1f931b5ba8>,\n",
              " <matplotlib.axes._subplots.AxesSubplot at 0x7f1f931b5ba8>,\n",
              " <matplotlib.axes._subplots.AxesSubplot at 0x7f1f931b5ba8>]"
            ]
          },
          "metadata": {
            "tags": []
          },
          "execution_count": 679
        },
        {
          "output_type": "display_data",
          "data": {
            "image/png": "[encoded data removed]",
            "text/plain": [
              "<Figure size 432x288 with 1 Axes>"
            ]
          },
          "metadata": {
            "tags": [],
            "needs_background": "light"
          }
        }
      ]
    },
    {
      "cell_type": "markdown",
      "metadata": {
        "id": "yWQfAwTbfEmM",
        "colab_type": "text"
      },
      "source": [
        "### Fuel_Type"
      ]
    },
    {
      "cell_type": "code",
      "metadata": {
        "id": "nvdYNAZRfAFp",
        "colab_type": "code",
        "colab": {
          "base_uri": "https://localhost:8080/",
          "height": 204
        },
        "outputId": "633ca5ff-c61d-4f4d-87d0-7354741029e2"
      },
      "source": [
        "# Gerando uma variável para cada Fuel_Type, para verificar correlação\n",
        "\n",
        "new_fuel_type_values = pd.get_dummies(df_cars['Fuel_Type'])\n",
        "df_cars = pd.concat([df_cars, new_fuel_type_values], axis = 1)\n",
        "df_cars.head()"
      ],
      "execution_count": 680,
      "outputs": [
        {
          "output_type": "execute_result",
          "data": {
            "text/html": [
              "<div>\n",
              "<style scoped>\n",
              "    .dataframe tbody tr th:only-of-type {\n",
              "        vertical-align: middle;\n",
              "    }\n",
              "\n",
              "    .dataframe tbody tr th {\n",
              "        vertical-align: top;\n",
              "    }\n",
              "\n",
              "    .dataframe thead th {\n",
              "        text-align: right;\n",
              "    }\n",
              "</style>\n",
              "<table border=\"1\" class=\"dataframe\">\n",
              "  <thead>\n",
              "    <tr style=\"text-align: right;\">\n",
              "      <th></th>\n",
              "      <th>Car_Name</th>\n",
              "      <th>Year</th>\n",
              "      <th>Selling_Price</th>\n",
              "      <th>Present_Price</th>\n",
              "      <th>Kms_Driven</th>\n",
              "      <th>Fuel_Type</th>\n",
              "      <th>Seller_Type</th>\n",
              "      <th>Transmission</th>\n",
              "      <th>Owner</th>\n",
              "      <th>Year_Discretized</th>\n",
              "      <th>Kms_Driven_Discretized</th>\n",
              "      <th>CNG</th>\n",
              "      <th>Diesel</th>\n",
              "      <th>Petrol</th>\n",
              "    </tr>\n",
              "  </thead>\n",
              "  <tbody>\n",
              "    <tr>\n",
              "      <th>0</th>\n",
              "      <td>ritz</td>\n",
              "      <td>2014</td>\n",
              "      <td>3.35</td>\n",
              "      <td>5.59</td>\n",
              "      <td>27000</td>\n",
              "      <td>Petrol</td>\n",
              "      <td>Dealer</td>\n",
              "      <td>Manual</td>\n",
              "      <td>0</td>\n",
              "      <td>2.0</td>\n",
              "      <td>2.0</td>\n",
              "      <td>0</td>\n",
              "      <td>0</td>\n",
              "      <td>1</td>\n",
              "    </tr>\n",
              "    <tr>\n",
              "      <th>1</th>\n",
              "      <td>sx4</td>\n",
              "      <td>2013</td>\n",
              "      <td>4.75</td>\n",
              "      <td>9.54</td>\n",
              "      <td>43000</td>\n",
              "      <td>Diesel</td>\n",
              "      <td>Dealer</td>\n",
              "      <td>Manual</td>\n",
              "      <td>0</td>\n",
              "      <td>1.0</td>\n",
              "      <td>3.0</td>\n",
              "      <td>0</td>\n",
              "      <td>1</td>\n",
              "      <td>0</td>\n",
              "    </tr>\n",
              "    <tr>\n",
              "      <th>2</th>\n",
              "      <td>ciaz</td>\n",
              "      <td>2017</td>\n",
              "      <td>7.25</td>\n",
              "      <td>9.85</td>\n",
              "      <td>6900</td>\n",
              "      <td>Petrol</td>\n",
              "      <td>Dealer</td>\n",
              "      <td>Manual</td>\n",
              "      <td>0</td>\n",
              "      <td>4.0</td>\n",
              "      <td>0.0</td>\n",
              "      <td>0</td>\n",
              "      <td>0</td>\n",
              "      <td>1</td>\n",
              "    </tr>\n",
              "    <tr>\n",
              "      <th>3</th>\n",
              "      <td>wagon r</td>\n",
              "      <td>2011</td>\n",
              "      <td>2.85</td>\n",
              "      <td>4.15</td>\n",
              "      <td>5200</td>\n",
              "      <td>Petrol</td>\n",
              "      <td>Dealer</td>\n",
              "      <td>Manual</td>\n",
              "      <td>0</td>\n",
              "      <td>0.0</td>\n",
              "      <td>0.0</td>\n",
              "      <td>0</td>\n",
              "      <td>0</td>\n",
              "      <td>1</td>\n",
              "    </tr>\n",
              "    <tr>\n",
              "      <th>4</th>\n",
              "      <td>swift</td>\n",
              "      <td>2014</td>\n",
              "      <td>4.60</td>\n",
              "      <td>6.87</td>\n",
              "      <td>42450</td>\n",
              "      <td>Diesel</td>\n",
              "      <td>Dealer</td>\n",
              "      <td>Manual</td>\n",
              "      <td>0</td>\n",
              "      <td>2.0</td>\n",
              "      <td>3.0</td>\n",
              "      <td>0</td>\n",
              "      <td>1</td>\n",
              "      <td>0</td>\n",
              "    </tr>\n",
              "  </tbody>\n",
              "</table>\n",
              "</div>"
            ],
            "text/plain": [
              "  Car_Name  Year  Selling_Price  ...  CNG  Diesel Petrol\n",
              "0     ritz  2014           3.35  ...    0       0      1\n",
              "1      sx4  2013           4.75  ...    0       1      0\n",
              "2     ciaz  2017           7.25  ...    0       0      1\n",
              "3  wagon r  2011           2.85  ...    0       0      1\n",
              "4    swift  2014           4.60  ...    0       1      0\n",
              "\n",
              "[5 rows x 14 columns]"
            ]
          },
          "metadata": {
            "tags": []
          },
          "execution_count": 680
        }
      ]
    },
    {
      "cell_type": "markdown",
      "metadata": {
        "id": "tCN9kIrEfkbh",
        "colab_type": "text"
      },
      "source": [
        "### Seller_Type"
      ]
    },
    {
      "cell_type": "code",
      "metadata": {
        "id": "RWOa2ZSYfnkd",
        "colab_type": "code",
        "colab": {
          "base_uri": "https://localhost:8080/",
          "height": 204
        },
        "outputId": "94258623-bf3e-4e29-d320-d2808a0c507f"
      },
      "source": [
        "# Gerando uma variável para cada Seller_Type, para verificar correlação\n",
        "\n",
        "new_seller_type_values = pd.get_dummies(df_cars['Seller_Type'])\n",
        "df_cars = pd.concat([df_cars, new_seller_type_values], axis = 1)\n",
        "df_cars.head()"
      ],
      "execution_count": 681,
      "outputs": [
        {
          "output_type": "execute_result",
          "data": {
            "text/html": [
              "<div>\n",
              "<style scoped>\n",
              "    .dataframe tbody tr th:only-of-type {\n",
              "        vertical-align: middle;\n",
              "    }\n",
              "\n",
              "    .dataframe tbody tr th {\n",
              "        vertical-align: top;\n",
              "    }\n",
              "\n",
              "    .dataframe thead th {\n",
              "        text-align: right;\n",
              "    }\n",
              "</style>\n",
              "<table border=\"1\" class=\"dataframe\">\n",
              "  <thead>\n",
              "    <tr style=\"text-align: right;\">\n",
              "      <th></th>\n",
              "      <th>Car_Name</th>\n",
              "      <th>Year</th>\n",
              "      <th>Selling_Price</th>\n",
              "      <th>Present_Price</th>\n",
              "      <th>Kms_Driven</th>\n",
              "      <th>Fuel_Type</th>\n",
              "      <th>Seller_Type</th>\n",
              "      <th>Transmission</th>\n",
              "      <th>Owner</th>\n",
              "      <th>Year_Discretized</th>\n",
              "      <th>Kms_Driven_Discretized</th>\n",
              "      <th>CNG</th>\n",
              "      <th>Diesel</th>\n",
              "      <th>Petrol</th>\n",
              "      <th>Dealer</th>\n",
              "      <th>Individual</th>\n",
              "    </tr>\n",
              "  </thead>\n",
              "  <tbody>\n",
              "    <tr>\n",
              "      <th>0</th>\n",
              "      <td>ritz</td>\n",
              "      <td>2014</td>\n",
              "      <td>3.35</td>\n",
              "      <td>5.59</td>\n",
              "      <td>27000</td>\n",
              "      <td>Petrol</td>\n",
              "      <td>Dealer</td>\n",
              "      <td>Manual</td>\n",
              "      <td>0</td>\n",
              "      <td>2.0</td>\n",
              "      <td>2.0</td>\n",
              "      <td>0</td>\n",
              "      <td>0</td>\n",
              "      <td>1</td>\n",
              "      <td>1</td>\n",
              "      <td>0</td>\n",
              "    </tr>\n",
              "    <tr>\n",
              "      <th>1</th>\n",
              "      <td>sx4</td>\n",
              "      <td>2013</td>\n",
              "      <td>4.75</td>\n",
              "      <td>9.54</td>\n",
              "      <td>43000</td>\n",
              "      <td>Diesel</td>\n",
              "      <td>Dealer</td>\n",
              "      <td>Manual</td>\n",
              "      <td>0</td>\n",
              "      <td>1.0</td>\n",
              "      <td>3.0</td>\n",
              "      <td>0</td>\n",
              "      <td>1</td>\n",
              "      <td>0</td>\n",
              "      <td>1</td>\n",
              "      <td>0</td>\n",
              "    </tr>\n",
              "    <tr>\n",
              "      <th>2</th>\n",
              "      <td>ciaz</td>\n",
              "      <td>2017</td>\n",
              "      <td>7.25</td>\n",
              "      <td>9.85</td>\n",
              "      <td>6900</td>\n",
              "      <td>Petrol</td>\n",
              "      <td>Dealer</td>\n",
              "      <td>Manual</td>\n",
              "      <td>0</td>\n",
              "      <td>4.0</td>\n",
              "      <td>0.0</td>\n",
              "      <td>0</td>\n",
              "      <td>0</td>\n",
              "      <td>1</td>\n",
              "      <td>1</td>\n",
              "      <td>0</td>\n",
              "    </tr>\n",
              "    <tr>\n",
              "      <th>3</th>\n",
              "      <td>wagon r</td>\n",
              "      <td>2011</td>\n",
              "      <td>2.85</td>\n",
              "      <td>4.15</td>\n",
              "      <td>5200</td>\n",
              "      <td>Petrol</td>\n",
              "      <td>Dealer</td>\n",
              "      <td>Manual</td>\n",
              "      <td>0</td>\n",
              "      <td>0.0</td>\n",
              "      <td>0.0</td>\n",
              "      <td>0</td>\n",
              "      <td>0</td>\n",
              "      <td>1</td>\n",
              "      <td>1</td>\n",
              "      <td>0</td>\n",
              "    </tr>\n",
              "    <tr>\n",
              "      <th>4</th>\n",
              "      <td>swift</td>\n",
              "      <td>2014</td>\n",
              "      <td>4.60</td>\n",
              "      <td>6.87</td>\n",
              "      <td>42450</td>\n",
              "      <td>Diesel</td>\n",
              "      <td>Dealer</td>\n",
              "      <td>Manual</td>\n",
              "      <td>0</td>\n",
              "      <td>2.0</td>\n",
              "      <td>3.0</td>\n",
              "      <td>0</td>\n",
              "      <td>1</td>\n",
              "      <td>0</td>\n",
              "      <td>1</td>\n",
              "      <td>0</td>\n",
              "    </tr>\n",
              "  </tbody>\n",
              "</table>\n",
              "</div>"
            ],
            "text/plain": [
              "  Car_Name  Year  Selling_Price  ...  Petrol  Dealer Individual\n",
              "0     ritz  2014           3.35  ...       1       1          0\n",
              "1      sx4  2013           4.75  ...       0       1          0\n",
              "2     ciaz  2017           7.25  ...       1       1          0\n",
              "3  wagon r  2011           2.85  ...       1       1          0\n",
              "4    swift  2014           4.60  ...       0       1          0\n",
              "\n",
              "[5 rows x 16 columns]"
            ]
          },
          "metadata": {
            "tags": []
          },
          "execution_count": 681
        }
      ]
    },
    {
      "cell_type": "markdown",
      "metadata": {
        "id": "NFbkIYt8gTW9",
        "colab_type": "text"
      },
      "source": [
        "### Transmission"
      ]
    },
    {
      "cell_type": "code",
      "metadata": {
        "id": "RBJadkJ3gVE6",
        "colab_type": "code",
        "colab": {
          "base_uri": "https://localhost:8080/",
          "height": 224
        },
        "outputId": "e42fe7d3-5a4f-4085-e201-5bd4bb0b9cbc"
      },
      "source": [
        "# Gerando uma variável para cada Transmission, para verificar correlação\n",
        "\n",
        "new_transmission_values = pd.get_dummies(df_cars['Transmission'])\n",
        "df_cars = pd.concat([df_cars, new_transmission_values], axis = 1)\n",
        "df_cars.head()"
      ],
      "execution_count": 682,
      "outputs": [
        {
          "output_type": "execute_result",
          "data": {
            "text/html": [
              "<div>\n",
              "<style scoped>\n",
              "    .dataframe tbody tr th:only-of-type {\n",
              "        vertical-align: middle;\n",
              "    }\n",
              "\n",
              "    .dataframe tbody tr th {\n",
              "        vertical-align: top;\n",
              "    }\n",
              "\n",
              "    .dataframe thead th {\n",
              "        text-align: right;\n",
              "    }\n",
              "</style>\n",
              "<table border=\"1\" class=\"dataframe\">\n",
              "  <thead>\n",
              "    <tr style=\"text-align: right;\">\n",
              "      <th></th>\n",
              "      <th>Car_Name</th>\n",
              "      <th>Year</th>\n",
              "      <th>Selling_Price</th>\n",
              "      <th>Present_Price</th>\n",
              "      <th>Kms_Driven</th>\n",
              "      <th>Fuel_Type</th>\n",
              "      <th>Seller_Type</th>\n",
              "      <th>Transmission</th>\n",
              "      <th>Owner</th>\n",
              "      <th>Year_Discretized</th>\n",
              "      <th>Kms_Driven_Discretized</th>\n",
              "      <th>CNG</th>\n",
              "      <th>Diesel</th>\n",
              "      <th>Petrol</th>\n",
              "      <th>Dealer</th>\n",
              "      <th>Individual</th>\n",
              "      <th>Automatic</th>\n",
              "      <th>Manual</th>\n",
              "    </tr>\n",
              "  </thead>\n",
              "  <tbody>\n",
              "    <tr>\n",
              "      <th>0</th>\n",
              "      <td>ritz</td>\n",
              "      <td>2014</td>\n",
              "      <td>3.35</td>\n",
              "      <td>5.59</td>\n",
              "      <td>27000</td>\n",
              "      <td>Petrol</td>\n",
              "      <td>Dealer</td>\n",
              "      <td>Manual</td>\n",
              "      <td>0</td>\n",
              "      <td>2.0</td>\n",
              "      <td>2.0</td>\n",
              "      <td>0</td>\n",
              "      <td>0</td>\n",
              "      <td>1</td>\n",
              "      <td>1</td>\n",
              "      <td>0</td>\n",
              "      <td>0</td>\n",
              "      <td>1</td>\n",
              "    </tr>\n",
              "    <tr>\n",
              "      <th>1</th>\n",
              "      <td>sx4</td>\n",
              "      <td>2013</td>\n",
              "      <td>4.75</td>\n",
              "      <td>9.54</td>\n",
              "      <td>43000</td>\n",
              "      <td>Diesel</td>\n",
              "      <td>Dealer</td>\n",
              "      <td>Manual</td>\n",
              "      <td>0</td>\n",
              "      <td>1.0</td>\n",
              "      <td>3.0</td>\n",
              "      <td>0</td>\n",
              "      <td>1</td>\n",
              "      <td>0</td>\n",
              "      <td>1</td>\n",
              "      <td>0</td>\n",
              "      <td>0</td>\n",
              "      <td>1</td>\n",
              "    </tr>\n",
              "    <tr>\n",
              "      <th>2</th>\n",
              "      <td>ciaz</td>\n",
              "      <td>2017</td>\n",
              "      <td>7.25</td>\n",
              "      <td>9.85</td>\n",
              "      <td>6900</td>\n",
              "      <td>Petrol</td>\n",
              "      <td>Dealer</td>\n",
              "      <td>Manual</td>\n",
              "      <td>0</td>\n",
              "      <td>4.0</td>\n",
              "      <td>0.0</td>\n",
              "      <td>0</td>\n",
              "      <td>0</td>\n",
              "      <td>1</td>\n",
              "      <td>1</td>\n",
              "      <td>0</td>\n",
              "      <td>0</td>\n",
              "      <td>1</td>\n",
              "    </tr>\n",
              "    <tr>\n",
              "      <th>3</th>\n",
              "      <td>wagon r</td>\n",
              "      <td>2011</td>\n",
              "      <td>2.85</td>\n",
              "      <td>4.15</td>\n",
              "      <td>5200</td>\n",
              "      <td>Petrol</td>\n",
              "      <td>Dealer</td>\n",
              "      <td>Manual</td>\n",
              "      <td>0</td>\n",
              "      <td>0.0</td>\n",
              "      <td>0.0</td>\n",
              "      <td>0</td>\n",
              "      <td>0</td>\n",
              "      <td>1</td>\n",
              "      <td>1</td>\n",
              "      <td>0</td>\n",
              "      <td>0</td>\n",
              "      <td>1</td>\n",
              "    </tr>\n",
              "    <tr>\n",
              "      <th>4</th>\n",
              "      <td>swift</td>\n",
              "      <td>2014</td>\n",
              "      <td>4.60</td>\n",
              "      <td>6.87</td>\n",
              "      <td>42450</td>\n",
              "      <td>Diesel</td>\n",
              "      <td>Dealer</td>\n",
              "      <td>Manual</td>\n",
              "      <td>0</td>\n",
              "      <td>2.0</td>\n",
              "      <td>3.0</td>\n",
              "      <td>0</td>\n",
              "      <td>1</td>\n",
              "      <td>0</td>\n",
              "      <td>1</td>\n",
              "      <td>0</td>\n",
              "      <td>0</td>\n",
              "      <td>1</td>\n",
              "    </tr>\n",
              "  </tbody>\n",
              "</table>\n",
              "</div>"
            ],
            "text/plain": [
              "  Car_Name  Year  Selling_Price  ...  Individual  Automatic Manual\n",
              "0     ritz  2014           3.35  ...           0          0      1\n",
              "1      sx4  2013           4.75  ...           0          0      1\n",
              "2     ciaz  2017           7.25  ...           0          0      1\n",
              "3  wagon r  2011           2.85  ...           0          0      1\n",
              "4    swift  2014           4.60  ...           0          0      1\n",
              "\n",
              "[5 rows x 18 columns]"
            ]
          },
          "metadata": {
            "tags": []
          },
          "execution_count": 682
        }
      ]
    },
    {
      "cell_type": "markdown",
      "metadata": {
        "id": "MYqIFtBAgiuY",
        "colab_type": "text"
      },
      "source": [
        "### Owner"
      ]
    },
    {
      "cell_type": "code",
      "metadata": {
        "id": "WDjqYWSigkEL",
        "colab_type": "code",
        "colab": {
          "base_uri": "https://localhost:8080/",
          "height": 68
        },
        "outputId": "d124aae4-2b0d-4a8f-ff36-5ecd9acf6b9b"
      },
      "source": [
        "# Transformar valores em Novo/Usado\n",
        "\n",
        "df_cars.Owner = df_cars.Owner.apply(lambda x: 'New' if x == 0 else 'Used')\n",
        "df_cars.Owner.value_counts()"
      ],
      "execution_count": 683,
      "outputs": [
        {
          "output_type": "execute_result",
          "data": {
            "text/plain": [
              "New     261\n",
              "Used     10\n",
              "Name: Owner, dtype: int64"
            ]
          },
          "metadata": {
            "tags": []
          },
          "execution_count": 683
        }
      ]
    },
    {
      "cell_type": "code",
      "metadata": {
        "id": "ez-T9iTIiPq4",
        "colab_type": "code",
        "colab": {
          "base_uri": "https://localhost:8080/",
          "height": 224
        },
        "outputId": "7469e1fd-593d-41f9-a60a-8a3e940bb1df"
      },
      "source": [
        "# Gerando uma variável para cada Owner, para verificar correlação\n",
        "\n",
        "new_owner_values = pd.get_dummies(df_cars['Owner'])\n",
        "df_cars = pd.concat([df_cars, new_owner_values], axis = 1)\n",
        "df_cars.head()"
      ],
      "execution_count": 684,
      "outputs": [
        {
          "output_type": "execute_result",
          "data": {
            "text/html": [
              "<div>\n",
              "<style scoped>\n",
              "    .dataframe tbody tr th:only-of-type {\n",
              "        vertical-align: middle;\n",
              "    }\n",
              "\n",
              "    .dataframe tbody tr th {\n",
              "        vertical-align: top;\n",
              "    }\n",
              "\n",
              "    .dataframe thead th {\n",
              "        text-align: right;\n",
              "    }\n",
              "</style>\n",
              "<table border=\"1\" class=\"dataframe\">\n",
              "  <thead>\n",
              "    <tr style=\"text-align: right;\">\n",
              "      <th></th>\n",
              "      <th>Car_Name</th>\n",
              "      <th>Year</th>\n",
              "      <th>Selling_Price</th>\n",
              "      <th>Present_Price</th>\n",
              "      <th>Kms_Driven</th>\n",
              "      <th>Fuel_Type</th>\n",
              "      <th>Seller_Type</th>\n",
              "      <th>Transmission</th>\n",
              "      <th>Owner</th>\n",
              "      <th>Year_Discretized</th>\n",
              "      <th>Kms_Driven_Discretized</th>\n",
              "      <th>CNG</th>\n",
              "      <th>Diesel</th>\n",
              "      <th>Petrol</th>\n",
              "      <th>Dealer</th>\n",
              "      <th>Individual</th>\n",
              "      <th>Automatic</th>\n",
              "      <th>Manual</th>\n",
              "      <th>New</th>\n",
              "      <th>Used</th>\n",
              "    </tr>\n",
              "  </thead>\n",
              "  <tbody>\n",
              "    <tr>\n",
              "      <th>0</th>\n",
              "      <td>ritz</td>\n",
              "      <td>2014</td>\n",
              "      <td>3.35</td>\n",
              "      <td>5.59</td>\n",
              "      <td>27000</td>\n",
              "      <td>Petrol</td>\n",
              "      <td>Dealer</td>\n",
              "      <td>Manual</td>\n",
              "      <td>New</td>\n",
              "      <td>2.0</td>\n",
              "      <td>2.0</td>\n",
              "      <td>0</td>\n",
              "      <td>0</td>\n",
              "      <td>1</td>\n",
              "      <td>1</td>\n",
              "      <td>0</td>\n",
              "      <td>0</td>\n",
              "      <td>1</td>\n",
              "      <td>1</td>\n",
              "      <td>0</td>\n",
              "    </tr>\n",
              "    <tr>\n",
              "      <th>1</th>\n",
              "      <td>sx4</td>\n",
              "      <td>2013</td>\n",
              "      <td>4.75</td>\n",
              "      <td>9.54</td>\n",
              "      <td>43000</td>\n",
              "      <td>Diesel</td>\n",
              "      <td>Dealer</td>\n",
              "      <td>Manual</td>\n",
              "      <td>New</td>\n",
              "      <td>1.0</td>\n",
              "      <td>3.0</td>\n",
              "      <td>0</td>\n",
              "      <td>1</td>\n",
              "      <td>0</td>\n",
              "      <td>1</td>\n",
              "      <td>0</td>\n",
              "      <td>0</td>\n",
              "      <td>1</td>\n",
              "      <td>1</td>\n",
              "      <td>0</td>\n",
              "    </tr>\n",
              "    <tr>\n",
              "      <th>2</th>\n",
              "      <td>ciaz</td>\n",
              "      <td>2017</td>\n",
              "      <td>7.25</td>\n",
              "      <td>9.85</td>\n",
              "      <td>6900</td>\n",
              "      <td>Petrol</td>\n",
              "      <td>Dealer</td>\n",
              "      <td>Manual</td>\n",
              "      <td>New</td>\n",
              "      <td>4.0</td>\n",
              "      <td>0.0</td>\n",
              "      <td>0</td>\n",
              "      <td>0</td>\n",
              "      <td>1</td>\n",
              "      <td>1</td>\n",
              "      <td>0</td>\n",
              "      <td>0</td>\n",
              "      <td>1</td>\n",
              "      <td>1</td>\n",
              "      <td>0</td>\n",
              "    </tr>\n",
              "    <tr>\n",
              "      <th>3</th>\n",
              "      <td>wagon r</td>\n",
              "      <td>2011</td>\n",
              "      <td>2.85</td>\n",
              "      <td>4.15</td>\n",
              "      <td>5200</td>\n",
              "      <td>Petrol</td>\n",
              "      <td>Dealer</td>\n",
              "      <td>Manual</td>\n",
              "      <td>New</td>\n",
              "      <td>0.0</td>\n",
              "      <td>0.0</td>\n",
              "      <td>0</td>\n",
              "      <td>0</td>\n",
              "      <td>1</td>\n",
              "      <td>1</td>\n",
              "      <td>0</td>\n",
              "      <td>0</td>\n",
              "      <td>1</td>\n",
              "      <td>1</td>\n",
              "      <td>0</td>\n",
              "    </tr>\n",
              "    <tr>\n",
              "      <th>4</th>\n",
              "      <td>swift</td>\n",
              "      <td>2014</td>\n",
              "      <td>4.60</td>\n",
              "      <td>6.87</td>\n",
              "      <td>42450</td>\n",
              "      <td>Diesel</td>\n",
              "      <td>Dealer</td>\n",
              "      <td>Manual</td>\n",
              "      <td>New</td>\n",
              "      <td>2.0</td>\n",
              "      <td>3.0</td>\n",
              "      <td>0</td>\n",
              "      <td>1</td>\n",
              "      <td>0</td>\n",
              "      <td>1</td>\n",
              "      <td>0</td>\n",
              "      <td>0</td>\n",
              "      <td>1</td>\n",
              "      <td>1</td>\n",
              "      <td>0</td>\n",
              "    </tr>\n",
              "  </tbody>\n",
              "</table>\n",
              "</div>"
            ],
            "text/plain": [
              "  Car_Name  Year  Selling_Price  Present_Price  ...  Automatic Manual New Used\n",
              "0     ritz  2014           3.35           5.59  ...          0      1   1    0\n",
              "1      sx4  2013           4.75           9.54  ...          0      1   1    0\n",
              "2     ciaz  2017           7.25           9.85  ...          0      1   1    0\n",
              "3  wagon r  2011           2.85           4.15  ...          0      1   1    0\n",
              "4    swift  2014           4.60           6.87  ...          0      1   1    0\n",
              "\n",
              "[5 rows x 20 columns]"
            ]
          },
          "metadata": {
            "tags": []
          },
          "execution_count": 684
        }
      ]
    },
    {
      "cell_type": "markdown",
      "metadata": {
        "id": "jci7Kjm7hx8m",
        "colab_type": "text"
      },
      "source": [
        "## Verificando correlações"
      ]
    },
    {
      "cell_type": "code",
      "metadata": {
        "id": "3qcptoOZh0jN",
        "colab_type": "code",
        "colab": {
          "base_uri": "https://localhost:8080/",
          "height": 534
        },
        "outputId": "c17fee51-3b5d-4096-e240-9fb099fbb96e"
      },
      "source": [
        "df_cars.corr()\n",
        "\n",
        "# Analisando as correlações, as variáveis que mais influenciam o Selling_Price são:\n",
        "# Present_Price, Dealer, Individual, Diesel, Petrol, Year_Discretized, Kms_Driven_Discretized, New, Used"
      ],
      "execution_count": 685,
      "outputs": [
        {
          "output_type": "execute_result",
          "data": {
            "text/html": [
              "<div>\n",
              "<style scoped>\n",
              "    .dataframe tbody tr th:only-of-type {\n",
              "        vertical-align: middle;\n",
              "    }\n",
              "\n",
              "    .dataframe tbody tr th {\n",
              "        vertical-align: top;\n",
              "    }\n",
              "\n",
              "    .dataframe thead th {\n",
              "        text-align: right;\n",
              "    }\n",
              "</style>\n",
              "<table border=\"1\" class=\"dataframe\">\n",
              "  <thead>\n",
              "    <tr style=\"text-align: right;\">\n",
              "      <th></th>\n",
              "      <th>Year</th>\n",
              "      <th>Selling_Price</th>\n",
              "      <th>Present_Price</th>\n",
              "      <th>Kms_Driven</th>\n",
              "      <th>Year_Discretized</th>\n",
              "      <th>Kms_Driven_Discretized</th>\n",
              "      <th>CNG</th>\n",
              "      <th>Diesel</th>\n",
              "      <th>Petrol</th>\n",
              "      <th>Dealer</th>\n",
              "      <th>Individual</th>\n",
              "      <th>Automatic</th>\n",
              "      <th>Manual</th>\n",
              "      <th>New</th>\n",
              "      <th>Used</th>\n",
              "    </tr>\n",
              "  </thead>\n",
              "  <tbody>\n",
              "    <tr>\n",
              "      <th>Year</th>\n",
              "      <td>1.000000</td>\n",
              "      <td>0.260426</td>\n",
              "      <td>-0.041684</td>\n",
              "      <td>-0.533589</td>\n",
              "      <td>0.941063</td>\n",
              "      <td>-0.524367</td>\n",
              "      <td>-0.032835</td>\n",
              "      <td>0.024012</td>\n",
              "      <td>-0.016177</td>\n",
              "      <td>-0.026581</td>\n",
              "      <td>0.026581</td>\n",
              "      <td>0.049853</td>\n",
              "      <td>-0.049853</td>\n",
              "      <td>0.155991</td>\n",
              "      <td>-0.155991</td>\n",
              "    </tr>\n",
              "    <tr>\n",
              "      <th>Selling_Price</th>\n",
              "      <td>0.260426</td>\n",
              "      <td>1.000000</td>\n",
              "      <td>0.868992</td>\n",
              "      <td>0.194506</td>\n",
              "      <td>0.252974</td>\n",
              "      <td>0.199488</td>\n",
              "      <td>-0.019411</td>\n",
              "      <td>0.466247</td>\n",
              "      <td>-0.453863</td>\n",
              "      <td>0.753963</td>\n",
              "      <td>-0.753963</td>\n",
              "      <td>0.051987</td>\n",
              "      <td>-0.051987</td>\n",
              "      <td>0.116050</td>\n",
              "      <td>-0.116050</td>\n",
              "    </tr>\n",
              "    <tr>\n",
              "      <th>Present_Price</th>\n",
              "      <td>-0.041684</td>\n",
              "      <td>0.868992</td>\n",
              "      <td>1.000000</td>\n",
              "      <td>0.434093</td>\n",
              "      <td>-0.051473</td>\n",
              "      <td>0.426916</td>\n",
              "      <td>0.007476</td>\n",
              "      <td>0.394258</td>\n",
              "      <td>-0.389186</td>\n",
              "      <td>0.777677</td>\n",
              "      <td>-0.777677</td>\n",
              "      <td>0.021310</td>\n",
              "      <td>-0.021310</td>\n",
              "      <td>0.109832</td>\n",
              "      <td>-0.109832</td>\n",
              "    </tr>\n",
              "    <tr>\n",
              "      <th>Kms_Driven</th>\n",
              "      <td>-0.533589</td>\n",
              "      <td>0.194506</td>\n",
              "      <td>0.434093</td>\n",
              "      <td>1.000000</td>\n",
              "      <td>-0.536925</td>\n",
              "      <td>0.957286</td>\n",
              "      <td>0.049377</td>\n",
              "      <td>0.335414</td>\n",
              "      <td>-0.340824</td>\n",
              "      <td>0.413932</td>\n",
              "      <td>-0.413932</td>\n",
              "      <td>-0.110915</td>\n",
              "      <td>0.110915</td>\n",
              "      <td>0.000964</td>\n",
              "      <td>-0.000964</td>\n",
              "    </tr>\n",
              "    <tr>\n",
              "      <th>Year_Discretized</th>\n",
              "      <td>0.941063</td>\n",
              "      <td>0.252974</td>\n",
              "      <td>-0.051473</td>\n",
              "      <td>-0.536925</td>\n",
              "      <td>1.000000</td>\n",
              "      <td>-0.525400</td>\n",
              "      <td>-0.044120</td>\n",
              "      <td>-0.003077</td>\n",
              "      <td>0.012997</td>\n",
              "      <td>-0.041910</td>\n",
              "      <td>0.041910</td>\n",
              "      <td>0.067780</td>\n",
              "      <td>-0.067780</td>\n",
              "      <td>0.126699</td>\n",
              "      <td>-0.126699</td>\n",
              "    </tr>\n",
              "    <tr>\n",
              "      <th>Kms_Driven_Discretized</th>\n",
              "      <td>-0.524367</td>\n",
              "      <td>0.199488</td>\n",
              "      <td>0.426916</td>\n",
              "      <td>0.957286</td>\n",
              "      <td>-0.525400</td>\n",
              "      <td>1.000000</td>\n",
              "      <td>0.060411</td>\n",
              "      <td>0.319626</td>\n",
              "      <td>-0.327801</td>\n",
              "      <td>0.421314</td>\n",
              "      <td>-0.421314</td>\n",
              "      <td>-0.087375</td>\n",
              "      <td>0.087375</td>\n",
              "      <td>-0.012796</td>\n",
              "      <td>0.012796</td>\n",
              "    </tr>\n",
              "    <tr>\n",
              "      <th>CNG</th>\n",
              "      <td>-0.032835</td>\n",
              "      <td>-0.019411</td>\n",
              "      <td>0.007476</td>\n",
              "      <td>0.049377</td>\n",
              "      <td>-0.044120</td>\n",
              "      <td>0.060411</td>\n",
              "      <td>1.000000</td>\n",
              "      <td>-0.038476</td>\n",
              "      <td>-0.188241</td>\n",
              "      <td>0.064898</td>\n",
              "      <td>-0.064898</td>\n",
              "      <td>-0.025630</td>\n",
              "      <td>0.025630</td>\n",
              "      <td>0.016878</td>\n",
              "      <td>-0.016878</td>\n",
              "    </tr>\n",
              "    <tr>\n",
              "      <th>Diesel</th>\n",
              "      <td>0.024012</td>\n",
              "      <td>0.466247</td>\n",
              "      <td>0.394258</td>\n",
              "      <td>0.335414</td>\n",
              "      <td>-0.003077</td>\n",
              "      <td>0.319626</td>\n",
              "      <td>-0.038476</td>\n",
              "      <td>1.000000</td>\n",
              "      <td>-0.974153</td>\n",
              "      <td>0.335847</td>\n",
              "      <td>-0.335847</td>\n",
              "      <td>-0.132637</td>\n",
              "      <td>0.132637</td>\n",
              "      <td>0.034743</td>\n",
              "      <td>-0.034743</td>\n",
              "    </tr>\n",
              "    <tr>\n",
              "      <th>Petrol</th>\n",
              "      <td>-0.016177</td>\n",
              "      <td>-0.453863</td>\n",
              "      <td>-0.389186</td>\n",
              "      <td>-0.340824</td>\n",
              "      <td>0.012997</td>\n",
              "      <td>-0.327801</td>\n",
              "      <td>-0.188241</td>\n",
              "      <td>-0.974153</td>\n",
              "      <td>1.000000</td>\n",
              "      <td>-0.344758</td>\n",
              "      <td>0.344758</td>\n",
              "      <td>0.136156</td>\n",
              "      <td>-0.136156</td>\n",
              "      <td>-0.037963</td>\n",
              "      <td>0.037963</td>\n",
              "    </tr>\n",
              "    <tr>\n",
              "      <th>Dealer</th>\n",
              "      <td>-0.026581</td>\n",
              "      <td>0.753963</td>\n",
              "      <td>0.777677</td>\n",
              "      <td>0.413932</td>\n",
              "      <td>-0.041910</td>\n",
              "      <td>0.421314</td>\n",
              "      <td>0.064898</td>\n",
              "      <td>0.335847</td>\n",
              "      <td>-0.344758</td>\n",
              "      <td>1.000000</td>\n",
              "      <td>-1.000000</td>\n",
              "      <td>-0.001245</td>\n",
              "      <td>0.001245</td>\n",
              "      <td>0.097113</td>\n",
              "      <td>-0.097113</td>\n",
              "    </tr>\n",
              "    <tr>\n",
              "      <th>Individual</th>\n",
              "      <td>0.026581</td>\n",
              "      <td>-0.753963</td>\n",
              "      <td>-0.777677</td>\n",
              "      <td>-0.413932</td>\n",
              "      <td>0.041910</td>\n",
              "      <td>-0.421314</td>\n",
              "      <td>-0.064898</td>\n",
              "      <td>-0.335847</td>\n",
              "      <td>0.344758</td>\n",
              "      <td>-1.000000</td>\n",
              "      <td>1.000000</td>\n",
              "      <td>0.001245</td>\n",
              "      <td>-0.001245</td>\n",
              "      <td>-0.097113</td>\n",
              "      <td>0.097113</td>\n",
              "    </tr>\n",
              "    <tr>\n",
              "      <th>Automatic</th>\n",
              "      <td>0.049853</td>\n",
              "      <td>0.051987</td>\n",
              "      <td>0.021310</td>\n",
              "      <td>-0.110915</td>\n",
              "      <td>0.067780</td>\n",
              "      <td>-0.087375</td>\n",
              "      <td>-0.025630</td>\n",
              "      <td>-0.132637</td>\n",
              "      <td>0.136156</td>\n",
              "      <td>-0.001245</td>\n",
              "      <td>0.001245</td>\n",
              "      <td>1.000000</td>\n",
              "      <td>-1.000000</td>\n",
              "      <td>0.058182</td>\n",
              "      <td>-0.058182</td>\n",
              "    </tr>\n",
              "    <tr>\n",
              "      <th>Manual</th>\n",
              "      <td>-0.049853</td>\n",
              "      <td>-0.051987</td>\n",
              "      <td>-0.021310</td>\n",
              "      <td>0.110915</td>\n",
              "      <td>-0.067780</td>\n",
              "      <td>0.087375</td>\n",
              "      <td>0.025630</td>\n",
              "      <td>0.132637</td>\n",
              "      <td>-0.136156</td>\n",
              "      <td>0.001245</td>\n",
              "      <td>-0.001245</td>\n",
              "      <td>-1.000000</td>\n",
              "      <td>1.000000</td>\n",
              "      <td>-0.058182</td>\n",
              "      <td>0.058182</td>\n",
              "    </tr>\n",
              "    <tr>\n",
              "      <th>New</th>\n",
              "      <td>0.155991</td>\n",
              "      <td>0.116050</td>\n",
              "      <td>0.109832</td>\n",
              "      <td>0.000964</td>\n",
              "      <td>0.126699</td>\n",
              "      <td>-0.012796</td>\n",
              "      <td>0.016878</td>\n",
              "      <td>0.034743</td>\n",
              "      <td>-0.037963</td>\n",
              "      <td>0.097113</td>\n",
              "      <td>-0.097113</td>\n",
              "      <td>0.058182</td>\n",
              "      <td>-0.058182</td>\n",
              "      <td>1.000000</td>\n",
              "      <td>-1.000000</td>\n",
              "    </tr>\n",
              "    <tr>\n",
              "      <th>Used</th>\n",
              "      <td>-0.155991</td>\n",
              "      <td>-0.116050</td>\n",
              "      <td>-0.109832</td>\n",
              "      <td>-0.000964</td>\n",
              "      <td>-0.126699</td>\n",
              "      <td>0.012796</td>\n",
              "      <td>-0.016878</td>\n",
              "      <td>-0.034743</td>\n",
              "      <td>0.037963</td>\n",
              "      <td>-0.097113</td>\n",
              "      <td>0.097113</td>\n",
              "      <td>-0.058182</td>\n",
              "      <td>0.058182</td>\n",
              "      <td>-1.000000</td>\n",
              "      <td>1.000000</td>\n",
              "    </tr>\n",
              "  </tbody>\n",
              "</table>\n",
              "</div>"
            ],
            "text/plain": [
              "                            Year  Selling_Price  ...       New      Used\n",
              "Year                    1.000000       0.260426  ...  0.155991 -0.155991\n",
              "Selling_Price           0.260426       1.000000  ...  0.116050 -0.116050\n",
              "Present_Price          -0.041684       0.868992  ...  0.109832 -0.109832\n",
              "Kms_Driven             -0.533589       0.194506  ...  0.000964 -0.000964\n",
              "Year_Discretized        0.941063       0.252974  ...  0.126699 -0.126699\n",
              "Kms_Driven_Discretized -0.524367       0.199488  ... -0.012796  0.012796\n",
              "CNG                    -0.032835      -0.019411  ...  0.016878 -0.016878\n",
              "Diesel                  0.024012       0.466247  ...  0.034743 -0.034743\n",
              "Petrol                 -0.016177      -0.453863  ... -0.037963  0.037963\n",
              "Dealer                 -0.026581       0.753963  ...  0.097113 -0.097113\n",
              "Individual              0.026581      -0.753963  ... -0.097113  0.097113\n",
              "Automatic               0.049853       0.051987  ...  0.058182 -0.058182\n",
              "Manual                 -0.049853      -0.051987  ... -0.058182  0.058182\n",
              "New                     0.155991       0.116050  ...  1.000000 -1.000000\n",
              "Used                   -0.155991      -0.116050  ... -1.000000  1.000000\n",
              "\n",
              "[15 rows x 15 columns]"
            ]
          },
          "metadata": {
            "tags": []
          },
          "execution_count": 685
        }
      ]
    },
    {
      "cell_type": "markdown",
      "metadata": {
        "id": "Nu8_1OFbinNh",
        "colab_type": "text"
      },
      "source": [
        "## Criando modelo"
      ]
    },
    {
      "cell_type": "code",
      "metadata": {
        "id": "zhwHum_PiqWY",
        "colab_type": "code",
        "colab": {}
      },
      "source": [
        "from sklearn.linear_model import LinearRegression\n",
        "from sklearn.linear_model import Lasso\n",
        "from sklearn.linear_model import Ridge\n",
        "\n",
        "from sklearn.tree import DecisionTreeRegressor\n",
        "from sklearn.ensemble import RandomForestRegressor\n",
        "from sklearn.neighbors import KNeighborsRegressor\n",
        "\n",
        "from sklearn.model_selection import GridSearchCV\n",
        "from sklearn.metrics import r2_score"
      ],
      "execution_count": 686,
      "outputs": []
    },
    {
      "cell_type": "code",
      "metadata": {
        "id": "mv-M-4A3i3sS",
        "colab_type": "code",
        "colab": {}
      },
      "source": [
        "from sklearn.preprocessing import OneHotEncoder\n",
        "from sklearn.preprocessing import MinMaxScaler\n",
        "from sklearn.model_selection import KFold\n",
        "from sklearn.metrics import mean_absolute_error\n",
        "\n",
        "def build_models(alg):\n",
        "    model = None\n",
        "    if alg == 'linear_regression':\n",
        "        model = LinearRegression()\n",
        "    elif alg == 'lasso_regression':\n",
        "        model = GridSearchCV(\n",
        "            Lasso(normalize=True),\n",
        "            param_grid={\n",
        "                'alpha': np.linspace(0, 5, num=50)\n",
        "            },\n",
        "            scoring='neg_mean_absolute_error',\n",
        "            n_jobs=-1,\n",
        "            cv=KFold(n_splits=10, shuffle=True)\n",
        "        )\n",
        "    elif alg == 'ridge_regression':\n",
        "        model = GridSearchCV(\n",
        "            Ridge(normalize=True),\n",
        "            param_grid={\n",
        "                'alpha': np.linspace(0, 5, num=50)\n",
        "            },\n",
        "            scoring='neg_mean_absolute_error',\n",
        "            n_jobs=-1,\n",
        "            cv=KFold(n_splits=10, shuffle=True)\n",
        "        )\n",
        "    elif alg == 'regression_tree':\n",
        "        model = GridSearchCV(\n",
        "            DecisionTreeRegressor(),\n",
        "            param_grid={\n",
        "                'criterion': ['mae', 'mse'],\n",
        "                'max_depth': [None, 2, 4, 8],\n",
        "                'min_samples_split': [2, 4, 8]\n",
        "            },\n",
        "            scoring='neg_mean_absolute_error',\n",
        "            n_jobs=-1,\n",
        "            cv=KFold(n_splits=10, shuffle=True)\n",
        "        )\n",
        "    elif alg == 'random_forest':\n",
        "        model = GridSearchCV(\n",
        "            RandomForestRegressor(n_estimators=50, n_jobs=-1),\n",
        "            param_grid={\n",
        "                'criterion': ['mae', 'mse'],\n",
        "                'max_depth': [None, 2, 4, 8],\n",
        "                'min_samples_split': [2, 4, 8]\n",
        "            },\n",
        "            scoring='neg_mean_absolute_error',\n",
        "            n_jobs=-1,\n",
        "            cv=KFold(n_splits=10, shuffle=True)\n",
        "        )\n",
        "    elif alg == 'knn':\n",
        "        model = GridSearchCV(\n",
        "            KNeighborsRegressor(n_jobs=-1),\n",
        "            param_grid={\n",
        "                'n_neighbors': [3, 5, 7],\n",
        "                'weights': ['uniform', 'distance'],\n",
        "            },\n",
        "            scoring='neg_mean_absolute_error',\n",
        "            n_jobs=-1,\n",
        "            cv=KFold(n_splits=10, shuffle=True)\n",
        "        )\n",
        "    else:\n",
        "        raise Exception('Modelo não implementado.')\n",
        "    \n",
        "    return model"
      ],
      "execution_count": 687,
      "outputs": []
    },
    {
      "cell_type": "code",
      "metadata": {
        "id": "MAsrHfdWi8as",
        "colab_type": "code",
        "colab": {}
      },
      "source": [
        "# De acordo com as correlações\n",
        "# Present_Price, Dealer, Individual, Diesel, Petrol, Year_Discretized, Kms_Driven_Discretized, New, Used\n",
        "\n",
        "def build_features(df_train, df_test):\n",
        "    ohe_smoker_bmi = OneHotEncoder(sparse=False)\n",
        "    x_train_ohe = ohe_smoker_bmi.fit_transform(df_train[['Seller_Type', 'Fuel_Type', 'Owner']])\n",
        "    x_test_ohe = ohe_smoker_bmi.transform(df_test[['Seller_Type', 'Fuel_Type', 'Owner']])\n",
        "\n",
        "    mms = MinMaxScaler()\n",
        "    x_train_quant = mms.fit_transform(df_train[['Present_Price', 'Year_Discretized', 'Kms_Driven_Discretized']])\n",
        "    x_test_quant = mms.transform(df_test[['Present_Price', 'Year_Discretized', 'Kms_Driven_Discretized']])\n",
        "   \n",
        "    x_train = np.hstack([x_train_ohe, x_train_quant])\n",
        "    x_test = np.hstack([x_test_ohe, x_test_quant])\n",
        "\n",
        "    y_train = df_train.Selling_Price.values.reshape(-1, 1)\n",
        "    y_test = df_test.Selling_Price.values.reshape(-1, 1)\n",
        "\n",
        "    return x_train, y_train, x_test, y_test"
      ],
      "execution_count": 688,
      "outputs": []
    },
    {
      "cell_type": "code",
      "metadata": {
        "id": "WZrFwFwZjx2G",
        "colab_type": "code",
        "colab": {
          "base_uri": "https://localhost:8080/",
          "height": 1000
        },
        "outputId": "6c610e78-a55d-4ada-eec8-091488a39377"
      },
      "source": [
        "k = 10\n",
        "algs = ['linear_regression', 'lasso_regression', 'ridge_regression', 'regression_tree', 'random_forest', 'knn']\n",
        "mean_r2 = np.zeros(shape=(len(algs), k, 2))\n",
        "mean_mae = np.zeros(shape=(len(algs), k, 2))\n",
        "for alg_index, alg in enumerate(algs):\n",
        "    cv = KFold(n_splits=k, shuffle=True)\n",
        "    for fold, (train, test) in enumerate(cv.split(df_cars)):\n",
        "        df_train = df_cars.iloc[train]\n",
        "        df_test = df_cars.iloc[test]\n",
        "\n",
        "        # computar as features\n",
        "        x_train, y_train, x_test, y_test = build_features(df_train, df_test)\n",
        "        \n",
        "        # treinar o modelo\n",
        "        model = build_models(alg)\n",
        "        model.fit(x_train, y_train)\n",
        "        \n",
        "        # coletar os resultados\n",
        "        y_pred_train = model.predict(x_train)\n",
        "        mean_mae[alg_index, fold, 0] = mean_absolute_error(y_train, y_pred_train)\n",
        "        mean_r2[alg_index, fold, 0] = r2_score(y_train, y_pred_train)\n",
        "\n",
        "        y_pred_test = model.predict(x_test)\n",
        "        mean_mae[alg_index, fold, 1] = mean_absolute_error(y_test, y_pred_test)\n",
        "        mean_r2[alg_index, fold, 1] = r2_score(y_test, y_pred_test)\n",
        "\n",
        "    # apresentar os resultados\n",
        "    print('-' * 50)\n",
        "    print('Algoritmo:', alg)\n",
        "    print('-' * 50)\n",
        "    print('Treino - Média MAE: ', mean_mae[alg_index, :,0].mean())\n",
        "    print('Teste - Média MAE: ', mean_mae[alg_index, :,1].mean())\n",
        "    print('-' * 50)\n",
        "    print('Treino - Média R2: ', mean_r2[alg_index, :,0].mean())\n",
        "    print('Teste - Média R2: ', mean_r2[alg_index, :,1].mean())\n",
        "    print()"
      ],
      "execution_count": 689,
      "outputs": [
        {
          "output_type": "stream",
          "text": [
            "--------------------------------------------------\n",
            "Algoritmo: linear_regression\n",
            "--------------------------------------------------\n",
            "Treino - Média MAE:  0.806173699989618\n",
            "Teste - Média MAE:  0.8347051466738611\n",
            "--------------------------------------------------\n",
            "Treino - Média R2:  0.8824439402066915\n",
            "Teste - Média R2:  0.8634261332240325\n",
            "\n"
          ],
          "name": "stdout"
        },
        {
          "output_type": "stream",
          "text": [
            "/usr/local/lib/python3.6/dist-packages/sklearn/model_selection/_search.py:739: UserWarning: With alpha=0, this algorithm does not converge well. You are advised to use the LinearRegression estimator\n",
            "  self.best_estimator_.fit(X, y, **fit_params)\n",
            "/usr/local/lib/python3.6/dist-packages/sklearn/linear_model/_coordinate_descent.py:476: UserWarning: Coordinate descent with no regularization may lead to unexpected results and is discouraged.\n",
            "  positive)\n",
            "/usr/local/lib/python3.6/dist-packages/sklearn/linear_model/_coordinate_descent.py:476: ConvergenceWarning: Objective did not converge. You might want to increase the number of iterations. Duality gap: 139.9488807703671, tolerance: 0.23300048666666667\n",
            "  positive)\n",
            "/usr/local/lib/python3.6/dist-packages/sklearn/model_selection/_search.py:739: UserWarning: With alpha=0, this algorithm does not converge well. You are advised to use the LinearRegression estimator\n",
            "  self.best_estimator_.fit(X, y, **fit_params)\n",
            "/usr/local/lib/python3.6/dist-packages/sklearn/linear_model/_coordinate_descent.py:476: UserWarning: Coordinate descent with no regularization may lead to unexpected results and is discouraged.\n",
            "  positive)\n",
            "/usr/local/lib/python3.6/dist-packages/sklearn/linear_model/_coordinate_descent.py:476: ConvergenceWarning: Objective did not converge. You might want to increase the number of iterations. Duality gap: 135.86604662031453, tolerance: 0.22034909192622956\n",
            "  positive)\n",
            "/usr/local/lib/python3.6/dist-packages/sklearn/model_selection/_search.py:739: UserWarning: With alpha=0, this algorithm does not converge well. You are advised to use the LinearRegression estimator\n",
            "  self.best_estimator_.fit(X, y, **fit_params)\n",
            "/usr/local/lib/python3.6/dist-packages/sklearn/linear_model/_coordinate_descent.py:476: UserWarning: Coordinate descent with no regularization may lead to unexpected results and is discouraged.\n",
            "  positive)\n",
            "/usr/local/lib/python3.6/dist-packages/sklearn/linear_model/_coordinate_descent.py:476: ConvergenceWarning: Objective did not converge. You might want to increase the number of iterations. Duality gap: 137.4118589069216, tolerance: 0.2231434155737705\n",
            "  positive)\n",
            "/usr/local/lib/python3.6/dist-packages/sklearn/model_selection/_search.py:739: UserWarning: With alpha=0, this algorithm does not converge well. You are advised to use the LinearRegression estimator\n",
            "  self.best_estimator_.fit(X, y, **fit_params)\n",
            "/usr/local/lib/python3.6/dist-packages/sklearn/linear_model/_coordinate_descent.py:476: UserWarning: Coordinate descent with no regularization may lead to unexpected results and is discouraged.\n",
            "  positive)\n",
            "/usr/local/lib/python3.6/dist-packages/sklearn/linear_model/_coordinate_descent.py:476: ConvergenceWarning: Objective did not converge. You might want to increase the number of iterations. Duality gap: 129.41863306930148, tolerance: 0.23011366360655744\n",
            "  positive)\n",
            "/usr/local/lib/python3.6/dist-packages/sklearn/model_selection/_search.py:739: UserWarning: With alpha=0, this algorithm does not converge well. You are advised to use the LinearRegression estimator\n",
            "  self.best_estimator_.fit(X, y, **fit_params)\n",
            "/usr/local/lib/python3.6/dist-packages/sklearn/linear_model/_coordinate_descent.py:476: UserWarning: Coordinate descent with no regularization may lead to unexpected results and is discouraged.\n",
            "  positive)\n",
            "/usr/local/lib/python3.6/dist-packages/sklearn/linear_model/_coordinate_descent.py:476: ConvergenceWarning: Objective did not converge. You might want to increase the number of iterations. Duality gap: 124.82855761443204, tolerance: 0.21473386668032787\n",
            "  positive)\n",
            "/usr/local/lib/python3.6/dist-packages/sklearn/model_selection/_search.py:739: UserWarning: With alpha=0, this algorithm does not converge well. You are advised to use the LinearRegression estimator\n",
            "  self.best_estimator_.fit(X, y, **fit_params)\n",
            "/usr/local/lib/python3.6/dist-packages/sklearn/linear_model/_coordinate_descent.py:476: UserWarning: Coordinate descent with no regularization may lead to unexpected results and is discouraged.\n",
            "  positive)\n",
            "/usr/local/lib/python3.6/dist-packages/sklearn/linear_model/_coordinate_descent.py:476: ConvergenceWarning: Objective did not converge. You might want to increase the number of iterations. Duality gap: 141.72070491630208, tolerance: 0.23853110557377047\n",
            "  positive)\n",
            "/usr/local/lib/python3.6/dist-packages/sklearn/model_selection/_search.py:739: UserWarning: With alpha=0, this algorithm does not converge well. You are advised to use the LinearRegression estimator\n",
            "  self.best_estimator_.fit(X, y, **fit_params)\n",
            "/usr/local/lib/python3.6/dist-packages/sklearn/linear_model/_coordinate_descent.py:476: UserWarning: Coordinate descent with no regularization may lead to unexpected results and is discouraged.\n",
            "  positive)\n",
            "/usr/local/lib/python3.6/dist-packages/sklearn/linear_model/_coordinate_descent.py:476: ConvergenceWarning: Objective did not converge. You might want to increase the number of iterations. Duality gap: 138.04068651899294, tolerance: 0.24176532963114755\n",
            "  positive)\n",
            "/usr/local/lib/python3.6/dist-packages/sklearn/model_selection/_search.py:739: UserWarning: With alpha=0, this algorithm does not converge well. You are advised to use the LinearRegression estimator\n",
            "  self.best_estimator_.fit(X, y, **fit_params)\n",
            "/usr/local/lib/python3.6/dist-packages/sklearn/linear_model/_coordinate_descent.py:476: UserWarning: Coordinate descent with no regularization may lead to unexpected results and is discouraged.\n",
            "  positive)\n",
            "/usr/local/lib/python3.6/dist-packages/sklearn/linear_model/_coordinate_descent.py:476: ConvergenceWarning: Objective did not converge. You might want to increase the number of iterations. Duality gap: 122.19243009901727, tolerance: 0.228697239795082\n",
            "  positive)\n",
            "/usr/local/lib/python3.6/dist-packages/sklearn/model_selection/_search.py:739: UserWarning: With alpha=0, this algorithm does not converge well. You are advised to use the LinearRegression estimator\n",
            "  self.best_estimator_.fit(X, y, **fit_params)\n",
            "/usr/local/lib/python3.6/dist-packages/sklearn/linear_model/_coordinate_descent.py:476: UserWarning: Coordinate descent with no regularization may lead to unexpected results and is discouraged.\n",
            "  positive)\n",
            "/usr/local/lib/python3.6/dist-packages/sklearn/linear_model/_coordinate_descent.py:476: ConvergenceWarning: Objective did not converge. You might want to increase the number of iterations. Duality gap: 139.0223258191695, tolerance: 0.23535849520491808\n",
            "  positive)\n",
            "/usr/local/lib/python3.6/dist-packages/sklearn/model_selection/_search.py:739: UserWarning: With alpha=0, this algorithm does not converge well. You are advised to use the LinearRegression estimator\n",
            "  self.best_estimator_.fit(X, y, **fit_params)\n",
            "/usr/local/lib/python3.6/dist-packages/sklearn/linear_model/_coordinate_descent.py:476: UserWarning: Coordinate descent with no regularization may lead to unexpected results and is discouraged.\n",
            "  positive)\n",
            "/usr/local/lib/python3.6/dist-packages/sklearn/linear_model/_coordinate_descent.py:476: ConvergenceWarning: Objective did not converge. You might want to increase the number of iterations. Duality gap: 142.75618665854518, tolerance: 0.23583819979508194\n",
            "  positive)\n"
          ],
          "name": "stderr"
        },
        {
          "output_type": "stream",
          "text": [
            "--------------------------------------------------\n",
            "Algoritmo: lasso_regression\n",
            "--------------------------------------------------\n",
            "Treino - Média MAE:  0.8057862678626219\n",
            "Teste - Média MAE:  0.8373735964241964\n",
            "--------------------------------------------------\n",
            "Treino - Média R2:  0.8825566723238749\n",
            "Teste - Média R2:  0.8635812565646936\n",
            "\n",
            "--------------------------------------------------\n",
            "Algoritmo: ridge_regression\n",
            "--------------------------------------------------\n",
            "Treino - Média MAE:  0.8050485700516576\n",
            "Teste - Média MAE:  0.856919767242793\n",
            "--------------------------------------------------\n",
            "Treino - Média R2:  0.8821529738865245\n",
            "Teste - Média R2:  0.8593932557443505\n",
            "\n",
            "--------------------------------------------------\n",
            "Algoritmo: regression_tree\n",
            "--------------------------------------------------\n",
            "Treino - Média MAE:  0.22257008350551155\n",
            "Teste - Média MAE:  0.6061242945326277\n",
            "--------------------------------------------------\n",
            "Treino - Média R2:  0.9817177291831036\n",
            "Teste - Média R2:  0.8975990921361936\n",
            "\n"
          ],
          "name": "stdout"
        },
        {
          "output_type": "stream",
          "text": [
            "/usr/local/lib/python3.6/dist-packages/sklearn/model_selection/_search.py:739: DataConversionWarning: A column-vector y was passed when a 1d array was expected. Please change the shape of y to (n_samples,), for example using ravel().\n",
            "  self.best_estimator_.fit(X, y, **fit_params)\n",
            "/usr/local/lib/python3.6/dist-packages/sklearn/model_selection/_search.py:739: DataConversionWarning: A column-vector y was passed when a 1d array was expected. Please change the shape of y to (n_samples,), for example using ravel().\n",
            "  self.best_estimator_.fit(X, y, **fit_params)\n",
            "/usr/local/lib/python3.6/dist-packages/sklearn/model_selection/_search.py:739: DataConversionWarning: A column-vector y was passed when a 1d array was expected. Please change the shape of y to (n_samples,), for example using ravel().\n",
            "  self.best_estimator_.fit(X, y, **fit_params)\n",
            "/usr/local/lib/python3.6/dist-packages/sklearn/model_selection/_search.py:739: DataConversionWarning: A column-vector y was passed when a 1d array was expected. Please change the shape of y to (n_samples,), for example using ravel().\n",
            "  self.best_estimator_.fit(X, y, **fit_params)\n",
            "/usr/local/lib/python3.6/dist-packages/sklearn/model_selection/_search.py:739: DataConversionWarning: A column-vector y was passed when a 1d array was expected. Please change the shape of y to (n_samples,), for example using ravel().\n",
            "  self.best_estimator_.fit(X, y, **fit_params)\n",
            "/usr/local/lib/python3.6/dist-packages/sklearn/model_selection/_search.py:739: DataConversionWarning: A column-vector y was passed when a 1d array was expected. Please change the shape of y to (n_samples,), for example using ravel().\n",
            "  self.best_estimator_.fit(X, y, **fit_params)\n",
            "/usr/local/lib/python3.6/dist-packages/sklearn/model_selection/_search.py:739: DataConversionWarning: A column-vector y was passed when a 1d array was expected. Please change the shape of y to (n_samples,), for example using ravel().\n",
            "  self.best_estimator_.fit(X, y, **fit_params)\n",
            "/usr/local/lib/python3.6/dist-packages/sklearn/model_selection/_search.py:739: DataConversionWarning: A column-vector y was passed when a 1d array was expected. Please change the shape of y to (n_samples,), for example using ravel().\n",
            "  self.best_estimator_.fit(X, y, **fit_params)\n",
            "/usr/local/lib/python3.6/dist-packages/sklearn/model_selection/_search.py:739: DataConversionWarning: A column-vector y was passed when a 1d array was expected. Please change the shape of y to (n_samples,), for example using ravel().\n",
            "  self.best_estimator_.fit(X, y, **fit_params)\n",
            "/usr/local/lib/python3.6/dist-packages/sklearn/model_selection/_search.py:739: DataConversionWarning: A column-vector y was passed when a 1d array was expected. Please change the shape of y to (n_samples,), for example using ravel().\n",
            "  self.best_estimator_.fit(X, y, **fit_params)\n"
          ],
          "name": "stderr"
        },
        {
          "output_type": "stream",
          "text": [
            "--------------------------------------------------\n",
            "Algoritmo: random_forest\n",
            "--------------------------------------------------\n",
            "Treino - Média MAE:  0.21629522610995436\n",
            "Teste - Média MAE:  0.4754589018208885\n",
            "--------------------------------------------------\n",
            "Treino - Média R2:  0.9879307990793867\n",
            "Teste - Média R2:  0.9431595936252121\n",
            "\n",
            "--------------------------------------------------\n",
            "Algoritmo: knn\n",
            "--------------------------------------------------\n",
            "Treino - Média MAE:  0.04022686028469271\n",
            "Teste - Média MAE:  0.6262934821835963\n",
            "--------------------------------------------------\n",
            "Treino - Média R2:  0.9981034633513406\n",
            "Teste - Média R2:  0.8828111888723397\n",
            "\n"
          ],
          "name": "stdout"
        }
      ]
    },
    {
      "cell_type": "code",
      "metadata": {
        "id": "PQymyoZUllVl",
        "colab_type": "code",
        "colab": {
          "base_uri": "https://localhost:8080/",
          "height": 34
        },
        "outputId": "8a599498-262a-439d-d48a-f37b75ac6f9a"
      },
      "source": [
        "# A regressão Ridge teve bons resultados, vou utilizar ela para criar o modelo de produção\n",
        "\n",
        "x_train, y_train, x_test, y_test = build_features(df_cars, df_cars)\n",
        "\n",
        "# treinar o modelo\n",
        "model = build_models('ridge_regression')\n",
        "model.fit(x_train, y_train)\n",
        "\n",
        "# executamos para obter a melhor parametrização para o modelo\n",
        "model.best_params_"
      ],
      "execution_count": 690,
      "outputs": [
        {
          "output_type": "execute_result",
          "data": {
            "text/plain": [
              "{'alpha': 0.0}"
            ]
          },
          "metadata": {
            "tags": []
          },
          "execution_count": 690
        }
      ]
    },
    {
      "cell_type": "code",
      "metadata": {
        "id": "OddicCFEoUIp",
        "colab_type": "code",
        "colab": {
          "base_uri": "https://localhost:8080/",
          "height": 51
        },
        "outputId": "19a8eefd-e2d3-4016-e7f9-be71cc4bf0d3"
      },
      "source": [
        "x_complete, y_complete, _, _ = build_features(df_cars, df_cars)\n",
        "\n",
        "# treinar o modelo com a melhor parametrização encontrada\n",
        "model = Ridge(normalize=True, alpha= 0)\n",
        "\n",
        "model.fit(x_complete, y_complete)\n",
        "\n",
        "model"
      ],
      "execution_count": 691,
      "outputs": [
        {
          "output_type": "execute_result",
          "data": {
            "text/plain": [
              "Ridge(alpha=0, copy_X=True, fit_intercept=True, max_iter=None, normalize=True,\n",
              "      random_state=None, solver='auto', tol=0.001)"
            ]
          },
          "metadata": {
            "tags": []
          },
          "execution_count": 691
        }
      ]
    },
    {
      "cell_type": "markdown",
      "metadata": {
        "id": "umxWBWEFpMkn",
        "colab_type": "text"
      },
      "source": [
        "### Validação Cruzada"
      ]
    },
    {
      "cell_type": "code",
      "metadata": {
        "id": "5tmVtyXvpOki",
        "colab_type": "code",
        "colab": {}
      },
      "source": [
        "cv = KFold(n_splits=10, shuffle=True)\n",
        "\n",
        "predicted = list()\n",
        "ground_truth = list()\n",
        "\n",
        "for fold, (train, test) in enumerate(cv.split(df_cars)):\n",
        "    df_train = df_cars.iloc[train]\n",
        "    df_test = df_cars.iloc[test]\n",
        "\n",
        "    x_train, y_train, x_test, y_test = build_features(df_train, df_test)\n",
        "\n",
        "    model = build_models('ridge_regression')\n",
        "    model.fit(x_train, y_train)\n",
        "\n",
        "    predicted.extend(model.predict(x_test))\n",
        "    ground_truth.extend(y_test)"
      ],
      "execution_count": 692,
      "outputs": []
    },
    {
      "cell_type": "code",
      "metadata": {
        "id": "Fehmtwh6psN0",
        "colab_type": "code",
        "colab": {
          "base_uri": "https://localhost:8080/",
          "height": 283
        },
        "outputId": "5253f716-4ea6-4463-bf17-4402e1f54dc8"
      },
      "source": [
        "fig, ax = plt.subplots()\n",
        "ax.plot([0, 35], [0, 35], 'k--')\n",
        "ax.scatter(x = predicted, y = ground_truth)\n",
        "ax.set_xlim([0, 35])\n",
        "ax.set_ylim([0, 35])\n",
        "ax.set_xlabel('Predicted')\n",
        "ax.set_ylabel('Ground Truth')\n",
        "plt.show()"
      ],
      "execution_count": 693,
      "outputs": [
        {
          "output_type": "display_data",
          "data": {
            "image/png": "[encoded data removed]",
            "text/plain": [
              "<Figure size 432x288 with 1 Axes>"
            ]
          },
          "metadata": {
            "tags": [],
            "needs_background": "light"
          }
        }
      ]
    },
    {
      "cell_type": "code",
      "metadata": {
        "id": "iH0FwMg0pzK6",
        "colab_type": "code",
        "colab": {
          "base_uri": "https://localhost:8080/",
          "height": 281
        },
        "outputId": "28d268ec-2dc6-4339-b4e0-43496ec08d08"
      },
      "source": [
        "fig, ax = plt.subplots()\n",
        "residuals = [ ground_truth[i] - predicted[i] for i in range(len(predicted)) ]\n",
        "ax.scatter(x = predicted, y = residuals)\n",
        "ax.plot([0, 35], [0, 0], 'k--')\n",
        "ax.set_xlabel('Predicted')\n",
        "ax.set_ylabel('Residuals')\n",
        "plt.show()"
      ],
      "execution_count": 694,
      "outputs": [
        {
          "output_type": "display_data",
          "data": {
            "image/png": "[encoded data removed]",
            "text/plain": [
              "<Figure size 432x288 with 1 Axes>"
            ]
          },
          "metadata": {
            "tags": [],
            "needs_background": "light"
          }
        }
      ]
    }
  ]
}